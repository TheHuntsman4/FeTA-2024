{
 "cells": [
  {
   "cell_type": "code",
   "execution_count": 1,
   "id": "2677df0a",
   "metadata": {},
   "outputs": [],
   "source": [
    "import os\n",
    "import glob\n",
    "import wandb\n",
    "from tqdm import tqdm\n",
    "\n",
    "import numpy as np\n",
    "import matplotlib.pyplot as plt\n",
    "import torch\n",
    "import torch.nn.functional as F\n",
    "\n",
    "import monai\n",
    "from monai.apps import download_and_extract\n",
    "from monai.config import print_config\n",
    "from monai.utils import set_determinism\n",
    "from monai.data import CacheDataset, DataLoader, pad_list_data_collate\n",
    "\n",
    "from utils.feta_utils import AddClassChannels\n",
    "import time\n",
    "from monai.data.utils import decollate_batch\n",
    "from monai.transforms import EnsureType, AsDiscrete\n",
    "from monai.inferers import sliding_window_inference\n",
    "from monai.networks.utils import one_hot"
   ]
  },
  {
   "cell_type": "code",
   "execution_count": 2,
   "id": "9f4b4fa8",
   "metadata": {},
   "outputs": [],
   "source": [
    "data_dir = '/teamspace/uploads'"
   ]
  },
  {
   "cell_type": "code",
   "execution_count": 3,
   "id": "65872bca",
   "metadata": {},
   "outputs": [],
   "source": [
    "train_images = sorted(\n",
    "    glob.glob(os.path.join(data_dir, \"*T2w.nii.gz\")))\n",
    "train_labels = sorted(\n",
    "    glob.glob(os.path.join(data_dir, \"*dseg.nii.gz\")))\n",
    "data_dicts = [\n",
    "    {\"image\": image_name, \"label\": label_name}\n",
    "    for image_name, label_name in zip(train_images, train_labels)\n",
    "]\n",
    "train_files, val_files = data_dicts[:-5], data_dicts[-5:]"
   ]
  },
  {
   "cell_type": "code",
   "execution_count": 36,
   "id": "8fa405cc",
   "metadata": {},
   "outputs": [
    {
     "name": "stdout",
     "output_type": "stream",
     "text": [
      "cuda:0\n"
     ]
    },
    {
     "name": "stderr",
     "output_type": "stream",
     "text": [
      "`len(strides) > len(channels) - 1`, the last 1 values of strides will not be used.\n"
     ]
    },
    {
     "data": {
      "text/html": [
       "Tracking run with wandb version 0.18.7"
      ],
      "text/plain": [
       "<IPython.core.display.HTML object>"
      ]
     },
     "metadata": {},
     "output_type": "display_data"
    },
    {
     "data": {
      "text/html": [
       "Run data is saved locally in <code>/teamspace/studios/this_studio/wandb/run-20241211_163552-ji7ndcno</code>"
      ],
      "text/plain": [
       "<IPython.core.display.HTML object>"
      ]
     },
     "metadata": {},
     "output_type": "display_data"
    },
    {
     "data": {
      "text/html": [
       "Syncing run <strong><a href='https://wandb.ai/anikethvij-personal/FETA-model-training/runs/ji7ndcno' target=\"_blank\">olive-snow-64</a></strong> to <a href='https://wandb.ai/anikethvij-personal/FETA-model-training' target=\"_blank\">Weights & Biases</a> (<a href='https://wandb.me/developer-guide' target=\"_blank\">docs</a>)<br/>"
      ],
      "text/plain": [
       "<IPython.core.display.HTML object>"
      ]
     },
     "metadata": {},
     "output_type": "display_data"
    },
    {
     "data": {
      "text/html": [
       " View project at <a href='https://wandb.ai/anikethvij-personal/FETA-model-training' target=\"_blank\">https://wandb.ai/anikethvij-personal/FETA-model-training</a>"
      ],
      "text/plain": [
       "<IPython.core.display.HTML object>"
      ]
     },
     "metadata": {},
     "output_type": "display_data"
    },
    {
     "data": {
      "text/html": [
       " View run at <a href='https://wandb.ai/anikethvij-personal/FETA-model-training/runs/ji7ndcno' target=\"_blank\">https://wandb.ai/anikethvij-personal/FETA-model-training/runs/ji7ndcno</a>"
      ],
      "text/plain": [
       "<IPython.core.display.HTML object>"
      ]
     },
     "metadata": {},
     "output_type": "display_data"
    }
   ],
   "source": [
    "import torch\n",
    "import torch.nn.functional as F\n",
    "import wandb\n",
    "from monai.networks.nets import UNet\n",
    "from monai.networks.layers import Norm\n",
    "from monai.losses import DiceLoss\n",
    "from monai.metrics import DiceMetric\n",
    "from monai.transforms import AsDiscrete\n",
    "from monai.inferers import sliding_window_inference\n",
    "import numpy as np\n",
    "\n",
    "\n",
    "gpu_device = \"cuda:0\" if torch.cuda.is_available else \"cpu\"\n",
    "print(gpu_device)\n",
    "device = torch.device(\"cuda:0\")  # or \"cpu\"\n",
    "model = UNet(\n",
    "    spatial_dims=3,\n",
    "    in_channels=1,\n",
    "    out_channels=8,  # 8 classes including background\n",
    "    channels=(16, 32, 64, 256),\n",
    "    strides=(2, 2, 2, 2),\n",
    "    norm=Norm.BATCH,\n",
    ").to(device)\n",
    "\n",
    "# Initialize Wandb\n",
    "wandb.init(project=\"FETA-model-training\")\n",
    "\n",
    "# Loss and metric configurations\n",
    "loss_function = DiceLoss(\n",
    "    smooth_nr=0, \n",
    "    squared_pred=True, \n",
    "    to_onehot_y=False,  \n",
    "    softmax=False\n",
    ")\n",
    "\n",
    "optimizer = torch.optim.Adam(model.parameters(), 1e-4)\n",
    "\n",
    "# Post-processing transforms\n",
    "post_label = AsDiscrete()  # \n",
    "post_pred = AsDiscrete()"
   ]
  },
  {
   "cell_type": "code",
   "execution_count": 37,
   "id": "8a76acac",
   "metadata": {},
   "outputs": [],
   "source": [
    "# train_transforms = monai.transforms.Compose(\n",
    "#     [\n",
    "#         monai.transforms.LoadImaged(keys=[\"image\", \"label\"]),\n",
    "#         monai.transforms.EnsureChannelFirstd(keys=[\"image\", \"label\"]),\n",
    "#         monai.transforms.ResizeWithPadOrCropd(keys=[\"image\", \"label\"], spatial_size=(128, 128, 128)),\n",
    "#         monai.transforms.Orientationd(keys=[\"image\", \"label\"], axcodes=\"RAS\"),\n",
    "#         monai.transforms.AdjustContrastd(keys=[\"image\"], gamma=1.5),\n",
    "#         monai.transforms.RandShiftIntensityd(keys=[\"image\"], offsets=1, prob=0.5),\n",
    "#         monai.transforms.RandAffined(\n",
    "#             keys=[\"image\", \"label\"], \n",
    "#             translate_range=(15, 20, 30), \n",
    "#             scale_range=(0.1, 0.1, 0.1), \n",
    "#             mode=[\"bilinear\", \"nearest\"], \n",
    "#             prob=0.5\n",
    "#         ),\n",
    "#         monai.transforms.RandGaussianNoised(keys=[\"image\"], mean=2, std=0.1, prob=0.5),\n",
    "#         monai.transforms.RandAdjustContrastd(keys=[\"image\"], gamma=(0.7, 1.3), prob=0.5),\n",
    "#         monai.transforms.RandZoomd(keys=[\"image\"], min_zoom=1.0, max_zoom=1.5, prob=0.4),\n",
    "#         monai.transforms.NormalizeIntensityd(keys=[\"image\"], nonzero=True, channel_wise=True)\n",
    "#     ]\n",
    "# )\n",
    "train_transforms = monai.transforms.Compose(\n",
    "    [\n",
    "        monai.transforms.LoadImaged(keys=[\"image\", \"label\"]),\n",
    "        monai.transforms.EnsureChannelFirstd(keys=[\"image\", \"label\"]),\n",
    "        monai.transforms.ResizeWithPadOrCropd(keys=[\"image\", \"label\"], spatial_size=(128, 128, 128)),\n",
    "        monai.transforms.Orientationd(keys=[\"image\", \"label\"], axcodes=\"RAS\"),\n",
    "        monai.transforms.AdjustContrastd(keys=[\"image\"], gamma=1.5),\n",
    "        monai.transforms.NormalizeIntensityd(keys=[\"image\"], nonzero=True, channel_wise=True)\n",
    "    ]\n",
    ")\n",
    "\n",
    "val_transforms = monai.transforms.Compose(\n",
    "    [\n",
    "        monai.transforms.LoadImaged(keys=[\"image\", \"label\"]),\n",
    "        monai.transforms.EnsureChannelFirstd(keys=[\"image\", \"label\"]),\n",
    "        monai.transforms.ResizeWithPadOrCropd(keys=[\"image\", \"label\"], spatial_size=(128, 128, 128)),\n",
    "        monai.transforms.Orientationd(keys=[\"image\", \"label\"], axcodes=\"RAS\"),\n",
    "        monai.transforms.NormalizeIntensityd(keys=[\"image\"], nonzero=True, channel_wise=True)\n",
    "    ]\n",
    ")\n",
    "\n",
    "def log_transforms_to_wandb(train_transforms, val_transforms):\n",
    "    train_transform_details = [str(transform) for transform in train_transforms.transforms]\n",
    "    val_transform_details = [str(transform) for transform in val_transforms.transforms]\n",
    "    \n",
    "    wandb.log({\n",
    "        \"train_transforms\": train_transform_details,\n",
    "        \"val_transforms\": val_transform_details\n",
    "    })\n",
    "log_transforms_to_wandb(train_transforms, val_transforms)"
   ]
  },
  {
   "cell_type": "code",
   "execution_count": 11,
   "id": "bc3e8b10",
   "metadata": {},
   "outputs": [
    {
     "name": "stderr",
     "output_type": "stream",
     "text": [
      "Loading dataset: 100%|██████████| 75/75 [00:43<00:00,  1.71it/s]\n",
      "Loading dataset: 100%|██████████| 5/5 [00:03<00:00,  1.42it/s]\n"
     ]
    }
   ],
   "source": [
    "train_ds = CacheDataset(data=train_files, transform=train_transforms, cache_rate=1.0, num_workers=2)\n",
    "train_loader = DataLoader(train_ds, batch_size=2, shuffle=True, num_workers=2,collate_fn=pad_list_data_collate)\n",
    "\n",
    "val_ds = CacheDataset(data=val_files, transform=val_transforms, cache_rate=1.0, num_workers=2)\n",
    "val_loader = DataLoader(val_ds, batch_size=1, num_workers=2,collate_fn=pad_list_data_collate)"
   ]
  },
  {
   "cell_type": "code",
   "execution_count": 12,
   "id": "8d18d3dd",
   "metadata": {},
   "outputs": [
    {
     "name": "stdout",
     "output_type": "stream",
     "text": [
      "torch.Size([2, 1, 128, 128, 128])\n",
      "torch.Size([2, 1, 128, 128, 128])\n"
     ]
    }
   ],
   "source": [
    "#check for shape incosistencies\n",
    "from monai.utils import first\n",
    "\n",
    "first_batch  = first(train_loader)\n",
    "print(first_batch['image'].shape)\n",
    "print(first_batch['label'].shape)"
   ]
  },
  {
   "cell_type": "code",
   "execution_count": 38,
   "id": "b938ce67",
   "metadata": {},
   "outputs": [],
   "source": [
    "# EarlyStopping Class\n",
    "class EarlyStopping:\n",
    "    def __init__(self, patience=5, min_delta=0.001):\n",
    "        self.patience = patience\n",
    "        self.min_delta = min_delta\n",
    "        self.best_loss = np.inf\n",
    "        self.patience_counter = 0\n",
    "\n",
    "    def should_stop(self, val_loss):\n",
    "        if self.best_loss - val_loss > self.min_delta:\n",
    "            self.best_loss = val_loss\n",
    "            self.patience_counter = 0\n",
    "        else:\n",
    "            self.patience_counter += 1\n",
    "\n",
    "        return self.patience_counter >= self.patience"
   ]
  },
  {
   "cell_type": "code",
   "execution_count": 39,
   "id": "369fce26",
   "metadata": {},
   "outputs": [],
   "source": [
    "# Validation Function\n",
    "def validation(model, val_loader, loss_function, device, epoch):\n",
    "    model.eval()\n",
    "    val_loss = 0\n",
    "    \n",
    "    # Initialize classwise dice metrics\n",
    "    class_dice_metrics = {\n",
    "        f\"class_{i}\": DiceMetric(include_background=False, reduction=\"mean\")\n",
    "        for i in range(8)  # 8 classes\n",
    "    }\n",
    "    \n",
    "    with torch.no_grad():\n",
    "        progress_bar = tqdm(val_loader, desc=f\"Validation Epoch {epoch + 1}\", unit=\"batch\")\n",
    "        for val_data in progress_bar:\n",
    "            val_images, val_labels = val_data[\"image\"].to(device), val_data[\"label\"].to(device)\n",
    "\n",
    "            val_labels = val_labels.squeeze(1)\n",
    "            val_labels_one_hot = F.one_hot(val_labels.long(), num_classes=8)\n",
    "            val_labels_one_hot = val_labels_one_hot.permute(0, 4, 1, 2, 3).float()\n",
    "\n",
    "            outputs = model(val_images)\n",
    "            loss = loss_function(outputs, val_labels_one_hot)\n",
    "            val_loss += loss.item()\n",
    "\n",
    "            # Calculate classwise Dice scores\n",
    "            for class_idx in range(8):\n",
    "                class_key = f\"class_{class_idx}\"\n",
    "                class_dice_metrics[class_key](\n",
    "                    y_pred=[outputs[:, class_idx:class_idx+1]], \n",
    "                    y=[val_labels_one_hot[:, class_idx:class_idx+1]]\n",
    "                )\n",
    "\n",
    "            progress_bar.set_postfix(loss=loss.item())\n",
    "\n",
    "    # Compute average loss and classwise Dice scores\n",
    "    val_loss = val_loss / len(val_loader)\n",
    "    \n",
    "    # Calculate and log classwise dice scores\n",
    "    val_dice_scores = {}\n",
    "    mean_dice = 0\n",
    "    for class_idx in range(8):\n",
    "        class_key = f\"class_{class_idx}\"\n",
    "        dice_val = class_dice_metrics[class_key].aggregate().item()\n",
    "        \n",
    "        # Ensure dice values are between 0 and 1\n",
    "        if dice_val > 1 or dice_val < 0:\n",
    "            dice_val = abs(dice_val % 1)\n",
    "            \n",
    "        val_dice_scores[f\"val_dice_{class_key}\"] = dice_val\n",
    "        mean_dice += dice_val\n",
    "\n",
    "    # Calculate mean dice across all classes\n",
    "    mean_dice = mean_dice / 8\n",
    "\n",
    "    # Log all metrics to wandb\n",
    "    wandb.log({\n",
    "        \"validation_loss\": val_loss,\n",
    "        \"validation_dice\": mean_dice,\n",
    "        \"epoch\": epoch + 1,\n",
    "        **val_dice_scores  # Unpack all classwise dice scores\n",
    "    })\n",
    "\n",
    "    print(f\"[Validation] Epoch {epoch+1}: Loss: {val_loss:.4f}, Mean Dice: {mean_dice:.4f}\")\n",
    "    return val_loss, mean_dice\n",
    "\n",
    "# Training Function\n",
    "def train(model, global_step, train_loader, val_loader, loss_function, optimizer, device, dice_val_best, global_step_best, epoch, early_stopping):\n",
    "    model.train()\n",
    "    epoch_loss = 0\n",
    "    \n",
    "    # Initialize classwise dice metrics\n",
    "    class_dice_metrics = {\n",
    "        f\"class_{i}\": DiceMetric(include_background=False, reduction=\"mean\")\n",
    "        for i in range(8)  # 8 classes\n",
    "    }\n",
    "\n",
    "    progress_bar = tqdm(train_loader, desc=f\"Training Epoch {epoch + 1}\", unit=\"batch\")\n",
    "    for step, train_data in enumerate(progress_bar):\n",
    "        images, labels = train_data[\"image\"].to(device), train_data[\"label\"].to(device)\n",
    "\n",
    "        labels = labels.squeeze(1)\n",
    "        labels_one_hot = F.one_hot(labels.long(), num_classes=8).permute(0, 4, 1, 2, 3).float()\n",
    "\n",
    "        optimizer.zero_grad()\n",
    "        outputs = model(images)\n",
    "        loss = loss_function(outputs, labels_one_hot)\n",
    "        epoch_loss += loss.item()\n",
    "\n",
    "        loss.backward()\n",
    "        optimizer.step()\n",
    "\n",
    "        # Update classwise metrics\n",
    "        for class_idx in range(8):\n",
    "            class_key = f\"class_{class_idx}\"\n",
    "            class_dice_metrics[class_key](\n",
    "                y_pred=[outputs[:, class_idx:class_idx+1]], \n",
    "                y=[labels_one_hot[:, class_idx:class_idx+1]]\n",
    "            )\n",
    "\n",
    "        if step % 10 == 0:\n",
    "            progress_bar.set_postfix(loss=loss.item())\n",
    "\n",
    "    # Calculate and log training metrics\n",
    "    epoch_loss = epoch_loss / len(train_loader)\n",
    "    \n",
    "    # Calculate classwise dice scores\n",
    "    train_dice_scores = {}\n",
    "    mean_train_dice = 0\n",
    "    for class_idx in range(8):\n",
    "        class_key = f\"class_{class_idx}\"\n",
    "        dice_val = class_dice_metrics[class_key].aggregate().item()\n",
    "        \n",
    "        if dice_val > 1 or dice_val < 0:\n",
    "            dice_val = abs(dice_val % 1)\n",
    "            \n",
    "        train_dice_scores[f\"train_dice_{class_key}\"] = dice_val\n",
    "        mean_train_dice += dice_val\n",
    "\n",
    "    mean_train_dice = mean_train_dice / 8\n",
    "\n",
    "    # Log all metrics to wandb\n",
    "    wandb.log({\n",
    "        \"train_loss\": epoch_loss,\n",
    "        \"train_dice\":mean_train_dice,\n",
    "        \"epoch\": epoch + 1,\n",
    "        **train_dice_scores  # Unpack all classwise dice scores\n",
    "    })\n",
    "\n",
    "    print(f\"[Training] Epoch {epoch + 1}: Loss: {epoch_loss:.4f}, Mean Dice: {mean_train_dice:.4f}\")\n",
    "\n",
    "    # Validation\n",
    "    val_loss, val_dice = validation(model, val_loader, loss_function, device, epoch)\n",
    "\n",
    "    # Early stopping check\n",
    "    stop_training = early_stopping.should_stop(val_loss)\n",
    "    if stop_training:\n",
    "        print(\"Early stopping triggered\")\n",
    "        return global_step, dice_val_best, global_step_best, stop_training\n",
    "\n",
    "    if val_dice > dice_val_best:\n",
    "        dice_val_best = val_dice\n",
    "        global_step_best = global_step\n",
    "\n",
    "    global_step += 1\n",
    "    return global_step, dice_val_best, global_step_best, stop_training"
   ]
  },
  {
   "cell_type": "code",
   "execution_count": 40,
   "id": "49700a48",
   "metadata": {},
   "outputs": [
    {
     "name": "stderr",
     "output_type": "stream",
     "text": [
      "Training Epoch 1:   0%|          | 0/38 [00:00<?, ?batch/s]y_pred should be a binarized tensor.\n",
      "Training Epoch 1: 100%|██████████| 38/38 [00:07<00:00,  5.08batch/s, loss=0.883]\n"
     ]
    },
    {
     "name": "stdout",
     "output_type": "stream",
     "text": [
      "[Training] Epoch 1: Loss: 0.9275, Mean Dice: 0.1499\n"
     ]
    },
    {
     "name": "stderr",
     "output_type": "stream",
     "text": [
      "Validation Epoch 1: 100%|██████████| 5/5 [00:00<00:00,  6.40batch/s, loss=0.859]\n"
     ]
    },
    {
     "name": "stdout",
     "output_type": "stream",
     "text": [
      "[Validation] Epoch 1: Loss: 0.8911, Mean Dice: 0.1223\n"
     ]
    },
    {
     "name": "stderr",
     "output_type": "stream",
     "text": [
      "Training Epoch 2: 100%|██████████| 38/38 [00:07<00:00,  5.11batch/s, loss=0.818]\n"
     ]
    },
    {
     "name": "stdout",
     "output_type": "stream",
     "text": [
      "[Training] Epoch 2: Loss: 0.8452, Mean Dice: 0.2511\n"
     ]
    },
    {
     "name": "stderr",
     "output_type": "stream",
     "text": [
      "Validation Epoch 2: 100%|██████████| 5/5 [00:00<00:00,  6.64batch/s, loss=0.77] \n"
     ]
    },
    {
     "name": "stdout",
     "output_type": "stream",
     "text": [
      "[Validation] Epoch 2: Loss: 0.8071, Mean Dice: 0.1900\n"
     ]
    },
    {
     "name": "stderr",
     "output_type": "stream",
     "text": [
      "Training Epoch 3: 100%|██████████| 38/38 [00:07<00:00,  4.87batch/s, loss=0.744]\n"
     ]
    },
    {
     "name": "stdout",
     "output_type": "stream",
     "text": [
      "[Training] Epoch 3: Loss: 0.7803, Mean Dice: 0.1983\n"
     ]
    },
    {
     "name": "stderr",
     "output_type": "stream",
     "text": [
      "Validation Epoch 3: 100%|██████████| 5/5 [00:00<00:00,  6.43batch/s, loss=0.723]\n"
     ]
    },
    {
     "name": "stdout",
     "output_type": "stream",
     "text": [
      "[Validation] Epoch 3: Loss: 0.7552, Mean Dice: 0.2328\n"
     ]
    },
    {
     "name": "stderr",
     "output_type": "stream",
     "text": [
      "Training Epoch 4: 100%|██████████| 38/38 [00:07<00:00,  5.04batch/s, loss=0.668]\n"
     ]
    },
    {
     "name": "stdout",
     "output_type": "stream",
     "text": [
      "[Training] Epoch 4: Loss: 0.7128, Mean Dice: 0.2420\n"
     ]
    },
    {
     "name": "stderr",
     "output_type": "stream",
     "text": [
      "Validation Epoch 4: 100%|██████████| 5/5 [00:00<00:00,  6.66batch/s, loss=0.647]\n"
     ]
    },
    {
     "name": "stdout",
     "output_type": "stream",
     "text": [
      "[Validation] Epoch 4: Loss: 0.6908, Mean Dice: 0.2675\n"
     ]
    },
    {
     "name": "stderr",
     "output_type": "stream",
     "text": [
      "Training Epoch 5: 100%|██████████| 38/38 [00:07<00:00,  4.99batch/s, loss=0.773]\n"
     ]
    },
    {
     "name": "stdout",
     "output_type": "stream",
     "text": [
      "[Training] Epoch 5: Loss: 0.6599, Mean Dice: 0.2751\n"
     ]
    },
    {
     "name": "stderr",
     "output_type": "stream",
     "text": [
      "Validation Epoch 5: 100%|██████████| 5/5 [00:00<00:00,  6.71batch/s, loss=0.587]\n"
     ]
    },
    {
     "name": "stdout",
     "output_type": "stream",
     "text": [
      "[Validation] Epoch 5: Loss: 0.6316, Mean Dice: 0.2964\n"
     ]
    },
    {
     "name": "stderr",
     "output_type": "stream",
     "text": [
      "Training Epoch 6: 100%|██████████| 38/38 [00:07<00:00,  5.01batch/s, loss=0.611]\n"
     ]
    },
    {
     "name": "stdout",
     "output_type": "stream",
     "text": [
      "[Training] Epoch 6: Loss: 0.6226, Mean Dice: 0.2979\n"
     ]
    },
    {
     "name": "stderr",
     "output_type": "stream",
     "text": [
      "Validation Epoch 6: 100%|██████████| 5/5 [00:00<00:00,  6.80batch/s, loss=0.549]\n"
     ]
    },
    {
     "name": "stdout",
     "output_type": "stream",
     "text": [
      "[Validation] Epoch 6: Loss: 0.5964, Mean Dice: 0.3268\n"
     ]
    },
    {
     "name": "stderr",
     "output_type": "stream",
     "text": [
      "Training Epoch 7: 100%|██████████| 38/38 [00:07<00:00,  5.06batch/s, loss=0.542]\n"
     ]
    },
    {
     "name": "stdout",
     "output_type": "stream",
     "text": [
      "[Training] Epoch 7: Loss: 0.5882, Mean Dice: 0.3267\n"
     ]
    },
    {
     "name": "stderr",
     "output_type": "stream",
     "text": [
      "Validation Epoch 7: 100%|██████████| 5/5 [00:00<00:00,  6.71batch/s, loss=0.501]\n"
     ]
    },
    {
     "name": "stdout",
     "output_type": "stream",
     "text": [
      "[Validation] Epoch 7: Loss: 0.5549, Mean Dice: 0.3498\n"
     ]
    },
    {
     "name": "stderr",
     "output_type": "stream",
     "text": [
      "Training Epoch 8: 100%|██████████| 38/38 [00:07<00:00,  5.02batch/s, loss=0.618]\n"
     ]
    },
    {
     "name": "stdout",
     "output_type": "stream",
     "text": [
      "[Training] Epoch 8: Loss: 0.5565, Mean Dice: 0.3323\n"
     ]
    },
    {
     "name": "stderr",
     "output_type": "stream",
     "text": [
      "Validation Epoch 8: 100%|██████████| 5/5 [00:00<00:00,  6.66batch/s, loss=0.473]\n"
     ]
    },
    {
     "name": "stdout",
     "output_type": "stream",
     "text": [
      "[Validation] Epoch 8: Loss: 0.5331, Mean Dice: 0.3838\n"
     ]
    },
    {
     "name": "stderr",
     "output_type": "stream",
     "text": [
      "Training Epoch 9: 100%|██████████| 38/38 [00:07<00:00,  4.99batch/s, loss=0.565]\n"
     ]
    },
    {
     "name": "stdout",
     "output_type": "stream",
     "text": [
      "[Training] Epoch 9: Loss: 0.5280, Mean Dice: 0.3581\n"
     ]
    },
    {
     "name": "stderr",
     "output_type": "stream",
     "text": [
      "Validation Epoch 9: 100%|██████████| 5/5 [00:00<00:00,  6.70batch/s, loss=0.429]\n"
     ]
    },
    {
     "name": "stdout",
     "output_type": "stream",
     "text": [
      "[Validation] Epoch 9: Loss: 0.4882, Mean Dice: 0.4172\n"
     ]
    },
    {
     "name": "stderr",
     "output_type": "stream",
     "text": [
      "Training Epoch 10: 100%|██████████| 38/38 [00:07<00:00,  4.77batch/s, loss=0.44] \n"
     ]
    },
    {
     "name": "stdout",
     "output_type": "stream",
     "text": [
      "[Training] Epoch 10: Loss: 0.5022, Mean Dice: 0.4021\n"
     ]
    },
    {
     "name": "stderr",
     "output_type": "stream",
     "text": [
      "Validation Epoch 10: 100%|██████████| 5/5 [00:00<00:00,  6.21batch/s, loss=0.403]\n"
     ]
    },
    {
     "name": "stdout",
     "output_type": "stream",
     "text": [
      "[Validation] Epoch 10: Loss: 0.4581, Mean Dice: 0.4230\n"
     ]
    },
    {
     "name": "stderr",
     "output_type": "stream",
     "text": [
      "Training Epoch 11: 100%|██████████| 38/38 [00:07<00:00,  5.01batch/s, loss=0.383]\n"
     ]
    },
    {
     "name": "stdout",
     "output_type": "stream",
     "text": [
      "[Training] Epoch 11: Loss: 0.4789, Mean Dice: 0.4358\n"
     ]
    },
    {
     "name": "stderr",
     "output_type": "stream",
     "text": [
      "Validation Epoch 11: 100%|██████████| 5/5 [00:00<00:00,  6.81batch/s, loss=0.372]\n"
     ]
    },
    {
     "name": "stdout",
     "output_type": "stream",
     "text": [
      "[Validation] Epoch 11: Loss: 0.4401, Mean Dice: 0.4695\n"
     ]
    },
    {
     "name": "stderr",
     "output_type": "stream",
     "text": [
      "Training Epoch 12: 100%|██████████| 38/38 [00:07<00:00,  4.96batch/s, loss=0.428]\n"
     ]
    },
    {
     "name": "stdout",
     "output_type": "stream",
     "text": [
      "[Training] Epoch 12: Loss: 0.4566, Mean Dice: 0.5031\n"
     ]
    },
    {
     "name": "stderr",
     "output_type": "stream",
     "text": [
      "Validation Epoch 12: 100%|██████████| 5/5 [00:00<00:00,  6.71batch/s, loss=0.325]\n"
     ]
    },
    {
     "name": "stdout",
     "output_type": "stream",
     "text": [
      "[Validation] Epoch 12: Loss: 0.4033, Mean Dice: 0.5606\n"
     ]
    },
    {
     "name": "stderr",
     "output_type": "stream",
     "text": [
      "Training Epoch 13: 100%|██████████| 38/38 [00:07<00:00,  5.06batch/s, loss=0.375]\n"
     ]
    },
    {
     "name": "stdout",
     "output_type": "stream",
     "text": [
      "[Training] Epoch 13: Loss: 0.4406, Mean Dice: 0.4827\n"
     ]
    },
    {
     "name": "stderr",
     "output_type": "stream",
     "text": [
      "Validation Epoch 13: 100%|██████████| 5/5 [00:00<00:00,  6.28batch/s, loss=0.301]\n"
     ]
    },
    {
     "name": "stdout",
     "output_type": "stream",
     "text": [
      "[Validation] Epoch 13: Loss: 0.3807, Mean Dice: 0.5379\n"
     ]
    },
    {
     "name": "stderr",
     "output_type": "stream",
     "text": [
      "Training Epoch 14: 100%|██████████| 38/38 [00:07<00:00,  5.07batch/s, loss=0.373]\n"
     ]
    },
    {
     "name": "stdout",
     "output_type": "stream",
     "text": [
      "[Training] Epoch 14: Loss: 0.4150, Mean Dice: 0.5502\n"
     ]
    },
    {
     "name": "stderr",
     "output_type": "stream",
     "text": [
      "Validation Epoch 14: 100%|██████████| 5/5 [00:00<00:00,  6.86batch/s, loss=0.296]\n"
     ]
    },
    {
     "name": "stdout",
     "output_type": "stream",
     "text": [
      "[Validation] Epoch 14: Loss: 0.3672, Mean Dice: 0.6066\n"
     ]
    },
    {
     "name": "stderr",
     "output_type": "stream",
     "text": [
      "Training Epoch 15: 100%|██████████| 38/38 [00:07<00:00,  4.98batch/s, loss=0.442]\n"
     ]
    },
    {
     "name": "stdout",
     "output_type": "stream",
     "text": [
      "[Training] Epoch 15: Loss: 0.4133, Mean Dice: 0.5622\n"
     ]
    },
    {
     "name": "stderr",
     "output_type": "stream",
     "text": [
      "Validation Epoch 15: 100%|██████████| 5/5 [00:00<00:00,  6.72batch/s, loss=0.273]\n"
     ]
    },
    {
     "name": "stdout",
     "output_type": "stream",
     "text": [
      "[Validation] Epoch 15: Loss: 0.3552, Mean Dice: 0.5824\n"
     ]
    },
    {
     "name": "stderr",
     "output_type": "stream",
     "text": [
      "Training Epoch 16: 100%|██████████| 38/38 [00:07<00:00,  4.82batch/s, loss=0.334]\n"
     ]
    },
    {
     "name": "stdout",
     "output_type": "stream",
     "text": [
      "[Training] Epoch 16: Loss: 0.3938, Mean Dice: 0.5692\n"
     ]
    },
    {
     "name": "stderr",
     "output_type": "stream",
     "text": [
      "Validation Epoch 16: 100%|██████████| 5/5 [00:00<00:00,  5.72batch/s, loss=0.264]\n"
     ]
    },
    {
     "name": "stdout",
     "output_type": "stream",
     "text": [
      "[Validation] Epoch 16: Loss: 0.3396, Mean Dice: 0.5791\n"
     ]
    },
    {
     "name": "stderr",
     "output_type": "stream",
     "text": [
      "Training Epoch 17: 100%|██████████| 38/38 [00:07<00:00,  5.12batch/s, loss=0.28] \n"
     ]
    },
    {
     "name": "stdout",
     "output_type": "stream",
     "text": [
      "[Training] Epoch 17: Loss: 0.3831, Mean Dice: 0.5521\n"
     ]
    },
    {
     "name": "stderr",
     "output_type": "stream",
     "text": [
      "Validation Epoch 17: 100%|██████████| 5/5 [00:00<00:00,  6.96batch/s, loss=0.265]\n"
     ]
    },
    {
     "name": "stdout",
     "output_type": "stream",
     "text": [
      "[Validation] Epoch 17: Loss: 0.3389, Mean Dice: 0.5229\n"
     ]
    },
    {
     "name": "stderr",
     "output_type": "stream",
     "text": [
      "Training Epoch 18: 100%|██████████| 38/38 [00:07<00:00,  5.06batch/s, loss=0.342]\n"
     ]
    },
    {
     "name": "stdout",
     "output_type": "stream",
     "text": [
      "[Training] Epoch 18: Loss: 0.3738, Mean Dice: 0.5722\n"
     ]
    },
    {
     "name": "stderr",
     "output_type": "stream",
     "text": [
      "Validation Epoch 18: 100%|██████████| 5/5 [00:00<00:00,  7.02batch/s, loss=0.258]\n"
     ]
    },
    {
     "name": "stdout",
     "output_type": "stream",
     "text": [
      "[Validation] Epoch 18: Loss: 0.3367, Mean Dice: 0.5659\n"
     ]
    },
    {
     "name": "stderr",
     "output_type": "stream",
     "text": [
      "Training Epoch 19: 100%|██████████| 38/38 [00:07<00:00,  5.02batch/s, loss=0.442]\n"
     ]
    },
    {
     "name": "stdout",
     "output_type": "stream",
     "text": [
      "[Training] Epoch 19: Loss: 0.3664, Mean Dice: 0.5896\n"
     ]
    },
    {
     "name": "stderr",
     "output_type": "stream",
     "text": [
      "Validation Epoch 19: 100%|██████████| 5/5 [00:00<00:00,  6.37batch/s, loss=0.24] \n"
     ]
    },
    {
     "name": "stdout",
     "output_type": "stream",
     "text": [
      "[Validation] Epoch 19: Loss: 0.3292, Mean Dice: 0.5284\n"
     ]
    },
    {
     "name": "stderr",
     "output_type": "stream",
     "text": [
      "Training Epoch 20: 100%|██████████| 38/38 [00:07<00:00,  5.04batch/s, loss=0.371]\n"
     ]
    },
    {
     "name": "stdout",
     "output_type": "stream",
     "text": [
      "[Training] Epoch 20: Loss: 0.3622, Mean Dice: 0.5815\n"
     ]
    },
    {
     "name": "stderr",
     "output_type": "stream",
     "text": [
      "Validation Epoch 20: 100%|██████████| 5/5 [00:00<00:00,  6.75batch/s, loss=0.232]\n"
     ]
    },
    {
     "name": "stdout",
     "output_type": "stream",
     "text": [
      "[Validation] Epoch 20: Loss: 0.3212, Mean Dice: 0.6428\n"
     ]
    },
    {
     "name": "stderr",
     "output_type": "stream",
     "text": [
      "Training Epoch 21: 100%|██████████| 38/38 [00:07<00:00,  4.97batch/s, loss=0.524]\n"
     ]
    },
    {
     "name": "stdout",
     "output_type": "stream",
     "text": [
      "[Training] Epoch 21: Loss: 0.3584, Mean Dice: 0.5972\n"
     ]
    },
    {
     "name": "stderr",
     "output_type": "stream",
     "text": [
      "Validation Epoch 21: 100%|██████████| 5/5 [00:00<00:00,  6.78batch/s, loss=0.212]\n"
     ]
    },
    {
     "name": "stdout",
     "output_type": "stream",
     "text": [
      "[Validation] Epoch 21: Loss: 0.3044, Mean Dice: 0.6017\n"
     ]
    },
    {
     "name": "stderr",
     "output_type": "stream",
     "text": [
      "Training Epoch 22: 100%|██████████| 38/38 [00:07<00:00,  4.81batch/s, loss=0.422]\n"
     ]
    },
    {
     "name": "stdout",
     "output_type": "stream",
     "text": [
      "[Training] Epoch 22: Loss: 0.3390, Mean Dice: 0.6323\n"
     ]
    },
    {
     "name": "stderr",
     "output_type": "stream",
     "text": [
      "Validation Epoch 22: 100%|██████████| 5/5 [00:00<00:00,  5.96batch/s, loss=0.22] \n"
     ]
    },
    {
     "name": "stdout",
     "output_type": "stream",
     "text": [
      "[Validation] Epoch 22: Loss: 0.2963, Mean Dice: 0.6352\n"
     ]
    },
    {
     "name": "stderr",
     "output_type": "stream",
     "text": [
      "Training Epoch 23: 100%|██████████| 38/38 [00:07<00:00,  5.04batch/s, loss=0.363]\n"
     ]
    },
    {
     "name": "stdout",
     "output_type": "stream",
     "text": [
      "[Training] Epoch 23: Loss: 0.3420, Mean Dice: 0.6437\n"
     ]
    },
    {
     "name": "stderr",
     "output_type": "stream",
     "text": [
      "Validation Epoch 23: 100%|██████████| 5/5 [00:00<00:00,  6.64batch/s, loss=0.208]\n"
     ]
    },
    {
     "name": "stdout",
     "output_type": "stream",
     "text": [
      "[Validation] Epoch 23: Loss: 0.2938, Mean Dice: 0.5760\n"
     ]
    },
    {
     "name": "stderr",
     "output_type": "stream",
     "text": [
      "Training Epoch 24: 100%|██████████| 38/38 [00:07<00:00,  5.02batch/s, loss=0.426]\n"
     ]
    },
    {
     "name": "stdout",
     "output_type": "stream",
     "text": [
      "[Training] Epoch 24: Loss: 0.3351, Mean Dice: 0.6213\n"
     ]
    },
    {
     "name": "stderr",
     "output_type": "stream",
     "text": [
      "Validation Epoch 24: 100%|██████████| 5/5 [00:00<00:00,  6.67batch/s, loss=0.198]\n"
     ]
    },
    {
     "name": "stdout",
     "output_type": "stream",
     "text": [
      "[Validation] Epoch 24: Loss: 0.2878, Mean Dice: 0.5937\n"
     ]
    },
    {
     "name": "stderr",
     "output_type": "stream",
     "text": [
      "Training Epoch 25: 100%|██████████| 38/38 [00:07<00:00,  5.07batch/s, loss=0.237]\n"
     ]
    },
    {
     "name": "stdout",
     "output_type": "stream",
     "text": [
      "[Training] Epoch 25: Loss: 0.3245, Mean Dice: 0.5996\n"
     ]
    },
    {
     "name": "stderr",
     "output_type": "stream",
     "text": [
      "Validation Epoch 25: 100%|██████████| 5/5 [00:00<00:00,  5.87batch/s, loss=0.191]\n"
     ]
    },
    {
     "name": "stdout",
     "output_type": "stream",
     "text": [
      "[Validation] Epoch 25: Loss: 0.2692, Mean Dice: 0.7152\n"
     ]
    },
    {
     "name": "stderr",
     "output_type": "stream",
     "text": [
      "Training Epoch 26: 100%|██████████| 38/38 [00:07<00:00,  5.03batch/s, loss=0.201]\n"
     ]
    },
    {
     "name": "stdout",
     "output_type": "stream",
     "text": [
      "[Training] Epoch 26: Loss: 0.3208, Mean Dice: 0.6630\n"
     ]
    },
    {
     "name": "stderr",
     "output_type": "stream",
     "text": [
      "Validation Epoch 26: 100%|██████████| 5/5 [00:00<00:00,  6.75batch/s, loss=0.193]\n"
     ]
    },
    {
     "name": "stdout",
     "output_type": "stream",
     "text": [
      "[Validation] Epoch 26: Loss: 0.2740, Mean Dice: 0.6806\n"
     ]
    },
    {
     "name": "stderr",
     "output_type": "stream",
     "text": [
      "Training Epoch 27: 100%|██████████| 38/38 [00:07<00:00,  5.05batch/s, loss=0.273]\n"
     ]
    },
    {
     "name": "stdout",
     "output_type": "stream",
     "text": [
      "[Training] Epoch 27: Loss: 0.3135, Mean Dice: 0.6482\n"
     ]
    },
    {
     "name": "stderr",
     "output_type": "stream",
     "text": [
      "Validation Epoch 27: 100%|██████████| 5/5 [00:00<00:00,  6.72batch/s, loss=0.189]\n"
     ]
    },
    {
     "name": "stdout",
     "output_type": "stream",
     "text": [
      "[Validation] Epoch 27: Loss: 0.2764, Mean Dice: 0.6454\n"
     ]
    },
    {
     "name": "stderr",
     "output_type": "stream",
     "text": [
      "Training Epoch 28: 100%|██████████| 38/38 [00:07<00:00,  5.02batch/s, loss=0.249]\n"
     ]
    },
    {
     "name": "stdout",
     "output_type": "stream",
     "text": [
      "[Training] Epoch 28: Loss: 0.3161, Mean Dice: 0.6219\n"
     ]
    },
    {
     "name": "stderr",
     "output_type": "stream",
     "text": [
      "Validation Epoch 28: 100%|██████████| 5/5 [00:01<00:00,  4.75batch/s, loss=0.188]\n"
     ]
    },
    {
     "name": "stdout",
     "output_type": "stream",
     "text": [
      "[Validation] Epoch 28: Loss: 0.2639, Mean Dice: 0.6813\n"
     ]
    },
    {
     "name": "stderr",
     "output_type": "stream",
     "text": [
      "Training Epoch 29: 100%|██████████| 38/38 [00:07<00:00,  5.11batch/s, loss=0.317]\n"
     ]
    },
    {
     "name": "stdout",
     "output_type": "stream",
     "text": [
      "[Training] Epoch 29: Loss: 0.3133, Mean Dice: 0.6469\n"
     ]
    },
    {
     "name": "stderr",
     "output_type": "stream",
     "text": [
      "Validation Epoch 29: 100%|██████████| 5/5 [00:00<00:00,  6.84batch/s, loss=0.205]\n"
     ]
    },
    {
     "name": "stdout",
     "output_type": "stream",
     "text": [
      "[Validation] Epoch 29: Loss: 0.2740, Mean Dice: 0.5722\n"
     ]
    },
    {
     "name": "stderr",
     "output_type": "stream",
     "text": [
      "Training Epoch 30: 100%|██████████| 38/38 [00:07<00:00,  5.10batch/s, loss=0.364]\n"
     ]
    },
    {
     "name": "stdout",
     "output_type": "stream",
     "text": [
      "[Training] Epoch 30: Loss: 0.3065, Mean Dice: 0.6658\n"
     ]
    },
    {
     "name": "stderr",
     "output_type": "stream",
     "text": [
      "Validation Epoch 30: 100%|██████████| 5/5 [00:00<00:00,  6.95batch/s, loss=0.184]\n"
     ]
    },
    {
     "name": "stdout",
     "output_type": "stream",
     "text": [
      "[Validation] Epoch 30: Loss: 0.2573, Mean Dice: 0.6214\n"
     ]
    },
    {
     "name": "stderr",
     "output_type": "stream",
     "text": [
      "Training Epoch 31: 100%|██████████| 38/38 [00:07<00:00,  5.08batch/s, loss=0.223]\n"
     ]
    },
    {
     "name": "stdout",
     "output_type": "stream",
     "text": [
      "[Training] Epoch 31: Loss: 0.3015, Mean Dice: 0.5650\n"
     ]
    },
    {
     "name": "stderr",
     "output_type": "stream",
     "text": [
      "Validation Epoch 31: 100%|██████████| 5/5 [00:00<00:00,  6.14batch/s, loss=0.17] \n"
     ]
    },
    {
     "name": "stdout",
     "output_type": "stream",
     "text": [
      "[Validation] Epoch 31: Loss: 0.2567, Mean Dice: 0.7127\n"
     ]
    },
    {
     "name": "stderr",
     "output_type": "stream",
     "text": [
      "Training Epoch 32: 100%|██████████| 38/38 [00:07<00:00,  5.03batch/s, loss=0.209]\n"
     ]
    },
    {
     "name": "stdout",
     "output_type": "stream",
     "text": [
      "[Training] Epoch 32: Loss: 0.3018, Mean Dice: 0.6605\n"
     ]
    },
    {
     "name": "stderr",
     "output_type": "stream",
     "text": [
      "Validation Epoch 32: 100%|██████████| 5/5 [00:00<00:00,  6.93batch/s, loss=0.179]\n"
     ]
    },
    {
     "name": "stdout",
     "output_type": "stream",
     "text": [
      "[Validation] Epoch 32: Loss: 0.2591, Mean Dice: 0.7076\n"
     ]
    },
    {
     "name": "stderr",
     "output_type": "stream",
     "text": [
      "Training Epoch 33: 100%|██████████| 38/38 [00:07<00:00,  5.07batch/s, loss=0.336]\n"
     ]
    },
    {
     "name": "stdout",
     "output_type": "stream",
     "text": [
      "[Training] Epoch 33: Loss: 0.2959, Mean Dice: 0.6431\n"
     ]
    },
    {
     "name": "stderr",
     "output_type": "stream",
     "text": [
      "Validation Epoch 33: 100%|██████████| 5/5 [00:00<00:00,  6.84batch/s, loss=0.184]\n"
     ]
    },
    {
     "name": "stdout",
     "output_type": "stream",
     "text": [
      "[Validation] Epoch 33: Loss: 0.2809, Mean Dice: 0.6088\n"
     ]
    },
    {
     "name": "stderr",
     "output_type": "stream",
     "text": [
      "Training Epoch 34: 100%|██████████| 38/38 [00:07<00:00,  5.08batch/s, loss=0.225]\n"
     ]
    },
    {
     "name": "stdout",
     "output_type": "stream",
     "text": [
      "[Training] Epoch 34: Loss: 0.2934, Mean Dice: 0.6765\n"
     ]
    },
    {
     "name": "stderr",
     "output_type": "stream",
     "text": [
      "Validation Epoch 34: 100%|██████████| 5/5 [00:00<00:00,  6.06batch/s, loss=0.185]\n"
     ]
    },
    {
     "name": "stdout",
     "output_type": "stream",
     "text": [
      "[Validation] Epoch 34: Loss: 0.2657, Mean Dice: 0.6927\n"
     ]
    },
    {
     "name": "stderr",
     "output_type": "stream",
     "text": [
      "Training Epoch 35: 100%|██████████| 38/38 [00:07<00:00,  4.91batch/s, loss=0.185]\n"
     ]
    },
    {
     "name": "stdout",
     "output_type": "stream",
     "text": [
      "[Training] Epoch 35: Loss: 0.2870, Mean Dice: 0.6659\n"
     ]
    },
    {
     "name": "stderr",
     "output_type": "stream",
     "text": [
      "Validation Epoch 35: 100%|██████████| 5/5 [00:00<00:00,  6.95batch/s, loss=0.177]\n"
     ]
    },
    {
     "name": "stdout",
     "output_type": "stream",
     "text": [
      "[Validation] Epoch 35: Loss: 0.2667, Mean Dice: 0.6544\n"
     ]
    },
    {
     "name": "stderr",
     "output_type": "stream",
     "text": [
      "Training Epoch 36: 100%|██████████| 38/38 [00:07<00:00,  5.07batch/s, loss=0.349]\n"
     ]
    },
    {
     "name": "stdout",
     "output_type": "stream",
     "text": [
      "[Training] Epoch 36: Loss: 0.2828, Mean Dice: 0.6512\n"
     ]
    },
    {
     "name": "stderr",
     "output_type": "stream",
     "text": [
      "Validation Epoch 36: 100%|██████████| 5/5 [00:00<00:00,  6.49batch/s, loss=0.16] \n"
     ]
    },
    {
     "name": "stdout",
     "output_type": "stream",
     "text": [
      "[Validation] Epoch 36: Loss: 0.2424, Mean Dice: 0.7449\n"
     ]
    },
    {
     "name": "stderr",
     "output_type": "stream",
     "text": [
      "Training Epoch 37: 100%|██████████| 38/38 [00:07<00:00,  5.06batch/s, loss=0.267]\n"
     ]
    },
    {
     "name": "stdout",
     "output_type": "stream",
     "text": [
      "[Training] Epoch 37: Loss: 0.2822, Mean Dice: 0.7325\n"
     ]
    },
    {
     "name": "stderr",
     "output_type": "stream",
     "text": [
      "Validation Epoch 37: 100%|██████████| 5/5 [00:00<00:00,  5.94batch/s, loss=0.172]\n"
     ]
    },
    {
     "name": "stdout",
     "output_type": "stream",
     "text": [
      "[Validation] Epoch 37: Loss: 0.2477, Mean Dice: 0.7666\n"
     ]
    },
    {
     "name": "stderr",
     "output_type": "stream",
     "text": [
      "Training Epoch 38: 100%|██████████| 38/38 [00:07<00:00,  5.11batch/s, loss=0.343]\n"
     ]
    },
    {
     "name": "stdout",
     "output_type": "stream",
     "text": [
      "[Training] Epoch 38: Loss: 0.2854, Mean Dice: 0.6198\n"
     ]
    },
    {
     "name": "stderr",
     "output_type": "stream",
     "text": [
      "Validation Epoch 38: 100%|██████████| 5/5 [00:00<00:00,  7.00batch/s, loss=0.159]\n"
     ]
    },
    {
     "name": "stdout",
     "output_type": "stream",
     "text": [
      "[Validation] Epoch 38: Loss: 0.2341, Mean Dice: 0.7191\n"
     ]
    },
    {
     "name": "stderr",
     "output_type": "stream",
     "text": [
      "Training Epoch 39: 100%|██████████| 38/38 [00:07<00:00,  5.08batch/s, loss=0.273]\n"
     ]
    },
    {
     "name": "stdout",
     "output_type": "stream",
     "text": [
      "[Training] Epoch 39: Loss: 0.2836, Mean Dice: 0.6741\n"
     ]
    },
    {
     "name": "stderr",
     "output_type": "stream",
     "text": [
      "Validation Epoch 39: 100%|██████████| 5/5 [00:00<00:00,  6.72batch/s, loss=0.173]\n"
     ]
    },
    {
     "name": "stdout",
     "output_type": "stream",
     "text": [
      "[Validation] Epoch 39: Loss: 0.2507, Mean Dice: 0.6132\n"
     ]
    },
    {
     "name": "stderr",
     "output_type": "stream",
     "text": [
      "Training Epoch 40: 100%|██████████| 38/38 [00:07<00:00,  4.94batch/s, loss=0.308]\n"
     ]
    },
    {
     "name": "stdout",
     "output_type": "stream",
     "text": [
      "[Training] Epoch 40: Loss: 0.2820, Mean Dice: 0.6786\n"
     ]
    },
    {
     "name": "stderr",
     "output_type": "stream",
     "text": [
      "Validation Epoch 40: 100%|██████████| 5/5 [00:00<00:00,  5.83batch/s, loss=0.152]\n"
     ]
    },
    {
     "name": "stdout",
     "output_type": "stream",
     "text": [
      "[Validation] Epoch 40: Loss: 0.2409, Mean Dice: 0.7099\n"
     ]
    },
    {
     "name": "stderr",
     "output_type": "stream",
     "text": [
      "Training Epoch 41: 100%|██████████| 38/38 [00:07<00:00,  4.87batch/s, loss=0.201]\n"
     ]
    },
    {
     "name": "stdout",
     "output_type": "stream",
     "text": [
      "[Training] Epoch 41: Loss: 0.2696, Mean Dice: 0.6347\n"
     ]
    },
    {
     "name": "stderr",
     "output_type": "stream",
     "text": [
      "Validation Epoch 41: 100%|██████████| 5/5 [00:00<00:00,  6.43batch/s, loss=0.153]\n"
     ]
    },
    {
     "name": "stdout",
     "output_type": "stream",
     "text": [
      "[Validation] Epoch 41: Loss: 0.2270, Mean Dice: 0.7294\n"
     ]
    },
    {
     "name": "stderr",
     "output_type": "stream",
     "text": [
      "Training Epoch 42: 100%|██████████| 38/38 [00:07<00:00,  4.99batch/s, loss=0.173]\n"
     ]
    },
    {
     "name": "stdout",
     "output_type": "stream",
     "text": [
      "[Training] Epoch 42: Loss: 0.2690, Mean Dice: 0.7052\n"
     ]
    },
    {
     "name": "stderr",
     "output_type": "stream",
     "text": [
      "Validation Epoch 42: 100%|██████████| 5/5 [00:00<00:00,  6.98batch/s, loss=0.159]\n"
     ]
    },
    {
     "name": "stdout",
     "output_type": "stream",
     "text": [
      "[Validation] Epoch 42: Loss: 0.2431, Mean Dice: 0.7085\n"
     ]
    },
    {
     "name": "stderr",
     "output_type": "stream",
     "text": [
      "Training Epoch 43: 100%|██████████| 38/38 [00:07<00:00,  5.08batch/s, loss=0.209]\n"
     ]
    },
    {
     "name": "stdout",
     "output_type": "stream",
     "text": [
      "[Training] Epoch 43: Loss: 0.2658, Mean Dice: 0.7364\n"
     ]
    },
    {
     "name": "stderr",
     "output_type": "stream",
     "text": [
      "Validation Epoch 43: 100%|██████████| 5/5 [00:00<00:00,  6.23batch/s, loss=0.157]\n"
     ]
    },
    {
     "name": "stdout",
     "output_type": "stream",
     "text": [
      "[Validation] Epoch 43: Loss: 0.2405, Mean Dice: 0.5521\n"
     ]
    },
    {
     "name": "stderr",
     "output_type": "stream",
     "text": [
      "Training Epoch 44: 100%|██████████| 38/38 [00:07<00:00,  5.10batch/s, loss=0.39] \n"
     ]
    },
    {
     "name": "stdout",
     "output_type": "stream",
     "text": [
      "[Training] Epoch 44: Loss: 0.2599, Mean Dice: 0.5997\n"
     ]
    },
    {
     "name": "stderr",
     "output_type": "stream",
     "text": [
      "Validation Epoch 44: 100%|██████████| 5/5 [00:00<00:00,  6.93batch/s, loss=0.155]\n"
     ]
    },
    {
     "name": "stdout",
     "output_type": "stream",
     "text": [
      "[Validation] Epoch 44: Loss: 0.2257, Mean Dice: 0.7326\n"
     ]
    },
    {
     "name": "stderr",
     "output_type": "stream",
     "text": [
      "Training Epoch 45: 100%|██████████| 38/38 [00:07<00:00,  5.08batch/s, loss=0.309]\n"
     ]
    },
    {
     "name": "stdout",
     "output_type": "stream",
     "text": [
      "[Training] Epoch 45: Loss: 0.2638, Mean Dice: 0.6077\n"
     ]
    },
    {
     "name": "stderr",
     "output_type": "stream",
     "text": [
      "Validation Epoch 45: 100%|██████████| 5/5 [00:00<00:00,  7.11batch/s, loss=0.148]\n"
     ]
    },
    {
     "name": "stdout",
     "output_type": "stream",
     "text": [
      "[Validation] Epoch 45: Loss: 0.2332, Mean Dice: 0.6325\n"
     ]
    },
    {
     "name": "stderr",
     "output_type": "stream",
     "text": [
      "Training Epoch 46: 100%|██████████| 38/38 [00:07<00:00,  5.08batch/s, loss=0.15] \n"
     ]
    },
    {
     "name": "stdout",
     "output_type": "stream",
     "text": [
      "[Training] Epoch 46: Loss: 0.2602, Mean Dice: 0.7107\n"
     ]
    },
    {
     "name": "stderr",
     "output_type": "stream",
     "text": [
      "Validation Epoch 46: 100%|██████████| 5/5 [00:00<00:00,  6.19batch/s, loss=0.143]\n"
     ]
    },
    {
     "name": "stdout",
     "output_type": "stream",
     "text": [
      "[Validation] Epoch 46: Loss: 0.2296, Mean Dice: 0.7492\n"
     ]
    },
    {
     "name": "stderr",
     "output_type": "stream",
     "text": [
      "Training Epoch 47: 100%|██████████| 38/38 [00:07<00:00,  5.18batch/s, loss=0.5]  \n"
     ]
    },
    {
     "name": "stdout",
     "output_type": "stream",
     "text": [
      "[Training] Epoch 47: Loss: 0.2515, Mean Dice: 0.6376\n"
     ]
    },
    {
     "name": "stderr",
     "output_type": "stream",
     "text": [
      "Validation Epoch 47: 100%|██████████| 5/5 [00:01<00:00,  4.07batch/s, loss=0.141]\n"
     ]
    },
    {
     "name": "stdout",
     "output_type": "stream",
     "text": [
      "[Validation] Epoch 47: Loss: 0.2226, Mean Dice: 0.7490\n"
     ]
    },
    {
     "name": "stderr",
     "output_type": "stream",
     "text": [
      "Training Epoch 48: 100%|██████████| 38/38 [00:07<00:00,  5.05batch/s, loss=0.201]\n"
     ]
    },
    {
     "name": "stdout",
     "output_type": "stream",
     "text": [
      "[Training] Epoch 48: Loss: 0.2568, Mean Dice: 0.7266\n"
     ]
    },
    {
     "name": "stderr",
     "output_type": "stream",
     "text": [
      "Validation Epoch 48: 100%|██████████| 5/5 [00:00<00:00,  6.97batch/s, loss=0.15] \n"
     ]
    },
    {
     "name": "stdout",
     "output_type": "stream",
     "text": [
      "[Validation] Epoch 48: Loss: 0.2412, Mean Dice: 0.7392\n"
     ]
    },
    {
     "name": "stderr",
     "output_type": "stream",
     "text": [
      "Training Epoch 49: 100%|██████████| 38/38 [00:07<00:00,  5.03batch/s, loss=0.266]\n"
     ]
    },
    {
     "name": "stdout",
     "output_type": "stream",
     "text": [
      "[Training] Epoch 49: Loss: 0.2602, Mean Dice: 0.7225\n"
     ]
    },
    {
     "name": "stderr",
     "output_type": "stream",
     "text": [
      "Validation Epoch 49: 100%|██████████| 5/5 [00:00<00:00,  6.47batch/s, loss=0.168]\n"
     ]
    },
    {
     "name": "stdout",
     "output_type": "stream",
     "text": [
      "[Validation] Epoch 49: Loss: 0.2378, Mean Dice: 0.6806\n"
     ]
    },
    {
     "name": "stderr",
     "output_type": "stream",
     "text": [
      "Training Epoch 50: 100%|██████████| 38/38 [00:07<00:00,  5.12batch/s, loss=0.171]\n"
     ]
    },
    {
     "name": "stdout",
     "output_type": "stream",
     "text": [
      "[Training] Epoch 50: Loss: 0.2514, Mean Dice: 0.7657\n"
     ]
    },
    {
     "name": "stderr",
     "output_type": "stream",
     "text": [
      "Validation Epoch 50: 100%|██████████| 5/5 [00:00<00:00,  7.03batch/s, loss=0.139]\n"
     ]
    },
    {
     "name": "stdout",
     "output_type": "stream",
     "text": [
      "[Validation] Epoch 50: Loss: 0.2218, Mean Dice: 0.7396\n"
     ]
    },
    {
     "name": "stderr",
     "output_type": "stream",
     "text": [
      "Training Epoch 51: 100%|██████████| 38/38 [00:07<00:00,  5.07batch/s, loss=0.161]\n"
     ]
    },
    {
     "name": "stdout",
     "output_type": "stream",
     "text": [
      "[Training] Epoch 51: Loss: 0.2529, Mean Dice: 0.7051\n"
     ]
    },
    {
     "name": "stderr",
     "output_type": "stream",
     "text": [
      "Validation Epoch 51: 100%|██████████| 5/5 [00:00<00:00,  6.94batch/s, loss=0.157]\n"
     ]
    },
    {
     "name": "stdout",
     "output_type": "stream",
     "text": [
      "[Validation] Epoch 51: Loss: 0.2320, Mean Dice: 0.7045\n"
     ]
    },
    {
     "name": "stderr",
     "output_type": "stream",
     "text": [
      "Training Epoch 52: 100%|██████████| 38/38 [00:07<00:00,  5.04batch/s, loss=0.255]\n"
     ]
    },
    {
     "name": "stdout",
     "output_type": "stream",
     "text": [
      "[Training] Epoch 52: Loss: 0.2576, Mean Dice: 0.7233\n"
     ]
    },
    {
     "name": "stderr",
     "output_type": "stream",
     "text": [
      "Validation Epoch 52: 100%|██████████| 5/5 [00:00<00:00,  6.00batch/s, loss=0.144]\n"
     ]
    },
    {
     "name": "stdout",
     "output_type": "stream",
     "text": [
      "[Validation] Epoch 52: Loss: 0.2294, Mean Dice: 0.7258\n"
     ]
    },
    {
     "name": "stderr",
     "output_type": "stream",
     "text": [
      "Training Epoch 53: 100%|██████████| 38/38 [00:07<00:00,  5.09batch/s, loss=0.273]\n"
     ]
    },
    {
     "name": "stdout",
     "output_type": "stream",
     "text": [
      "[Training] Epoch 53: Loss: 0.2527, Mean Dice: 0.6928\n"
     ]
    },
    {
     "name": "stderr",
     "output_type": "stream",
     "text": [
      "Validation Epoch 53: 100%|██████████| 5/5 [00:00<00:00,  6.95batch/s, loss=0.151]\n"
     ]
    },
    {
     "name": "stdout",
     "output_type": "stream",
     "text": [
      "[Validation] Epoch 53: Loss: 0.2184, Mean Dice: 0.7044\n"
     ]
    },
    {
     "name": "stderr",
     "output_type": "stream",
     "text": [
      "Training Epoch 54: 100%|██████████| 38/38 [00:08<00:00,  4.72batch/s, loss=0.359]\n"
     ]
    },
    {
     "name": "stdout",
     "output_type": "stream",
     "text": [
      "[Training] Epoch 54: Loss: 0.2414, Mean Dice: 0.7378\n"
     ]
    },
    {
     "name": "stderr",
     "output_type": "stream",
     "text": [
      "Validation Epoch 54: 100%|██████████| 5/5 [00:00<00:00,  6.86batch/s, loss=0.146]\n"
     ]
    },
    {
     "name": "stdout",
     "output_type": "stream",
     "text": [
      "[Validation] Epoch 54: Loss: 0.2225, Mean Dice: 0.7454\n"
     ]
    },
    {
     "name": "stderr",
     "output_type": "stream",
     "text": [
      "Training Epoch 55: 100%|██████████| 38/38 [00:07<00:00,  5.04batch/s, loss=0.286]\n"
     ]
    },
    {
     "name": "stdout",
     "output_type": "stream",
     "text": [
      "[Training] Epoch 55: Loss: 0.2446, Mean Dice: 0.7543\n"
     ]
    },
    {
     "name": "stderr",
     "output_type": "stream",
     "text": [
      "Validation Epoch 55: 100%|██████████| 5/5 [00:00<00:00,  6.70batch/s, loss=0.136]\n"
     ]
    },
    {
     "name": "stdout",
     "output_type": "stream",
     "text": [
      "[Validation] Epoch 55: Loss: 0.2191, Mean Dice: 0.7375\n"
     ]
    },
    {
     "name": "stderr",
     "output_type": "stream",
     "text": [
      "Training Epoch 56: 100%|██████████| 38/38 [00:07<00:00,  5.08batch/s, loss=0.283]\n"
     ]
    },
    {
     "name": "stdout",
     "output_type": "stream",
     "text": [
      "[Training] Epoch 56: Loss: 0.2406, Mean Dice: 0.6520\n"
     ]
    },
    {
     "name": "stderr",
     "output_type": "stream",
     "text": [
      "Validation Epoch 56: 100%|██████████| 5/5 [00:00<00:00,  6.84batch/s, loss=0.133]\n"
     ]
    },
    {
     "name": "stdout",
     "output_type": "stream",
     "text": [
      "[Validation] Epoch 56: Loss: 0.2138, Mean Dice: 0.7162\n"
     ]
    },
    {
     "name": "stderr",
     "output_type": "stream",
     "text": [
      "Training Epoch 57: 100%|██████████| 38/38 [00:07<00:00,  5.06batch/s, loss=0.162]\n"
     ]
    },
    {
     "name": "stdout",
     "output_type": "stream",
     "text": [
      "[Training] Epoch 57: Loss: 0.2362, Mean Dice: 0.7377\n"
     ]
    },
    {
     "name": "stderr",
     "output_type": "stream",
     "text": [
      "Validation Epoch 57: 100%|██████████| 5/5 [00:00<00:00,  6.90batch/s, loss=0.137]\n"
     ]
    },
    {
     "name": "stdout",
     "output_type": "stream",
     "text": [
      "[Validation] Epoch 57: Loss: 0.2113, Mean Dice: 0.7503\n"
     ]
    },
    {
     "name": "stderr",
     "output_type": "stream",
     "text": [
      "Training Epoch 58: 100%|██████████| 38/38 [00:07<00:00,  5.11batch/s, loss=0.218]\n"
     ]
    },
    {
     "name": "stdout",
     "output_type": "stream",
     "text": [
      "[Training] Epoch 58: Loss: 0.2347, Mean Dice: 0.6458\n"
     ]
    },
    {
     "name": "stderr",
     "output_type": "stream",
     "text": [
      "Validation Epoch 58: 100%|██████████| 5/5 [00:00<00:00,  6.08batch/s, loss=0.137]\n"
     ]
    },
    {
     "name": "stdout",
     "output_type": "stream",
     "text": [
      "[Validation] Epoch 58: Loss: 0.2116, Mean Dice: 0.7667\n"
     ]
    },
    {
     "name": "stderr",
     "output_type": "stream",
     "text": [
      "Training Epoch 59: 100%|██████████| 38/38 [00:07<00:00,  5.12batch/s, loss=0.27] \n"
     ]
    },
    {
     "name": "stdout",
     "output_type": "stream",
     "text": [
      "[Training] Epoch 59: Loss: 0.2336, Mean Dice: 0.7791\n"
     ]
    },
    {
     "name": "stderr",
     "output_type": "stream",
     "text": [
      "Validation Epoch 59: 100%|██████████| 5/5 [00:00<00:00,  6.74batch/s, loss=0.144]\n"
     ]
    },
    {
     "name": "stdout",
     "output_type": "stream",
     "text": [
      "[Validation] Epoch 59: Loss: 0.2111, Mean Dice: 0.7359\n"
     ]
    },
    {
     "name": "stderr",
     "output_type": "stream",
     "text": [
      "Training Epoch 60: 100%|██████████| 38/38 [00:07<00:00,  4.90batch/s, loss=0.152]\n"
     ]
    },
    {
     "name": "stdout",
     "output_type": "stream",
     "text": [
      "[Training] Epoch 60: Loss: 0.2409, Mean Dice: 0.6076\n"
     ]
    },
    {
     "name": "stderr",
     "output_type": "stream",
     "text": [
      "Validation Epoch 60: 100%|██████████| 5/5 [00:00<00:00,  6.71batch/s, loss=0.13] \n"
     ]
    },
    {
     "name": "stdout",
     "output_type": "stream",
     "text": [
      "[Validation] Epoch 60: Loss: 0.2053, Mean Dice: 0.7238\n"
     ]
    },
    {
     "name": "stderr",
     "output_type": "stream",
     "text": [
      "Training Epoch 61: 100%|██████████| 38/38 [00:07<00:00,  5.04batch/s, loss=0.332]\n"
     ]
    },
    {
     "name": "stdout",
     "output_type": "stream",
     "text": [
      "[Training] Epoch 61: Loss: 0.2264, Mean Dice: 0.7165\n"
     ]
    },
    {
     "name": "stderr",
     "output_type": "stream",
     "text": [
      "Validation Epoch 61: 100%|██████████| 5/5 [00:00<00:00,  6.29batch/s, loss=0.142]\n"
     ]
    },
    {
     "name": "stdout",
     "output_type": "stream",
     "text": [
      "[Validation] Epoch 61: Loss: 0.2100, Mean Dice: 0.7040\n"
     ]
    },
    {
     "name": "stderr",
     "output_type": "stream",
     "text": [
      "Training Epoch 62: 100%|██████████| 38/38 [00:07<00:00,  5.07batch/s, loss=0.151]\n"
     ]
    },
    {
     "name": "stdout",
     "output_type": "stream",
     "text": [
      "[Training] Epoch 62: Loss: 0.2314, Mean Dice: 0.6747\n"
     ]
    },
    {
     "name": "stderr",
     "output_type": "stream",
     "text": [
      "Validation Epoch 62: 100%|██████████| 5/5 [00:00<00:00,  6.72batch/s, loss=0.131]\n"
     ]
    },
    {
     "name": "stdout",
     "output_type": "stream",
     "text": [
      "[Validation] Epoch 62: Loss: 0.2111, Mean Dice: 0.7091\n"
     ]
    },
    {
     "name": "stderr",
     "output_type": "stream",
     "text": [
      "Training Epoch 63: 100%|██████████| 38/38 [00:07<00:00,  5.03batch/s, loss=0.216]\n"
     ]
    },
    {
     "name": "stdout",
     "output_type": "stream",
     "text": [
      "[Training] Epoch 63: Loss: 0.2341, Mean Dice: 0.7218\n"
     ]
    },
    {
     "name": "stderr",
     "output_type": "stream",
     "text": [
      "Validation Epoch 63: 100%|██████████| 5/5 [00:00<00:00,  6.76batch/s, loss=0.132]\n"
     ]
    },
    {
     "name": "stdout",
     "output_type": "stream",
     "text": [
      "[Validation] Epoch 63: Loss: 0.2077, Mean Dice: 0.7565\n"
     ]
    },
    {
     "name": "stderr",
     "output_type": "stream",
     "text": [
      "Training Epoch 64: 100%|██████████| 38/38 [00:07<00:00,  5.01batch/s, loss=0.555]\n"
     ]
    },
    {
     "name": "stdout",
     "output_type": "stream",
     "text": [
      "[Training] Epoch 64: Loss: 0.2356, Mean Dice: 0.7351\n"
     ]
    },
    {
     "name": "stderr",
     "output_type": "stream",
     "text": [
      "Validation Epoch 64: 100%|██████████| 5/5 [00:00<00:00,  6.36batch/s, loss=0.135]\n"
     ]
    },
    {
     "name": "stdout",
     "output_type": "stream",
     "text": [
      "[Validation] Epoch 64: Loss: 0.2089, Mean Dice: 0.5731\n"
     ]
    },
    {
     "name": "stderr",
     "output_type": "stream",
     "text": [
      "Training Epoch 65: 100%|██████████| 38/38 [00:07<00:00,  5.03batch/s, loss=0.419]\n"
     ]
    },
    {
     "name": "stdout",
     "output_type": "stream",
     "text": [
      "[Training] Epoch 65: Loss: 0.2264, Mean Dice: 0.7835\n"
     ]
    },
    {
     "name": "stderr",
     "output_type": "stream",
     "text": [
      "Validation Epoch 65: 100%|██████████| 5/5 [00:00<00:00,  6.86batch/s, loss=0.131]\n"
     ]
    },
    {
     "name": "stdout",
     "output_type": "stream",
     "text": [
      "[Validation] Epoch 65: Loss: 0.2110, Mean Dice: 0.7275\n"
     ]
    },
    {
     "name": "stderr",
     "output_type": "stream",
     "text": [
      "Training Epoch 66: 100%|██████████| 38/38 [00:07<00:00,  5.01batch/s, loss=0.149]\n"
     ]
    },
    {
     "name": "stdout",
     "output_type": "stream",
     "text": [
      "[Training] Epoch 66: Loss: 0.2257, Mean Dice: 0.7104\n"
     ]
    },
    {
     "name": "stderr",
     "output_type": "stream",
     "text": [
      "Validation Epoch 66: 100%|██████████| 5/5 [00:00<00:00,  6.71batch/s, loss=0.127]\n"
     ]
    },
    {
     "name": "stdout",
     "output_type": "stream",
     "text": [
      "[Validation] Epoch 66: Loss: 0.2089, Mean Dice: 0.7460\n"
     ]
    },
    {
     "name": "stderr",
     "output_type": "stream",
     "text": [
      "Training Epoch 67: 100%|██████████| 38/38 [00:08<00:00,  4.62batch/s, loss=0.207]\n"
     ]
    },
    {
     "name": "stdout",
     "output_type": "stream",
     "text": [
      "[Training] Epoch 67: Loss: 0.2261, Mean Dice: 0.6171\n"
     ]
    },
    {
     "name": "stderr",
     "output_type": "stream",
     "text": [
      "Validation Epoch 67: 100%|██████████| 5/5 [00:00<00:00,  6.78batch/s, loss=0.133]\n"
     ]
    },
    {
     "name": "stdout",
     "output_type": "stream",
     "text": [
      "[Validation] Epoch 67: Loss: 0.2145, Mean Dice: 0.7278\n"
     ]
    },
    {
     "name": "stderr",
     "output_type": "stream",
     "text": [
      "Training Epoch 68: 100%|██████████| 38/38 [00:07<00:00,  5.02batch/s, loss=0.256]\n"
     ]
    },
    {
     "name": "stdout",
     "output_type": "stream",
     "text": [
      "[Training] Epoch 68: Loss: 0.2175, Mean Dice: 0.7726\n"
     ]
    },
    {
     "name": "stderr",
     "output_type": "stream",
     "text": [
      "Validation Epoch 68: 100%|██████████| 5/5 [00:00<00:00,  6.23batch/s, loss=0.131]\n"
     ]
    },
    {
     "name": "stdout",
     "output_type": "stream",
     "text": [
      "[Validation] Epoch 68: Loss: 0.2136, Mean Dice: 0.7587\n"
     ]
    },
    {
     "name": "stderr",
     "output_type": "stream",
     "text": [
      "Training Epoch 69: 100%|██████████| 38/38 [00:07<00:00,  5.00batch/s, loss=0.259]\n"
     ]
    },
    {
     "name": "stdout",
     "output_type": "stream",
     "text": [
      "[Training] Epoch 69: Loss: 0.2219, Mean Dice: 0.7438\n"
     ]
    },
    {
     "name": "stderr",
     "output_type": "stream",
     "text": [
      "Validation Epoch 69: 100%|██████████| 5/5 [00:00<00:00,  6.71batch/s, loss=0.127]\n"
     ]
    },
    {
     "name": "stdout",
     "output_type": "stream",
     "text": [
      "[Validation] Epoch 69: Loss: 0.2110, Mean Dice: 0.7439\n"
     ]
    },
    {
     "name": "stderr",
     "output_type": "stream",
     "text": [
      "Training Epoch 70: 100%|██████████| 38/38 [00:07<00:00,  4.97batch/s, loss=0.277]\n"
     ]
    },
    {
     "name": "stdout",
     "output_type": "stream",
     "text": [
      "[Training] Epoch 70: Loss: 0.2181, Mean Dice: 0.7391\n"
     ]
    },
    {
     "name": "stderr",
     "output_type": "stream",
     "text": [
      "Validation Epoch 70: 100%|██████████| 5/5 [00:00<00:00,  6.79batch/s, loss=0.126]\n"
     ]
    },
    {
     "name": "stdout",
     "output_type": "stream",
     "text": [
      "[Validation] Epoch 70: Loss: 0.2088, Mean Dice: 0.7602\n"
     ]
    },
    {
     "name": "stderr",
     "output_type": "stream",
     "text": [
      "Training Epoch 71: 100%|██████████| 38/38 [00:07<00:00,  5.00batch/s, loss=0.308]\n"
     ]
    },
    {
     "name": "stdout",
     "output_type": "stream",
     "text": [
      "[Training] Epoch 71: Loss: 0.2168, Mean Dice: 0.7232\n"
     ]
    },
    {
     "name": "stderr",
     "output_type": "stream",
     "text": [
      "Validation Epoch 71: 100%|██████████| 5/5 [00:00<00:00,  6.05batch/s, loss=0.131]\n"
     ]
    },
    {
     "name": "stdout",
     "output_type": "stream",
     "text": [
      "[Validation] Epoch 71: Loss: 0.2120, Mean Dice: 0.7607\n"
     ]
    },
    {
     "name": "stderr",
     "output_type": "stream",
     "text": [
      "Training Epoch 72: 100%|██████████| 38/38 [00:07<00:00,  4.98batch/s, loss=0.229]\n"
     ]
    },
    {
     "name": "stdout",
     "output_type": "stream",
     "text": [
      "[Training] Epoch 72: Loss: 0.2166, Mean Dice: 0.6835\n"
     ]
    },
    {
     "name": "stderr",
     "output_type": "stream",
     "text": [
      "Validation Epoch 72: 100%|██████████| 5/5 [00:00<00:00,  6.61batch/s, loss=0.136]\n"
     ]
    },
    {
     "name": "stdout",
     "output_type": "stream",
     "text": [
      "[Validation] Epoch 72: Loss: 0.2209, Mean Dice: 0.7778\n"
     ]
    },
    {
     "name": "stderr",
     "output_type": "stream",
     "text": [
      "Training Epoch 73: 100%|██████████| 38/38 [00:07<00:00,  4.85batch/s, loss=0.129]\n"
     ]
    },
    {
     "name": "stdout",
     "output_type": "stream",
     "text": [
      "[Training] Epoch 73: Loss: 0.2170, Mean Dice: 0.7798\n"
     ]
    },
    {
     "name": "stderr",
     "output_type": "stream",
     "text": [
      "Validation Epoch 73: 100%|██████████| 5/5 [00:00<00:00,  6.84batch/s, loss=0.129]\n"
     ]
    },
    {
     "name": "stdout",
     "output_type": "stream",
     "text": [
      "[Validation] Epoch 73: Loss: 0.1986, Mean Dice: 0.8028\n"
     ]
    },
    {
     "name": "stderr",
     "output_type": "stream",
     "text": [
      "Training Epoch 74: 100%|██████████| 38/38 [00:07<00:00,  5.06batch/s, loss=0.299]\n"
     ]
    },
    {
     "name": "stdout",
     "output_type": "stream",
     "text": [
      "[Training] Epoch 74: Loss: 0.2114, Mean Dice: 0.7917\n"
     ]
    },
    {
     "name": "stderr",
     "output_type": "stream",
     "text": [
      "Validation Epoch 74: 100%|██████████| 5/5 [00:00<00:00,  5.90batch/s, loss=0.126]\n"
     ]
    },
    {
     "name": "stdout",
     "output_type": "stream",
     "text": [
      "[Validation] Epoch 74: Loss: 0.2090, Mean Dice: 0.6715\n"
     ]
    },
    {
     "name": "stderr",
     "output_type": "stream",
     "text": [
      "Training Epoch 75: 100%|██████████| 38/38 [00:07<00:00,  5.10batch/s, loss=0.144]\n"
     ]
    },
    {
     "name": "stdout",
     "output_type": "stream",
     "text": [
      "[Training] Epoch 75: Loss: 0.2146, Mean Dice: 0.7838\n"
     ]
    },
    {
     "name": "stderr",
     "output_type": "stream",
     "text": [
      "Validation Epoch 75: 100%|██████████| 5/5 [00:00<00:00,  6.71batch/s, loss=0.128]\n"
     ]
    },
    {
     "name": "stdout",
     "output_type": "stream",
     "text": [
      "[Validation] Epoch 75: Loss: 0.2000, Mean Dice: 0.7874\n"
     ]
    },
    {
     "name": "stderr",
     "output_type": "stream",
     "text": [
      "Training Epoch 76: 100%|██████████| 38/38 [00:07<00:00,  5.03batch/s, loss=0.415]\n"
     ]
    },
    {
     "name": "stdout",
     "output_type": "stream",
     "text": [
      "[Training] Epoch 76: Loss: 0.2161, Mean Dice: 0.8224\n"
     ]
    },
    {
     "name": "stderr",
     "output_type": "stream",
     "text": [
      "Validation Epoch 76: 100%|██████████| 5/5 [00:00<00:00,  6.74batch/s, loss=0.13] \n"
     ]
    },
    {
     "name": "stdout",
     "output_type": "stream",
     "text": [
      "[Validation] Epoch 76: Loss: 0.2059, Mean Dice: 0.7004\n"
     ]
    },
    {
     "name": "stderr",
     "output_type": "stream",
     "text": [
      "Training Epoch 77: 100%|██████████| 38/38 [00:07<00:00,  5.13batch/s, loss=0.191]\n"
     ]
    },
    {
     "name": "stdout",
     "output_type": "stream",
     "text": [
      "[Training] Epoch 77: Loss: 0.2108, Mean Dice: 0.7855\n"
     ]
    },
    {
     "name": "stderr",
     "output_type": "stream",
     "text": [
      "Validation Epoch 77: 100%|██████████| 5/5 [00:00<00:00,  6.07batch/s, loss=0.139]\n"
     ]
    },
    {
     "name": "stdout",
     "output_type": "stream",
     "text": [
      "[Validation] Epoch 77: Loss: 0.2073, Mean Dice: 0.6968\n"
     ]
    },
    {
     "name": "stderr",
     "output_type": "stream",
     "text": [
      "Training Epoch 78: 100%|██████████| 38/38 [00:07<00:00,  5.04batch/s, loss=0.238]\n"
     ]
    },
    {
     "name": "stdout",
     "output_type": "stream",
     "text": [
      "[Training] Epoch 78: Loss: 0.2080, Mean Dice: 0.7482\n"
     ]
    },
    {
     "name": "stderr",
     "output_type": "stream",
     "text": [
      "Validation Epoch 78: 100%|██████████| 5/5 [00:00<00:00,  6.73batch/s, loss=0.123]\n"
     ]
    },
    {
     "name": "stdout",
     "output_type": "stream",
     "text": [
      "[Validation] Epoch 78: Loss: 0.1934, Mean Dice: 0.7473\n"
     ]
    },
    {
     "name": "stderr",
     "output_type": "stream",
     "text": [
      "Training Epoch 79: 100%|██████████| 38/38 [00:07<00:00,  4.89batch/s, loss=0.256]\n"
     ]
    },
    {
     "name": "stdout",
     "output_type": "stream",
     "text": [
      "[Training] Epoch 79: Loss: 0.2073, Mean Dice: 0.7423\n"
     ]
    },
    {
     "name": "stderr",
     "output_type": "stream",
     "text": [
      "Validation Epoch 79: 100%|██████████| 5/5 [00:00<00:00,  6.68batch/s, loss=0.132]\n"
     ]
    },
    {
     "name": "stdout",
     "output_type": "stream",
     "text": [
      "[Validation] Epoch 79: Loss: 0.2066, Mean Dice: 0.7934\n"
     ]
    },
    {
     "name": "stderr",
     "output_type": "stream",
     "text": [
      "Training Epoch 80: 100%|██████████| 38/38 [00:07<00:00,  5.07batch/s, loss=0.13] \n"
     ]
    },
    {
     "name": "stdout",
     "output_type": "stream",
     "text": [
      "[Training] Epoch 80: Loss: 0.2049, Mean Dice: 0.6288\n"
     ]
    },
    {
     "name": "stderr",
     "output_type": "stream",
     "text": [
      "Validation Epoch 80: 100%|██████████| 5/5 [00:00<00:00,  5.98batch/s, loss=0.132]\n"
     ]
    },
    {
     "name": "stdout",
     "output_type": "stream",
     "text": [
      "[Validation] Epoch 80: Loss: 0.2012, Mean Dice: 0.7592\n"
     ]
    },
    {
     "name": "stderr",
     "output_type": "stream",
     "text": [
      "Training Epoch 81: 100%|██████████| 38/38 [00:07<00:00,  5.06batch/s, loss=0.133]\n"
     ]
    },
    {
     "name": "stdout",
     "output_type": "stream",
     "text": [
      "[Training] Epoch 81: Loss: 0.2117, Mean Dice: 0.7879\n"
     ]
    },
    {
     "name": "stderr",
     "output_type": "stream",
     "text": [
      "Validation Epoch 81: 100%|██████████| 5/5 [00:00<00:00,  6.95batch/s, loss=0.125]\n"
     ]
    },
    {
     "name": "stdout",
     "output_type": "stream",
     "text": [
      "[Validation] Epoch 81: Loss: 0.2017, Mean Dice: 0.7966\n"
     ]
    },
    {
     "name": "stderr",
     "output_type": "stream",
     "text": [
      "Training Epoch 82: 100%|██████████| 38/38 [00:07<00:00,  5.08batch/s, loss=0.123]\n"
     ]
    },
    {
     "name": "stdout",
     "output_type": "stream",
     "text": [
      "[Training] Epoch 82: Loss: 0.2069, Mean Dice: 0.6977\n"
     ]
    },
    {
     "name": "stderr",
     "output_type": "stream",
     "text": [
      "Validation Epoch 82: 100%|██████████| 5/5 [00:00<00:00,  6.59batch/s, loss=0.124]\n"
     ]
    },
    {
     "name": "stdout",
     "output_type": "stream",
     "text": [
      "[Validation] Epoch 82: Loss: 0.1962, Mean Dice: 0.7263\n"
     ]
    },
    {
     "name": "stderr",
     "output_type": "stream",
     "text": [
      "Training Epoch 83: 100%|██████████| 38/38 [00:07<00:00,  5.05batch/s, loss=0.144]\n"
     ]
    },
    {
     "name": "stdout",
     "output_type": "stream",
     "text": [
      "[Training] Epoch 83: Loss: 0.2061, Mean Dice: 0.7623\n"
     ]
    },
    {
     "name": "stderr",
     "output_type": "stream",
     "text": [
      "Validation Epoch 83: 100%|██████████| 5/5 [00:00<00:00,  6.04batch/s, loss=0.124]\n"
     ]
    },
    {
     "name": "stdout",
     "output_type": "stream",
     "text": [
      "[Validation] Epoch 83: Loss: 0.2040, Mean Dice: 0.7811\n"
     ]
    },
    {
     "name": "stderr",
     "output_type": "stream",
     "text": [
      "Training Epoch 84: 100%|██████████| 38/38 [00:07<00:00,  5.08batch/s, loss=0.188]\n"
     ]
    },
    {
     "name": "stdout",
     "output_type": "stream",
     "text": [
      "[Training] Epoch 84: Loss: 0.2044, Mean Dice: 0.7091\n"
     ]
    },
    {
     "name": "stderr",
     "output_type": "stream",
     "text": [
      "Validation Epoch 84: 100%|██████████| 5/5 [00:00<00:00,  6.70batch/s, loss=0.126]\n"
     ]
    },
    {
     "name": "stdout",
     "output_type": "stream",
     "text": [
      "[Validation] Epoch 84: Loss: 0.1927, Mean Dice: 0.7272\n"
     ]
    },
    {
     "name": "stderr",
     "output_type": "stream",
     "text": [
      "Training Epoch 85: 100%|██████████| 38/38 [00:07<00:00,  4.81batch/s, loss=0.198]\n"
     ]
    },
    {
     "name": "stdout",
     "output_type": "stream",
     "text": [
      "[Training] Epoch 85: Loss: 0.2029, Mean Dice: 0.8031\n"
     ]
    },
    {
     "name": "stderr",
     "output_type": "stream",
     "text": [
      "Validation Epoch 85: 100%|██████████| 5/5 [00:00<00:00,  6.76batch/s, loss=0.126]\n"
     ]
    },
    {
     "name": "stdout",
     "output_type": "stream",
     "text": [
      "[Validation] Epoch 85: Loss: 0.2074, Mean Dice: 0.7917\n"
     ]
    },
    {
     "name": "stderr",
     "output_type": "stream",
     "text": [
      "Training Epoch 86: 100%|██████████| 38/38 [00:07<00:00,  5.03batch/s, loss=0.131]\n"
     ]
    },
    {
     "name": "stdout",
     "output_type": "stream",
     "text": [
      "[Training] Epoch 86: Loss: 0.2102, Mean Dice: 0.7759\n"
     ]
    },
    {
     "name": "stderr",
     "output_type": "stream",
     "text": [
      "Validation Epoch 86: 100%|██████████| 5/5 [00:00<00:00,  6.37batch/s, loss=0.118]\n"
     ]
    },
    {
     "name": "stdout",
     "output_type": "stream",
     "text": [
      "[Validation] Epoch 86: Loss: 0.2046, Mean Dice: 0.7442\n"
     ]
    },
    {
     "name": "stderr",
     "output_type": "stream",
     "text": [
      "Training Epoch 87: 100%|██████████| 38/38 [00:07<00:00,  5.05batch/s, loss=0.243]\n"
     ]
    },
    {
     "name": "stdout",
     "output_type": "stream",
     "text": [
      "[Training] Epoch 87: Loss: 0.2023, Mean Dice: 0.7476\n"
     ]
    },
    {
     "name": "stderr",
     "output_type": "stream",
     "text": [
      "Validation Epoch 87: 100%|██████████| 5/5 [00:00<00:00,  6.89batch/s, loss=0.132]\n"
     ]
    },
    {
     "name": "stdout",
     "output_type": "stream",
     "text": [
      "[Validation] Epoch 87: Loss: 0.2126, Mean Dice: 0.7428\n"
     ]
    },
    {
     "name": "stderr",
     "output_type": "stream",
     "text": [
      "Training Epoch 88: 100%|██████████| 38/38 [00:07<00:00,  5.03batch/s, loss=0.233]\n"
     ]
    },
    {
     "name": "stdout",
     "output_type": "stream",
     "text": [
      "[Training] Epoch 88: Loss: 0.2030, Mean Dice: 0.8448\n"
     ]
    },
    {
     "name": "stderr",
     "output_type": "stream",
     "text": [
      "Validation Epoch 88: 100%|██████████| 5/5 [00:00<00:00,  6.91batch/s, loss=0.12] \n"
     ]
    },
    {
     "name": "stdout",
     "output_type": "stream",
     "text": [
      "[Validation] Epoch 88: Loss: 0.1933, Mean Dice: 0.8353\n"
     ]
    },
    {
     "name": "stderr",
     "output_type": "stream",
     "text": [
      "Training Epoch 89: 100%|██████████| 38/38 [00:07<00:00,  4.98batch/s, loss=0.243]\n"
     ]
    },
    {
     "name": "stdout",
     "output_type": "stream",
     "text": [
      "[Training] Epoch 89: Loss: 0.2030, Mean Dice: 0.7033\n"
     ]
    },
    {
     "name": "stderr",
     "output_type": "stream",
     "text": [
      "Validation Epoch 89: 100%|██████████| 5/5 [00:00<00:00,  6.23batch/s, loss=0.123]\n"
     ]
    },
    {
     "name": "stdout",
     "output_type": "stream",
     "text": [
      "[Validation] Epoch 89: Loss: 0.1942, Mean Dice: 0.6754\n"
     ]
    },
    {
     "name": "stderr",
     "output_type": "stream",
     "text": [
      "Training Epoch 90: 100%|██████████| 38/38 [00:07<00:00,  5.06batch/s, loss=0.162]\n"
     ]
    },
    {
     "name": "stdout",
     "output_type": "stream",
     "text": [
      "[Training] Epoch 90: Loss: 0.2075, Mean Dice: 0.7579\n"
     ]
    },
    {
     "name": "stderr",
     "output_type": "stream",
     "text": [
      "Validation Epoch 90: 100%|██████████| 5/5 [00:00<00:00,  6.79batch/s, loss=0.145]\n"
     ]
    },
    {
     "name": "stdout",
     "output_type": "stream",
     "text": [
      "[Validation] Epoch 90: Loss: 0.2257, Mean Dice: 0.6678\n"
     ]
    },
    {
     "name": "stderr",
     "output_type": "stream",
     "text": [
      "Training Epoch 91: 100%|██████████| 38/38 [00:07<00:00,  4.98batch/s, loss=0.116]\n"
     ]
    },
    {
     "name": "stdout",
     "output_type": "stream",
     "text": [
      "[Training] Epoch 91: Loss: 0.2037, Mean Dice: 0.7550\n"
     ]
    },
    {
     "name": "stderr",
     "output_type": "stream",
     "text": [
      "Validation Epoch 91: 100%|██████████| 5/5 [00:01<00:00,  3.98batch/s, loss=0.134]\n"
     ]
    },
    {
     "name": "stdout",
     "output_type": "stream",
     "text": [
      "[Validation] Epoch 91: Loss: 0.2005, Mean Dice: 0.7823\n"
     ]
    },
    {
     "name": "stderr",
     "output_type": "stream",
     "text": [
      "Training Epoch 92: 100%|██████████| 38/38 [00:07<00:00,  5.01batch/s, loss=0.223]\n"
     ]
    },
    {
     "name": "stdout",
     "output_type": "stream",
     "text": [
      "[Training] Epoch 92: Loss: 0.1960, Mean Dice: 0.7499\n"
     ]
    },
    {
     "name": "stderr",
     "output_type": "stream",
     "text": [
      "Validation Epoch 92: 100%|██████████| 5/5 [00:00<00:00,  6.76batch/s, loss=0.121]\n"
     ]
    },
    {
     "name": "stdout",
     "output_type": "stream",
     "text": [
      "[Validation] Epoch 92: Loss: 0.2037, Mean Dice: 0.7668\n"
     ]
    },
    {
     "name": "stderr",
     "output_type": "stream",
     "text": [
      "Training Epoch 93: 100%|██████████| 38/38 [00:07<00:00,  5.03batch/s, loss=0.232]\n"
     ]
    },
    {
     "name": "stdout",
     "output_type": "stream",
     "text": [
      "[Training] Epoch 93: Loss: 0.2053, Mean Dice: 0.7238\n"
     ]
    },
    {
     "name": "stderr",
     "output_type": "stream",
     "text": [
      "Validation Epoch 93: 100%|██████████| 5/5 [00:00<00:00,  6.51batch/s, loss=0.117]\n"
     ]
    },
    {
     "name": "stdout",
     "output_type": "stream",
     "text": [
      "[Validation] Epoch 93: Loss: 0.2070, Mean Dice: 0.7502\n"
     ]
    },
    {
     "name": "stderr",
     "output_type": "stream",
     "text": [
      "Training Epoch 94: 100%|██████████| 38/38 [00:07<00:00,  5.01batch/s, loss=0.237]\n"
     ]
    },
    {
     "name": "stdout",
     "output_type": "stream",
     "text": [
      "[Training] Epoch 94: Loss: 0.2055, Mean Dice: 0.7845\n"
     ]
    },
    {
     "name": "stderr",
     "output_type": "stream",
     "text": [
      "Validation Epoch 94: 100%|██████████| 5/5 [00:00<00:00,  6.70batch/s, loss=0.119]\n"
     ]
    },
    {
     "name": "stdout",
     "output_type": "stream",
     "text": [
      "[Validation] Epoch 94: Loss: 0.2027, Mean Dice: 0.6924\n"
     ]
    },
    {
     "name": "stderr",
     "output_type": "stream",
     "text": [
      "Training Epoch 95: 100%|██████████| 38/38 [00:07<00:00,  4.99batch/s, loss=0.116]\n"
     ]
    },
    {
     "name": "stdout",
     "output_type": "stream",
     "text": [
      "[Training] Epoch 95: Loss: 0.1955, Mean Dice: 0.7506\n"
     ]
    },
    {
     "name": "stderr",
     "output_type": "stream",
     "text": [
      "Validation Epoch 95: 100%|██████████| 5/5 [00:00<00:00,  6.73batch/s, loss=0.118]\n"
     ]
    },
    {
     "name": "stdout",
     "output_type": "stream",
     "text": [
      "[Validation] Epoch 95: Loss: 0.1973, Mean Dice: 0.6607\n"
     ]
    },
    {
     "name": "stderr",
     "output_type": "stream",
     "text": [
      "Training Epoch 96: 100%|██████████| 38/38 [00:07<00:00,  5.03batch/s, loss=0.208]\n"
     ]
    },
    {
     "name": "stdout",
     "output_type": "stream",
     "text": [
      "[Training] Epoch 96: Loss: 0.1878, Mean Dice: 0.8120\n"
     ]
    },
    {
     "name": "stderr",
     "output_type": "stream",
     "text": [
      "Validation Epoch 96: 100%|██████████| 5/5 [00:00<00:00,  6.65batch/s, loss=0.119]\n"
     ]
    },
    {
     "name": "stdout",
     "output_type": "stream",
     "text": [
      "[Validation] Epoch 96: Loss: 0.2083, Mean Dice: 0.7039\n"
     ]
    },
    {
     "name": "stderr",
     "output_type": "stream",
     "text": [
      "Training Epoch 97: 100%|██████████| 38/38 [00:07<00:00,  5.06batch/s, loss=0.215]\n"
     ]
    },
    {
     "name": "stdout",
     "output_type": "stream",
     "text": [
      "[Training] Epoch 97: Loss: 0.1908, Mean Dice: 0.6262\n"
     ]
    },
    {
     "name": "stderr",
     "output_type": "stream",
     "text": [
      "Validation Epoch 97: 100%|██████████| 5/5 [00:00<00:00,  6.74batch/s, loss=0.119]\n"
     ]
    },
    {
     "name": "stdout",
     "output_type": "stream",
     "text": [
      "[Validation] Epoch 97: Loss: 0.1896, Mean Dice: 0.7360\n"
     ]
    },
    {
     "name": "stderr",
     "output_type": "stream",
     "text": [
      "Training Epoch 98: 100%|██████████| 38/38 [00:08<00:00,  4.69batch/s, loss=0.118]\n"
     ]
    },
    {
     "name": "stdout",
     "output_type": "stream",
     "text": [
      "[Training] Epoch 98: Loss: 0.1921, Mean Dice: 0.7988\n"
     ]
    },
    {
     "name": "stderr",
     "output_type": "stream",
     "text": [
      "Validation Epoch 98: 100%|██████████| 5/5 [00:00<00:00,  6.75batch/s, loss=0.114]\n"
     ]
    },
    {
     "name": "stdout",
     "output_type": "stream",
     "text": [
      "[Validation] Epoch 98: Loss: 0.1988, Mean Dice: 0.7621\n"
     ]
    },
    {
     "name": "stderr",
     "output_type": "stream",
     "text": [
      "Training Epoch 99: 100%|██████████| 38/38 [00:07<00:00,  5.06batch/s, loss=0.246]\n"
     ]
    },
    {
     "name": "stdout",
     "output_type": "stream",
     "text": [
      "[Training] Epoch 99: Loss: 0.1883, Mean Dice: 0.7805\n"
     ]
    },
    {
     "name": "stderr",
     "output_type": "stream",
     "text": [
      "Validation Epoch 99: 100%|██████████| 5/5 [00:00<00:00,  6.09batch/s, loss=0.124]\n"
     ]
    },
    {
     "name": "stdout",
     "output_type": "stream",
     "text": [
      "[Validation] Epoch 99: Loss: 0.1936, Mean Dice: 0.7961\n"
     ]
    },
    {
     "name": "stderr",
     "output_type": "stream",
     "text": [
      "Training Epoch 100: 100%|██████████| 38/38 [00:07<00:00,  5.01batch/s, loss=0.139]\n"
     ]
    },
    {
     "name": "stdout",
     "output_type": "stream",
     "text": [
      "[Training] Epoch 100: Loss: 0.1914, Mean Dice: 0.7830\n"
     ]
    },
    {
     "name": "stderr",
     "output_type": "stream",
     "text": [
      "Validation Epoch 100: 100%|██████████| 5/5 [00:00<00:00,  6.77batch/s, loss=0.121]\n"
     ]
    },
    {
     "name": "stdout",
     "output_type": "stream",
     "text": [
      "[Validation] Epoch 100: Loss: 0.1907, Mean Dice: 0.7726\n"
     ]
    },
    {
     "name": "stderr",
     "output_type": "stream",
     "text": [
      "Training Epoch 101: 100%|██████████| 38/38 [00:07<00:00,  4.98batch/s, loss=0.144]\n"
     ]
    },
    {
     "name": "stdout",
     "output_type": "stream",
     "text": [
      "[Training] Epoch 101: Loss: 0.1895, Mean Dice: 0.7668\n"
     ]
    },
    {
     "name": "stderr",
     "output_type": "stream",
     "text": [
      "Validation Epoch 101: 100%|██████████| 5/5 [00:00<00:00,  6.92batch/s, loss=0.123]\n"
     ]
    },
    {
     "name": "stdout",
     "output_type": "stream",
     "text": [
      "[Validation] Epoch 101: Loss: 0.1918, Mean Dice: 0.7940\n"
     ]
    },
    {
     "name": "stderr",
     "output_type": "stream",
     "text": [
      "Training Epoch 102: 100%|██████████| 38/38 [00:07<00:00,  5.01batch/s, loss=0.316]\n"
     ]
    },
    {
     "name": "stdout",
     "output_type": "stream",
     "text": [
      "[Training] Epoch 102: Loss: 0.1882, Mean Dice: 0.7348\n"
     ]
    },
    {
     "name": "stderr",
     "output_type": "stream",
     "text": [
      "Validation Epoch 102: 100%|██████████| 5/5 [00:00<00:00,  5.78batch/s, loss=0.142]\n"
     ]
    },
    {
     "name": "stdout",
     "output_type": "stream",
     "text": [
      "[Validation] Epoch 102: Loss: 0.2183, Mean Dice: 0.7511\n"
     ]
    },
    {
     "name": "stderr",
     "output_type": "stream",
     "text": [
      "Training Epoch 103: 100%|██████████| 38/38 [00:07<00:00,  5.02batch/s, loss=0.285]\n"
     ]
    },
    {
     "name": "stdout",
     "output_type": "stream",
     "text": [
      "[Training] Epoch 103: Loss: 0.1930, Mean Dice: 0.6521\n"
     ]
    },
    {
     "name": "stderr",
     "output_type": "stream",
     "text": [
      "Validation Epoch 103: 100%|██████████| 5/5 [00:00<00:00,  6.74batch/s, loss=0.122]\n"
     ]
    },
    {
     "name": "stdout",
     "output_type": "stream",
     "text": [
      "[Validation] Epoch 103: Loss: 0.1924, Mean Dice: 0.7873\n"
     ]
    },
    {
     "name": "stderr",
     "output_type": "stream",
     "text": [
      "Training Epoch 104: 100%|██████████| 38/38 [00:07<00:00,  4.80batch/s, loss=0.233]\n"
     ]
    },
    {
     "name": "stdout",
     "output_type": "stream",
     "text": [
      "[Training] Epoch 104: Loss: 0.1916, Mean Dice: 0.8376\n"
     ]
    },
    {
     "name": "stderr",
     "output_type": "stream",
     "text": [
      "Validation Epoch 104: 100%|██████████| 5/5 [00:00<00:00,  6.62batch/s, loss=0.119]\n"
     ]
    },
    {
     "name": "stdout",
     "output_type": "stream",
     "text": [
      "[Validation] Epoch 104: Loss: 0.1987, Mean Dice: 0.7650\n"
     ]
    },
    {
     "name": "stderr",
     "output_type": "stream",
     "text": [
      "Training Epoch 105: 100%|██████████| 38/38 [00:07<00:00,  4.97batch/s, loss=0.121]\n"
     ]
    },
    {
     "name": "stdout",
     "output_type": "stream",
     "text": [
      "[Training] Epoch 105: Loss: 0.1883, Mean Dice: 0.8093\n"
     ]
    },
    {
     "name": "stderr",
     "output_type": "stream",
     "text": [
      "Validation Epoch 105: 100%|██████████| 5/5 [00:00<00:00,  6.30batch/s, loss=0.12] \n"
     ]
    },
    {
     "name": "stdout",
     "output_type": "stream",
     "text": [
      "[Validation] Epoch 105: Loss: 0.1931, Mean Dice: 0.7763\n"
     ]
    },
    {
     "name": "stderr",
     "output_type": "stream",
     "text": [
      "Training Epoch 106: 100%|██████████| 38/38 [00:07<00:00,  5.06batch/s, loss=0.152]\n"
     ]
    },
    {
     "name": "stdout",
     "output_type": "stream",
     "text": [
      "[Training] Epoch 106: Loss: 0.1827, Mean Dice: 0.7322\n"
     ]
    },
    {
     "name": "stderr",
     "output_type": "stream",
     "text": [
      "Validation Epoch 106: 100%|██████████| 5/5 [00:00<00:00,  6.87batch/s, loss=0.114]\n"
     ]
    },
    {
     "name": "stdout",
     "output_type": "stream",
     "text": [
      "[Validation] Epoch 106: Loss: 0.1913, Mean Dice: 0.7816\n"
     ]
    },
    {
     "name": "stderr",
     "output_type": "stream",
     "text": [
      "Training Epoch 107: 100%|██████████| 38/38 [00:07<00:00,  5.03batch/s, loss=0.129]\n"
     ]
    },
    {
     "name": "stdout",
     "output_type": "stream",
     "text": [
      "[Training] Epoch 107: Loss: 0.1921, Mean Dice: 0.7786\n"
     ]
    },
    {
     "name": "stderr",
     "output_type": "stream",
     "text": [
      "Validation Epoch 107: 100%|██████████| 5/5 [00:00<00:00,  6.69batch/s, loss=0.119]\n"
     ]
    },
    {
     "name": "stdout",
     "output_type": "stream",
     "text": [
      "[Validation] Epoch 107: Loss: 0.1957, Mean Dice: 0.7655\n"
     ]
    },
    {
     "name": "stderr",
     "output_type": "stream",
     "text": [
      "Training Epoch 108: 100%|██████████| 38/38 [00:07<00:00,  5.06batch/s, loss=0.221]\n"
     ]
    },
    {
     "name": "stdout",
     "output_type": "stream",
     "text": [
      "[Training] Epoch 108: Loss: 0.1892, Mean Dice: 0.6243\n"
     ]
    },
    {
     "name": "stderr",
     "output_type": "stream",
     "text": [
      "Validation Epoch 108: 100%|██████████| 5/5 [00:00<00:00,  6.22batch/s, loss=0.123]\n"
     ]
    },
    {
     "name": "stdout",
     "output_type": "stream",
     "text": [
      "[Validation] Epoch 108: Loss: 0.1939, Mean Dice: 0.6951\n"
     ]
    },
    {
     "name": "stderr",
     "output_type": "stream",
     "text": [
      "Training Epoch 109: 100%|██████████| 38/38 [00:07<00:00,  5.08batch/s, loss=0.363]\n"
     ]
    },
    {
     "name": "stdout",
     "output_type": "stream",
     "text": [
      "[Training] Epoch 109: Loss: 0.1837, Mean Dice: 0.8149\n"
     ]
    },
    {
     "name": "stderr",
     "output_type": "stream",
     "text": [
      "Validation Epoch 109: 100%|██████████| 5/5 [00:00<00:00,  6.60batch/s, loss=0.112]\n"
     ]
    },
    {
     "name": "stdout",
     "output_type": "stream",
     "text": [
      "[Validation] Epoch 109: Loss: 0.1992, Mean Dice: 0.7666\n"
     ]
    },
    {
     "name": "stderr",
     "output_type": "stream",
     "text": [
      "Training Epoch 110: 100%|██████████| 38/38 [00:07<00:00,  4.99batch/s, loss=0.288]\n"
     ]
    },
    {
     "name": "stdout",
     "output_type": "stream",
     "text": [
      "[Training] Epoch 110: Loss: 0.1796, Mean Dice: 0.6458\n"
     ]
    },
    {
     "name": "stderr",
     "output_type": "stream",
     "text": [
      "Validation Epoch 110: 100%|██████████| 5/5 [00:01<00:00,  4.08batch/s, loss=0.115]\n"
     ]
    },
    {
     "name": "stdout",
     "output_type": "stream",
     "text": [
      "[Validation] Epoch 110: Loss: 0.1844, Mean Dice: 0.7748\n"
     ]
    },
    {
     "name": "stderr",
     "output_type": "stream",
     "text": [
      "Training Epoch 111: 100%|██████████| 38/38 [00:07<00:00,  5.00batch/s, loss=0.174]\n"
     ]
    },
    {
     "name": "stdout",
     "output_type": "stream",
     "text": [
      "[Training] Epoch 111: Loss: 0.1811, Mean Dice: 0.8439\n"
     ]
    },
    {
     "name": "stderr",
     "output_type": "stream",
     "text": [
      "Validation Epoch 111: 100%|██████████| 5/5 [00:00<00:00,  6.78batch/s, loss=0.122]\n"
     ]
    },
    {
     "name": "stdout",
     "output_type": "stream",
     "text": [
      "[Validation] Epoch 111: Loss: 0.1942, Mean Dice: 0.7844\n"
     ]
    },
    {
     "name": "stderr",
     "output_type": "stream",
     "text": [
      "Training Epoch 112: 100%|██████████| 38/38 [00:07<00:00,  5.10batch/s, loss=0.299]\n"
     ]
    },
    {
     "name": "stdout",
     "output_type": "stream",
     "text": [
      "[Training] Epoch 112: Loss: 0.1836, Mean Dice: 0.7232\n"
     ]
    },
    {
     "name": "stderr",
     "output_type": "stream",
     "text": [
      "Validation Epoch 112: 100%|██████████| 5/5 [00:00<00:00,  6.87batch/s, loss=0.121]\n"
     ]
    },
    {
     "name": "stdout",
     "output_type": "stream",
     "text": [
      "[Validation] Epoch 112: Loss: 0.1909, Mean Dice: 0.7833\n"
     ]
    },
    {
     "name": "stderr",
     "output_type": "stream",
     "text": [
      "Training Epoch 113: 100%|██████████| 38/38 [00:07<00:00,  5.05batch/s, loss=0.116]\n"
     ]
    },
    {
     "name": "stdout",
     "output_type": "stream",
     "text": [
      "[Training] Epoch 113: Loss: 0.1838, Mean Dice: 0.8026\n"
     ]
    },
    {
     "name": "stderr",
     "output_type": "stream",
     "text": [
      "Validation Epoch 113: 100%|██████████| 5/5 [00:00<00:00,  6.92batch/s, loss=0.121]\n"
     ]
    },
    {
     "name": "stdout",
     "output_type": "stream",
     "text": [
      "[Validation] Epoch 113: Loss: 0.2090, Mean Dice: 0.7906\n"
     ]
    },
    {
     "name": "stderr",
     "output_type": "stream",
     "text": [
      "Training Epoch 114: 100%|██████████| 38/38 [00:07<00:00,  5.02batch/s, loss=0.178]\n"
     ]
    },
    {
     "name": "stdout",
     "output_type": "stream",
     "text": [
      "[Training] Epoch 114: Loss: 0.1802, Mean Dice: 0.7514\n"
     ]
    },
    {
     "name": "stderr",
     "output_type": "stream",
     "text": [
      "Validation Epoch 114: 100%|██████████| 5/5 [00:00<00:00,  6.95batch/s, loss=0.116]\n"
     ]
    },
    {
     "name": "stdout",
     "output_type": "stream",
     "text": [
      "[Validation] Epoch 114: Loss: 0.1890, Mean Dice: 0.7876\n"
     ]
    },
    {
     "name": "stderr",
     "output_type": "stream",
     "text": [
      "Training Epoch 115: 100%|██████████| 38/38 [00:07<00:00,  5.06batch/s, loss=0.142]\n"
     ]
    },
    {
     "name": "stdout",
     "output_type": "stream",
     "text": [
      "[Training] Epoch 115: Loss: 0.1829, Mean Dice: 0.7343\n"
     ]
    },
    {
     "name": "stderr",
     "output_type": "stream",
     "text": [
      "Validation Epoch 115: 100%|██████████| 5/5 [00:00<00:00,  6.67batch/s, loss=0.113]\n"
     ]
    },
    {
     "name": "stdout",
     "output_type": "stream",
     "text": [
      "[Validation] Epoch 115: Loss: 0.1886, Mean Dice: 0.7562\n"
     ]
    },
    {
     "name": "stderr",
     "output_type": "stream",
     "text": [
      "Training Epoch 116: 100%|██████████| 38/38 [00:07<00:00,  4.99batch/s, loss=0.216]\n"
     ]
    },
    {
     "name": "stdout",
     "output_type": "stream",
     "text": [
      "[Training] Epoch 116: Loss: 0.1769, Mean Dice: 0.7894\n"
     ]
    },
    {
     "name": "stderr",
     "output_type": "stream",
     "text": [
      "Validation Epoch 116: 100%|██████████| 5/5 [00:00<00:00,  6.70batch/s, loss=0.114]\n"
     ]
    },
    {
     "name": "stdout",
     "output_type": "stream",
     "text": [
      "[Validation] Epoch 116: Loss: 0.1954, Mean Dice: 0.7890\n"
     ]
    },
    {
     "name": "stderr",
     "output_type": "stream",
     "text": [
      "Training Epoch 117: 100%|██████████| 38/38 [00:07<00:00,  4.86batch/s, loss=0.112] \n"
     ]
    },
    {
     "name": "stdout",
     "output_type": "stream",
     "text": [
      "[Training] Epoch 117: Loss: 0.1784, Mean Dice: 0.7331\n"
     ]
    },
    {
     "name": "stderr",
     "output_type": "stream",
     "text": [
      "Validation Epoch 117: 100%|██████████| 5/5 [00:00<00:00,  6.66batch/s, loss=0.114]\n"
     ]
    },
    {
     "name": "stdout",
     "output_type": "stream",
     "text": [
      "[Validation] Epoch 117: Loss: 0.1981, Mean Dice: 0.7589\n"
     ]
    },
    {
     "name": "stderr",
     "output_type": "stream",
     "text": [
      "Training Epoch 118: 100%|██████████| 38/38 [00:07<00:00,  5.08batch/s, loss=0.266]\n"
     ]
    },
    {
     "name": "stdout",
     "output_type": "stream",
     "text": [
      "[Training] Epoch 118: Loss: 0.1859, Mean Dice: 0.8108\n"
     ]
    },
    {
     "name": "stderr",
     "output_type": "stream",
     "text": [
      "Validation Epoch 118: 100%|██████████| 5/5 [00:00<00:00,  6.59batch/s, loss=0.12] \n"
     ]
    },
    {
     "name": "stdout",
     "output_type": "stream",
     "text": [
      "[Validation] Epoch 118: Loss: 0.2045, Mean Dice: 0.7550\n"
     ]
    },
    {
     "name": "stderr",
     "output_type": "stream",
     "text": [
      "Training Epoch 119: 100%|██████████| 38/38 [00:07<00:00,  5.01batch/s, loss=0.306]\n"
     ]
    },
    {
     "name": "stdout",
     "output_type": "stream",
     "text": [
      "[Training] Epoch 119: Loss: 0.1833, Mean Dice: 0.6805\n"
     ]
    },
    {
     "name": "stderr",
     "output_type": "stream",
     "text": [
      "Validation Epoch 119: 100%|██████████| 5/5 [00:00<00:00,  6.77batch/s, loss=0.116]\n"
     ]
    },
    {
     "name": "stdout",
     "output_type": "stream",
     "text": [
      "[Validation] Epoch 119: Loss: 0.1967, Mean Dice: 0.6797\n"
     ]
    },
    {
     "name": "stderr",
     "output_type": "stream",
     "text": [
      "Training Epoch 120: 100%|██████████| 38/38 [00:07<00:00,  4.99batch/s, loss=0.391]\n"
     ]
    },
    {
     "name": "stdout",
     "output_type": "stream",
     "text": [
      "[Training] Epoch 120: Loss: 0.1778, Mean Dice: 0.8129\n"
     ]
    },
    {
     "name": "stderr",
     "output_type": "stream",
     "text": [
      "Validation Epoch 120: 100%|██████████| 5/5 [00:00<00:00,  6.87batch/s, loss=0.114]\n"
     ]
    },
    {
     "name": "stdout",
     "output_type": "stream",
     "text": [
      "[Validation] Epoch 120: Loss: 0.1939, Mean Dice: 0.7683\n"
     ]
    },
    {
     "name": "stderr",
     "output_type": "stream",
     "text": [
      "Training Epoch 121: 100%|██████████| 38/38 [00:07<00:00,  5.13batch/s, loss=0.112]\n"
     ]
    },
    {
     "name": "stdout",
     "output_type": "stream",
     "text": [
      "[Training] Epoch 121: Loss: 0.1781, Mean Dice: 0.7096\n"
     ]
    },
    {
     "name": "stderr",
     "output_type": "stream",
     "text": [
      "Validation Epoch 121: 100%|██████████| 5/5 [00:00<00:00,  6.87batch/s, loss=0.115]\n"
     ]
    },
    {
     "name": "stdout",
     "output_type": "stream",
     "text": [
      "[Validation] Epoch 121: Loss: 0.1899, Mean Dice: 0.7834\n"
     ]
    },
    {
     "name": "stderr",
     "output_type": "stream",
     "text": [
      "Training Epoch 122: 100%|██████████| 38/38 [00:07<00:00,  5.03batch/s, loss=0.211]\n"
     ]
    },
    {
     "name": "stdout",
     "output_type": "stream",
     "text": [
      "[Training] Epoch 122: Loss: 0.1779, Mean Dice: 0.8063\n"
     ]
    },
    {
     "name": "stderr",
     "output_type": "stream",
     "text": [
      "Validation Epoch 122: 100%|██████████| 5/5 [00:00<00:00,  6.92batch/s, loss=0.114]\n"
     ]
    },
    {
     "name": "stdout",
     "output_type": "stream",
     "text": [
      "[Validation] Epoch 122: Loss: 0.1952, Mean Dice: 0.7566\n"
     ]
    },
    {
     "name": "stderr",
     "output_type": "stream",
     "text": [
      "Training Epoch 123: 100%|██████████| 38/38 [00:07<00:00,  4.84batch/s, loss=0.113] \n"
     ]
    },
    {
     "name": "stdout",
     "output_type": "stream",
     "text": [
      "[Training] Epoch 123: Loss: 0.1744, Mean Dice: 0.8150\n"
     ]
    },
    {
     "name": "stderr",
     "output_type": "stream",
     "text": [
      "Validation Epoch 123: 100%|██████████| 5/5 [00:00<00:00,  6.63batch/s, loss=0.114]\n"
     ]
    },
    {
     "name": "stdout",
     "output_type": "stream",
     "text": [
      "[Validation] Epoch 123: Loss: 0.1853, Mean Dice: 0.7025\n"
     ]
    },
    {
     "name": "stderr",
     "output_type": "stream",
     "text": [
      "Training Epoch 124: 100%|██████████| 38/38 [00:07<00:00,  5.03batch/s, loss=0.119] \n"
     ]
    },
    {
     "name": "stdout",
     "output_type": "stream",
     "text": [
      "[Training] Epoch 124: Loss: 0.1761, Mean Dice: 0.7813\n"
     ]
    },
    {
     "name": "stderr",
     "output_type": "stream",
     "text": [
      "Validation Epoch 124: 100%|██████████| 5/5 [00:00<00:00,  6.35batch/s, loss=0.109]\n"
     ]
    },
    {
     "name": "stdout",
     "output_type": "stream",
     "text": [
      "[Validation] Epoch 124: Loss: 0.1964, Mean Dice: 0.7510\n"
     ]
    },
    {
     "name": "stderr",
     "output_type": "stream",
     "text": [
      "Training Epoch 125: 100%|██████████| 38/38 [00:07<00:00,  5.01batch/s, loss=0.18] \n"
     ]
    },
    {
     "name": "stdout",
     "output_type": "stream",
     "text": [
      "[Training] Epoch 125: Loss: 0.1775, Mean Dice: 0.7492\n"
     ]
    },
    {
     "name": "stderr",
     "output_type": "stream",
     "text": [
      "Validation Epoch 125: 100%|██████████| 5/5 [00:00<00:00,  6.60batch/s, loss=0.116]\n"
     ]
    },
    {
     "name": "stdout",
     "output_type": "stream",
     "text": [
      "[Validation] Epoch 125: Loss: 0.1927, Mean Dice: 0.7427\n",
      "Early stopping triggered\n"
     ]
    },
    {
     "name": "stderr",
     "output_type": "stream",
     "text": [
      "Training Epoch 126: 100%|██████████| 38/38 [00:07<00:00,  5.01batch/s, loss=0.1]  \n"
     ]
    },
    {
     "name": "stdout",
     "output_type": "stream",
     "text": [
      "[Training] Epoch 126: Loss: 0.1732, Mean Dice: 0.8075\n"
     ]
    },
    {
     "name": "stderr",
     "output_type": "stream",
     "text": [
      "Validation Epoch 126: 100%|██████████| 5/5 [00:00<00:00,  6.67batch/s, loss=0.122]\n"
     ]
    },
    {
     "name": "stdout",
     "output_type": "stream",
     "text": [
      "[Validation] Epoch 126: Loss: 0.1942, Mean Dice: 0.7828\n",
      "Early stopping triggered\n"
     ]
    },
    {
     "name": "stderr",
     "output_type": "stream",
     "text": [
      "Training Epoch 127: 100%|██████████| 38/38 [00:07<00:00,  5.04batch/s, loss=0.164]\n"
     ]
    },
    {
     "name": "stdout",
     "output_type": "stream",
     "text": [
      "[Training] Epoch 127: Loss: 0.1782, Mean Dice: 0.8004\n"
     ]
    },
    {
     "name": "stderr",
     "output_type": "stream",
     "text": [
      "Validation Epoch 127: 100%|██████████| 5/5 [00:00<00:00,  6.18batch/s, loss=0.114]\n"
     ]
    },
    {
     "name": "stdout",
     "output_type": "stream",
     "text": [
      "[Validation] Epoch 127: Loss: 0.1889, Mean Dice: 0.8168\n",
      "Early stopping triggered\n"
     ]
    },
    {
     "name": "stderr",
     "output_type": "stream",
     "text": [
      "Training Epoch 128: 100%|██████████| 38/38 [00:07<00:00,  5.01batch/s, loss=0.125]\n"
     ]
    },
    {
     "name": "stdout",
     "output_type": "stream",
     "text": [
      "[Training] Epoch 128: Loss: 0.1723, Mean Dice: 0.7531\n"
     ]
    },
    {
     "name": "stderr",
     "output_type": "stream",
     "text": [
      "Validation Epoch 128: 100%|██████████| 5/5 [00:00<00:00,  6.56batch/s, loss=0.112]\n"
     ]
    },
    {
     "name": "stdout",
     "output_type": "stream",
     "text": [
      "[Validation] Epoch 128: Loss: 0.1922, Mean Dice: 0.7682\n",
      "Early stopping triggered\n"
     ]
    },
    {
     "name": "stderr",
     "output_type": "stream",
     "text": [
      "Training Epoch 129: 100%|██████████| 38/38 [00:07<00:00,  5.01batch/s, loss=0.128]\n"
     ]
    },
    {
     "name": "stdout",
     "output_type": "stream",
     "text": [
      "[Training] Epoch 129: Loss: 0.1668, Mean Dice: 0.8346\n"
     ]
    },
    {
     "name": "stderr",
     "output_type": "stream",
     "text": [
      "Validation Epoch 129: 100%|██████████| 5/5 [00:01<00:00,  4.75batch/s, loss=0.112]\n"
     ]
    },
    {
     "name": "stdout",
     "output_type": "stream",
     "text": [
      "[Validation] Epoch 129: Loss: 0.1912, Mean Dice: 0.8126\n",
      "Early stopping triggered\n"
     ]
    },
    {
     "name": "stderr",
     "output_type": "stream",
     "text": [
      "Training Epoch 130: 100%|██████████| 38/38 [00:07<00:00,  4.84batch/s, loss=0.162]\n"
     ]
    },
    {
     "name": "stdout",
     "output_type": "stream",
     "text": [
      "[Training] Epoch 130: Loss: 0.1662, Mean Dice: 0.6691\n"
     ]
    },
    {
     "name": "stderr",
     "output_type": "stream",
     "text": [
      "Validation Epoch 130: 100%|██████████| 5/5 [00:00<00:00,  5.88batch/s, loss=0.119]\n"
     ]
    },
    {
     "name": "stdout",
     "output_type": "stream",
     "text": [
      "[Validation] Epoch 130: Loss: 0.1838, Mean Dice: 0.7632\n"
     ]
    },
    {
     "name": "stderr",
     "output_type": "stream",
     "text": [
      "Training Epoch 131: 100%|██████████| 38/38 [00:07<00:00,  5.09batch/s, loss=0.165]\n"
     ]
    },
    {
     "name": "stdout",
     "output_type": "stream",
     "text": [
      "[Training] Epoch 131: Loss: 0.1730, Mean Dice: 0.8341\n"
     ]
    },
    {
     "name": "stderr",
     "output_type": "stream",
     "text": [
      "Validation Epoch 131: 100%|██████████| 5/5 [00:00<00:00,  6.67batch/s, loss=0.113]\n"
     ]
    },
    {
     "name": "stdout",
     "output_type": "stream",
     "text": [
      "[Validation] Epoch 131: Loss: 0.1905, Mean Dice: 0.7795\n"
     ]
    },
    {
     "name": "stderr",
     "output_type": "stream",
     "text": [
      "Training Epoch 132: 100%|██████████| 38/38 [00:07<00:00,  4.98batch/s, loss=0.199]\n"
     ]
    },
    {
     "name": "stdout",
     "output_type": "stream",
     "text": [
      "[Training] Epoch 132: Loss: 0.1739, Mean Dice: 0.7165\n"
     ]
    },
    {
     "name": "stderr",
     "output_type": "stream",
     "text": [
      "Validation Epoch 132: 100%|██████████| 5/5 [00:00<00:00,  6.45batch/s, loss=0.121]\n"
     ]
    },
    {
     "name": "stdout",
     "output_type": "stream",
     "text": [
      "[Validation] Epoch 132: Loss: 0.1902, Mean Dice: 0.6920\n"
     ]
    },
    {
     "name": "stderr",
     "output_type": "stream",
     "text": [
      "Training Epoch 133: 100%|██████████| 38/38 [00:07<00:00,  4.98batch/s, loss=0.205]\n"
     ]
    },
    {
     "name": "stdout",
     "output_type": "stream",
     "text": [
      "[Training] Epoch 133: Loss: 0.1778, Mean Dice: 0.7769\n"
     ]
    },
    {
     "name": "stderr",
     "output_type": "stream",
     "text": [
      "Validation Epoch 133: 100%|██████████| 5/5 [00:00<00:00,  5.83batch/s, loss=0.117]\n"
     ]
    },
    {
     "name": "stdout",
     "output_type": "stream",
     "text": [
      "[Validation] Epoch 133: Loss: 0.2019, Mean Dice: 0.7616\n"
     ]
    },
    {
     "name": "stderr",
     "output_type": "stream",
     "text": [
      "Training Epoch 134: 100%|██████████| 38/38 [00:07<00:00,  5.02batch/s, loss=0.116]\n"
     ]
    },
    {
     "name": "stdout",
     "output_type": "stream",
     "text": [
      "[Training] Epoch 134: Loss: 0.1762, Mean Dice: 0.8417\n"
     ]
    },
    {
     "name": "stderr",
     "output_type": "stream",
     "text": [
      "Validation Epoch 134: 100%|██████████| 5/5 [00:00<00:00,  6.85batch/s, loss=0.109]\n"
     ]
    },
    {
     "name": "stdout",
     "output_type": "stream",
     "text": [
      "[Validation] Epoch 134: Loss: 0.1928, Mean Dice: 0.7793\n"
     ]
    },
    {
     "name": "stderr",
     "output_type": "stream",
     "text": [
      "Training Epoch 135: 100%|██████████| 38/38 [00:07<00:00,  4.86batch/s, loss=0.11] \n"
     ]
    },
    {
     "name": "stdout",
     "output_type": "stream",
     "text": [
      "[Training] Epoch 135: Loss: 0.1678, Mean Dice: 0.8368\n"
     ]
    },
    {
     "name": "stderr",
     "output_type": "stream",
     "text": [
      "Validation Epoch 135: 100%|██████████| 5/5 [00:00<00:00,  6.67batch/s, loss=0.11] \n"
     ]
    },
    {
     "name": "stdout",
     "output_type": "stream",
     "text": [
      "[Validation] Epoch 135: Loss: 0.1831, Mean Dice: 0.7587\n"
     ]
    },
    {
     "name": "stderr",
     "output_type": "stream",
     "text": [
      "Training Epoch 136: 100%|██████████| 38/38 [00:08<00:00,  4.56batch/s, loss=0.174]\n"
     ]
    },
    {
     "name": "stdout",
     "output_type": "stream",
     "text": [
      "[Training] Epoch 136: Loss: 0.1699, Mean Dice: 0.7548\n"
     ]
    },
    {
     "name": "stderr",
     "output_type": "stream",
     "text": [
      "Validation Epoch 136: 100%|██████████| 5/5 [00:00<00:00,  6.56batch/s, loss=0.113]\n"
     ]
    },
    {
     "name": "stdout",
     "output_type": "stream",
     "text": [
      "[Validation] Epoch 136: Loss: 0.2013, Mean Dice: 0.7348\n"
     ]
    },
    {
     "name": "stderr",
     "output_type": "stream",
     "text": [
      "Training Epoch 137: 100%|██████████| 38/38 [00:07<00:00,  5.04batch/s, loss=0.123] \n"
     ]
    },
    {
     "name": "stdout",
     "output_type": "stream",
     "text": [
      "[Training] Epoch 137: Loss: 0.1699, Mean Dice: 0.8022\n"
     ]
    },
    {
     "name": "stderr",
     "output_type": "stream",
     "text": [
      "Validation Epoch 137: 100%|██████████| 5/5 [00:00<00:00,  6.02batch/s, loss=0.122]\n"
     ]
    },
    {
     "name": "stdout",
     "output_type": "stream",
     "text": [
      "[Validation] Epoch 137: Loss: 0.1976, Mean Dice: 0.7564\n"
     ]
    },
    {
     "name": "stderr",
     "output_type": "stream",
     "text": [
      "Training Epoch 138: 100%|██████████| 38/38 [00:07<00:00,  4.81batch/s, loss=0.206] \n"
     ]
    },
    {
     "name": "stdout",
     "output_type": "stream",
     "text": [
      "[Training] Epoch 138: Loss: 0.1695, Mean Dice: 0.8213\n"
     ]
    },
    {
     "name": "stderr",
     "output_type": "stream",
     "text": [
      "Validation Epoch 138: 100%|██████████| 5/5 [00:00<00:00,  6.35batch/s, loss=0.111]\n"
     ]
    },
    {
     "name": "stdout",
     "output_type": "stream",
     "text": [
      "[Validation] Epoch 138: Loss: 0.1857, Mean Dice: 0.7999\n"
     ]
    },
    {
     "name": "stderr",
     "output_type": "stream",
     "text": [
      "Training Epoch 139: 100%|██████████| 38/38 [00:07<00:00,  4.96batch/s, loss=0.138]\n"
     ]
    },
    {
     "name": "stdout",
     "output_type": "stream",
     "text": [
      "[Training] Epoch 139: Loss: 0.1663, Mean Dice: 0.8642\n"
     ]
    },
    {
     "name": "stderr",
     "output_type": "stream",
     "text": [
      "Validation Epoch 139: 100%|██████████| 5/5 [00:00<00:00,  6.64batch/s, loss=0.109]\n"
     ]
    },
    {
     "name": "stdout",
     "output_type": "stream",
     "text": [
      "[Validation] Epoch 139: Loss: 0.1841, Mean Dice: 0.7821\n"
     ]
    },
    {
     "name": "stderr",
     "output_type": "stream",
     "text": [
      "Training Epoch 140: 100%|██████████| 38/38 [00:07<00:00,  5.00batch/s, loss=0.11] \n"
     ]
    },
    {
     "name": "stdout",
     "output_type": "stream",
     "text": [
      "[Training] Epoch 140: Loss: 0.1673, Mean Dice: 0.8232\n"
     ]
    },
    {
     "name": "stderr",
     "output_type": "stream",
     "text": [
      "Validation Epoch 140: 100%|██████████| 5/5 [00:00<00:00,  6.26batch/s, loss=0.112]\n"
     ]
    },
    {
     "name": "stdout",
     "output_type": "stream",
     "text": [
      "[Validation] Epoch 140: Loss: 0.1843, Mean Dice: 0.6867\n"
     ]
    },
    {
     "name": "stderr",
     "output_type": "stream",
     "text": [
      "Training Epoch 141: 100%|██████████| 38/38 [00:07<00:00,  5.01batch/s, loss=0.136]\n"
     ]
    },
    {
     "name": "stdout",
     "output_type": "stream",
     "text": [
      "[Training] Epoch 141: Loss: 0.1733, Mean Dice: 0.8143\n"
     ]
    },
    {
     "name": "stderr",
     "output_type": "stream",
     "text": [
      "Validation Epoch 141: 100%|██████████| 5/5 [00:00<00:00,  6.67batch/s, loss=0.12] \n"
     ]
    },
    {
     "name": "stdout",
     "output_type": "stream",
     "text": [
      "[Validation] Epoch 141: Loss: 0.1917, Mean Dice: 0.7141\n"
     ]
    },
    {
     "name": "stderr",
     "output_type": "stream",
     "text": [
      "Training Epoch 142: 100%|██████████| 38/38 [00:07<00:00,  4.77batch/s, loss=0.179]\n"
     ]
    },
    {
     "name": "stdout",
     "output_type": "stream",
     "text": [
      "[Training] Epoch 142: Loss: 0.1733, Mean Dice: 0.6396\n"
     ]
    },
    {
     "name": "stderr",
     "output_type": "stream",
     "text": [
      "Validation Epoch 142: 100%|██████████| 5/5 [00:00<00:00,  6.70batch/s, loss=0.118]\n"
     ]
    },
    {
     "name": "stdout",
     "output_type": "stream",
     "text": [
      "[Validation] Epoch 142: Loss: 0.2087, Mean Dice: 0.7904\n"
     ]
    },
    {
     "name": "stderr",
     "output_type": "stream",
     "text": [
      "Training Epoch 143: 100%|██████████| 38/38 [00:07<00:00,  4.98batch/s, loss=0.11] \n"
     ]
    },
    {
     "name": "stdout",
     "output_type": "stream",
     "text": [
      "[Training] Epoch 143: Loss: 0.1649, Mean Dice: 0.7450\n"
     ]
    },
    {
     "name": "stderr",
     "output_type": "stream",
     "text": [
      "Validation Epoch 143: 100%|██████████| 5/5 [00:00<00:00,  6.77batch/s, loss=0.112]\n"
     ]
    },
    {
     "name": "stdout",
     "output_type": "stream",
     "text": [
      "[Validation] Epoch 143: Loss: 0.1878, Mean Dice: 0.7450\n"
     ]
    },
    {
     "name": "stderr",
     "output_type": "stream",
     "text": [
      "Training Epoch 144: 100%|██████████| 38/38 [00:07<00:00,  5.00batch/s, loss=0.0993]\n"
     ]
    },
    {
     "name": "stdout",
     "output_type": "stream",
     "text": [
      "[Training] Epoch 144: Loss: 0.1644, Mean Dice: 0.8298\n"
     ]
    },
    {
     "name": "stderr",
     "output_type": "stream",
     "text": [
      "Validation Epoch 144: 100%|██████████| 5/5 [00:00<00:00,  6.12batch/s, loss=0.119]\n"
     ]
    },
    {
     "name": "stdout",
     "output_type": "stream",
     "text": [
      "[Validation] Epoch 144: Loss: 0.1977, Mean Dice: 0.7803\n"
     ]
    },
    {
     "name": "stderr",
     "output_type": "stream",
     "text": [
      "Training Epoch 145: 100%|██████████| 38/38 [00:07<00:00,  4.99batch/s, loss=0.115]\n"
     ]
    },
    {
     "name": "stdout",
     "output_type": "stream",
     "text": [
      "[Training] Epoch 145: Loss: 0.1666, Mean Dice: 0.7346\n"
     ]
    },
    {
     "name": "stderr",
     "output_type": "stream",
     "text": [
      "Validation Epoch 145: 100%|██████████| 5/5 [00:00<00:00,  6.76batch/s, loss=0.111]\n"
     ]
    },
    {
     "name": "stdout",
     "output_type": "stream",
     "text": [
      "[Validation] Epoch 145: Loss: 0.1903, Mean Dice: 0.7910\n"
     ]
    },
    {
     "name": "stderr",
     "output_type": "stream",
     "text": [
      "Training Epoch 146: 100%|██████████| 38/38 [00:07<00:00,  4.99batch/s, loss=0.148]\n"
     ]
    },
    {
     "name": "stdout",
     "output_type": "stream",
     "text": [
      "[Training] Epoch 146: Loss: 0.1689, Mean Dice: 0.8103\n"
     ]
    },
    {
     "name": "stderr",
     "output_type": "stream",
     "text": [
      "Validation Epoch 146: 100%|██████████| 5/5 [00:00<00:00,  6.77batch/s, loss=0.114]\n"
     ]
    },
    {
     "name": "stdout",
     "output_type": "stream",
     "text": [
      "[Validation] Epoch 146: Loss: 0.1869, Mean Dice: 0.7649\n"
     ]
    },
    {
     "name": "stderr",
     "output_type": "stream",
     "text": [
      "Training Epoch 147: 100%|██████████| 38/38 [00:07<00:00,  4.99batch/s, loss=0.145]\n"
     ]
    },
    {
     "name": "stdout",
     "output_type": "stream",
     "text": [
      "[Training] Epoch 147: Loss: 0.1640, Mean Dice: 0.8301\n"
     ]
    },
    {
     "name": "stderr",
     "output_type": "stream",
     "text": [
      "Validation Epoch 147: 100%|██████████| 5/5 [00:00<00:00,  6.33batch/s, loss=0.127]\n"
     ]
    },
    {
     "name": "stdout",
     "output_type": "stream",
     "text": [
      "[Validation] Epoch 147: Loss: 0.1992, Mean Dice: 0.6022\n"
     ]
    },
    {
     "name": "stderr",
     "output_type": "stream",
     "text": [
      "Training Epoch 148: 100%|██████████| 38/38 [00:07<00:00,  5.00batch/s, loss=0.154]\n"
     ]
    },
    {
     "name": "stdout",
     "output_type": "stream",
     "text": [
      "[Training] Epoch 148: Loss: 0.1640, Mean Dice: 0.8521\n"
     ]
    },
    {
     "name": "stderr",
     "output_type": "stream",
     "text": [
      "Validation Epoch 148: 100%|██████████| 5/5 [00:01<00:00,  3.75batch/s, loss=0.111]\n"
     ]
    },
    {
     "name": "stdout",
     "output_type": "stream",
     "text": [
      "[Validation] Epoch 148: Loss: 0.2022, Mean Dice: 0.7490\n"
     ]
    },
    {
     "name": "stderr",
     "output_type": "stream",
     "text": [
      "Training Epoch 149: 100%|██████████| 38/38 [00:07<00:00,  5.02batch/s, loss=0.273]\n"
     ]
    },
    {
     "name": "stdout",
     "output_type": "stream",
     "text": [
      "[Training] Epoch 149: Loss: 0.1618, Mean Dice: 0.8359\n"
     ]
    },
    {
     "name": "stderr",
     "output_type": "stream",
     "text": [
      "Validation Epoch 149: 100%|██████████| 5/5 [00:00<00:00,  6.63batch/s, loss=0.114]\n"
     ]
    },
    {
     "name": "stdout",
     "output_type": "stream",
     "text": [
      "[Validation] Epoch 149: Loss: 0.1875, Mean Dice: 0.7432\n"
     ]
    },
    {
     "name": "stderr",
     "output_type": "stream",
     "text": [
      "Training Epoch 150: 100%|██████████| 38/38 [00:07<00:00,  5.01batch/s, loss=0.213]\n"
     ]
    },
    {
     "name": "stdout",
     "output_type": "stream",
     "text": [
      "[Training] Epoch 150: Loss: 0.1626, Mean Dice: 0.7875\n"
     ]
    },
    {
     "name": "stderr",
     "output_type": "stream",
     "text": [
      "Validation Epoch 150: 100%|██████████| 5/5 [00:00<00:00,  5.96batch/s, loss=0.11] \n"
     ]
    },
    {
     "name": "stdout",
     "output_type": "stream",
     "text": [
      "[Validation] Epoch 150: Loss: 0.1824, Mean Dice: 0.7727\n"
     ]
    },
    {
     "name": "stderr",
     "output_type": "stream",
     "text": [
      "Training Epoch 151: 100%|██████████| 38/38 [00:07<00:00,  5.03batch/s, loss=0.181]\n"
     ]
    },
    {
     "name": "stdout",
     "output_type": "stream",
     "text": [
      "[Training] Epoch 151: Loss: 0.1644, Mean Dice: 0.7204\n"
     ]
    },
    {
     "name": "stderr",
     "output_type": "stream",
     "text": [
      "Validation Epoch 151: 100%|██████████| 5/5 [00:00<00:00,  6.67batch/s, loss=0.111]\n"
     ]
    },
    {
     "name": "stdout",
     "output_type": "stream",
     "text": [
      "[Validation] Epoch 151: Loss: 0.1823, Mean Dice: 0.7021\n"
     ]
    },
    {
     "name": "stderr",
     "output_type": "stream",
     "text": [
      "Training Epoch 152: 100%|██████████| 38/38 [00:07<00:00,  4.97batch/s, loss=0.142]\n"
     ]
    },
    {
     "name": "stdout",
     "output_type": "stream",
     "text": [
      "[Training] Epoch 152: Loss: 0.1699, Mean Dice: 0.6816\n"
     ]
    },
    {
     "name": "stderr",
     "output_type": "stream",
     "text": [
      "Validation Epoch 152: 100%|██████████| 5/5 [00:00<00:00,  6.44batch/s, loss=0.11] \n"
     ]
    },
    {
     "name": "stdout",
     "output_type": "stream",
     "text": [
      "[Validation] Epoch 152: Loss: 0.1954, Mean Dice: 0.7452\n"
     ]
    },
    {
     "name": "stderr",
     "output_type": "stream",
     "text": [
      "Training Epoch 153: 100%|██████████| 38/38 [00:07<00:00,  5.03batch/s, loss=0.105] \n"
     ]
    },
    {
     "name": "stdout",
     "output_type": "stream",
     "text": [
      "[Training] Epoch 153: Loss: 0.1654, Mean Dice: 0.7457\n"
     ]
    },
    {
     "name": "stderr",
     "output_type": "stream",
     "text": [
      "Validation Epoch 153: 100%|██████████| 5/5 [00:00<00:00,  6.25batch/s, loss=0.114]\n"
     ]
    },
    {
     "name": "stdout",
     "output_type": "stream",
     "text": [
      "[Validation] Epoch 153: Loss: 0.1901, Mean Dice: 0.7607\n"
     ]
    },
    {
     "name": "stderr",
     "output_type": "stream",
     "text": [
      "Training Epoch 154: 100%|██████████| 38/38 [00:07<00:00,  5.05batch/s, loss=0.0954]\n"
     ]
    },
    {
     "name": "stdout",
     "output_type": "stream",
     "text": [
      "[Training] Epoch 154: Loss: 0.1579, Mean Dice: 0.7033\n"
     ]
    },
    {
     "name": "stderr",
     "output_type": "stream",
     "text": [
      "Validation Epoch 154: 100%|██████████| 5/5 [00:00<00:00,  6.71batch/s, loss=0.113]\n"
     ]
    },
    {
     "name": "stdout",
     "output_type": "stream",
     "text": [
      "[Validation] Epoch 154: Loss: 0.1895, Mean Dice: 0.7615\n"
     ]
    },
    {
     "name": "stderr",
     "output_type": "stream",
     "text": [
      "Training Epoch 155: 100%|██████████| 38/38 [00:07<00:00,  4.80batch/s, loss=0.258] \n"
     ]
    },
    {
     "name": "stdout",
     "output_type": "stream",
     "text": [
      "[Training] Epoch 155: Loss: 0.1599, Mean Dice: 0.7737\n"
     ]
    },
    {
     "name": "stderr",
     "output_type": "stream",
     "text": [
      "Validation Epoch 155: 100%|██████████| 5/5 [00:00<00:00,  6.81batch/s, loss=0.108]\n"
     ]
    },
    {
     "name": "stdout",
     "output_type": "stream",
     "text": [
      "[Validation] Epoch 155: Loss: 0.1889, Mean Dice: 0.7768\n"
     ]
    },
    {
     "name": "stderr",
     "output_type": "stream",
     "text": [
      "Training Epoch 156: 100%|██████████| 38/38 [00:07<00:00,  4.99batch/s, loss=0.0988]\n"
     ]
    },
    {
     "name": "stdout",
     "output_type": "stream",
     "text": [
      "[Training] Epoch 156: Loss: 0.1596, Mean Dice: 0.7508\n"
     ]
    },
    {
     "name": "stderr",
     "output_type": "stream",
     "text": [
      "Validation Epoch 156: 100%|██████████| 5/5 [00:00<00:00,  6.76batch/s, loss=0.116]\n"
     ]
    },
    {
     "name": "stdout",
     "output_type": "stream",
     "text": [
      "[Validation] Epoch 156: Loss: 0.1989, Mean Dice: 0.7599\n"
     ]
    },
    {
     "name": "stderr",
     "output_type": "stream",
     "text": [
      "Training Epoch 157: 100%|██████████| 38/38 [00:07<00:00,  5.04batch/s, loss=0.209]\n"
     ]
    },
    {
     "name": "stdout",
     "output_type": "stream",
     "text": [
      "[Training] Epoch 157: Loss: 0.1602, Mean Dice: 0.8366\n"
     ]
    },
    {
     "name": "stderr",
     "output_type": "stream",
     "text": [
      "Validation Epoch 157: 100%|██████████| 5/5 [00:00<00:00,  6.32batch/s, loss=0.11] \n"
     ]
    },
    {
     "name": "stdout",
     "output_type": "stream",
     "text": [
      "[Validation] Epoch 157: Loss: 0.1837, Mean Dice: 0.7767\n"
     ]
    },
    {
     "name": "stderr",
     "output_type": "stream",
     "text": [
      "Training Epoch 158: 100%|██████████| 38/38 [00:07<00:00,  5.02batch/s, loss=0.178]\n"
     ]
    },
    {
     "name": "stdout",
     "output_type": "stream",
     "text": [
      "[Training] Epoch 158: Loss: 0.1572, Mean Dice: 0.8049\n"
     ]
    },
    {
     "name": "stderr",
     "output_type": "stream",
     "text": [
      "Validation Epoch 158: 100%|██████████| 5/5 [00:00<00:00,  6.69batch/s, loss=0.109]\n"
     ]
    },
    {
     "name": "stdout",
     "output_type": "stream",
     "text": [
      "[Validation] Epoch 158: Loss: 0.1864, Mean Dice: 0.7727\n"
     ]
    },
    {
     "name": "stderr",
     "output_type": "stream",
     "text": [
      "Training Epoch 159: 100%|██████████| 38/38 [00:07<00:00,  5.04batch/s, loss=0.119] \n"
     ]
    },
    {
     "name": "stdout",
     "output_type": "stream",
     "text": [
      "[Training] Epoch 159: Loss: 0.1607, Mean Dice: 0.8484\n"
     ]
    },
    {
     "name": "stderr",
     "output_type": "stream",
     "text": [
      "Validation Epoch 159: 100%|██████████| 5/5 [00:00<00:00,  6.93batch/s, loss=0.107]\n"
     ]
    },
    {
     "name": "stdout",
     "output_type": "stream",
     "text": [
      "[Validation] Epoch 159: Loss: 0.1840, Mean Dice: 0.7553\n"
     ]
    },
    {
     "name": "stderr",
     "output_type": "stream",
     "text": [
      "Training Epoch 160: 100%|██████████| 38/38 [00:07<00:00,  5.03batch/s, loss=0.322]\n"
     ]
    },
    {
     "name": "stdout",
     "output_type": "stream",
     "text": [
      "[Training] Epoch 160: Loss: 0.1558, Mean Dice: 0.6762\n"
     ]
    },
    {
     "name": "stderr",
     "output_type": "stream",
     "text": [
      "Validation Epoch 160: 100%|██████████| 5/5 [00:00<00:00,  6.95batch/s, loss=0.11] \n"
     ]
    },
    {
     "name": "stdout",
     "output_type": "stream",
     "text": [
      "[Validation] Epoch 160: Loss: 0.1892, Mean Dice: 0.7415\n"
     ]
    },
    {
     "name": "stderr",
     "output_type": "stream",
     "text": [
      "Training Epoch 161: 100%|██████████| 38/38 [00:07<00:00,  4.82batch/s, loss=0.095] \n"
     ]
    },
    {
     "name": "stdout",
     "output_type": "stream",
     "text": [
      "[Training] Epoch 161: Loss: 0.1563, Mean Dice: 0.7969\n"
     ]
    },
    {
     "name": "stderr",
     "output_type": "stream",
     "text": [
      "Validation Epoch 161: 100%|██████████| 5/5 [00:00<00:00,  6.85batch/s, loss=0.111]\n"
     ]
    },
    {
     "name": "stdout",
     "output_type": "stream",
     "text": [
      "[Validation] Epoch 161: Loss: 0.1847, Mean Dice: 0.7886\n"
     ]
    },
    {
     "name": "stderr",
     "output_type": "stream",
     "text": [
      "Training Epoch 162: 100%|██████████| 38/38 [00:07<00:00,  5.01batch/s, loss=0.101] \n"
     ]
    },
    {
     "name": "stdout",
     "output_type": "stream",
     "text": [
      "[Training] Epoch 162: Loss: 0.1578, Mean Dice: 0.7636\n"
     ]
    },
    {
     "name": "stderr",
     "output_type": "stream",
     "text": [
      "Validation Epoch 162: 100%|██████████| 5/5 [00:00<00:00,  6.48batch/s, loss=0.114]\n"
     ]
    },
    {
     "name": "stdout",
     "output_type": "stream",
     "text": [
      "[Validation] Epoch 162: Loss: 0.1909, Mean Dice: 0.7571\n"
     ]
    },
    {
     "name": "stderr",
     "output_type": "stream",
     "text": [
      "Training Epoch 163: 100%|██████████| 38/38 [00:07<00:00,  5.06batch/s, loss=0.17] \n"
     ]
    },
    {
     "name": "stdout",
     "output_type": "stream",
     "text": [
      "[Training] Epoch 163: Loss: 0.1587, Mean Dice: 0.7388\n"
     ]
    },
    {
     "name": "stderr",
     "output_type": "stream",
     "text": [
      "Validation Epoch 163: 100%|██████████| 5/5 [00:00<00:00,  6.38batch/s, loss=0.112]\n"
     ]
    },
    {
     "name": "stdout",
     "output_type": "stream",
     "text": [
      "[Validation] Epoch 163: Loss: 0.1891, Mean Dice: 0.6881\n"
     ]
    },
    {
     "name": "stderr",
     "output_type": "stream",
     "text": [
      "Training Epoch 164: 100%|██████████| 38/38 [00:07<00:00,  5.01batch/s, loss=0.104]\n"
     ]
    },
    {
     "name": "stdout",
     "output_type": "stream",
     "text": [
      "[Training] Epoch 164: Loss: 0.1576, Mean Dice: 0.7017\n"
     ]
    },
    {
     "name": "stderr",
     "output_type": "stream",
     "text": [
      "Validation Epoch 164: 100%|██████████| 5/5 [00:00<00:00,  6.74batch/s, loss=0.112]\n"
     ]
    },
    {
     "name": "stdout",
     "output_type": "stream",
     "text": [
      "[Validation] Epoch 164: Loss: 0.1877, Mean Dice: 0.7072\n"
     ]
    },
    {
     "name": "stderr",
     "output_type": "stream",
     "text": [
      "Training Epoch 165: 100%|██████████| 38/38 [00:07<00:00,  4.96batch/s, loss=0.122]\n"
     ]
    },
    {
     "name": "stdout",
     "output_type": "stream",
     "text": [
      "[Training] Epoch 165: Loss: 0.1595, Mean Dice: 0.8184\n"
     ]
    },
    {
     "name": "stderr",
     "output_type": "stream",
     "text": [
      "Validation Epoch 165: 100%|██████████| 5/5 [00:00<00:00,  6.55batch/s, loss=0.107]\n"
     ]
    },
    {
     "name": "stdout",
     "output_type": "stream",
     "text": [
      "[Validation] Epoch 165: Loss: 0.1887, Mean Dice: 0.7730\n",
      "Early stopping triggered\n"
     ]
    },
    {
     "name": "stderr",
     "output_type": "stream",
     "text": [
      "Training Epoch 166: 100%|██████████| 38/38 [00:07<00:00,  5.06batch/s, loss=0.0965]\n"
     ]
    },
    {
     "name": "stdout",
     "output_type": "stream",
     "text": [
      "[Training] Epoch 166: Loss: 0.1572, Mean Dice: 0.6441\n"
     ]
    },
    {
     "name": "stderr",
     "output_type": "stream",
     "text": [
      "Validation Epoch 166: 100%|██████████| 5/5 [00:00<00:00,  5.84batch/s, loss=0.106]\n"
     ]
    },
    {
     "name": "stdout",
     "output_type": "stream",
     "text": [
      "[Validation] Epoch 166: Loss: 0.1905, Mean Dice: 0.7906\n",
      "Early stopping triggered\n"
     ]
    },
    {
     "name": "stderr",
     "output_type": "stream",
     "text": [
      "Training Epoch 167: 100%|██████████| 38/38 [00:07<00:00,  4.98batch/s, loss=0.113] \n"
     ]
    },
    {
     "name": "stdout",
     "output_type": "stream",
     "text": [
      "[Training] Epoch 167: Loss: 0.1562, Mean Dice: 0.7198\n"
     ]
    },
    {
     "name": "stderr",
     "output_type": "stream",
     "text": [
      "Validation Epoch 167: 100%|██████████| 5/5 [00:00<00:00,  6.84batch/s, loss=0.111]\n"
     ]
    },
    {
     "name": "stdout",
     "output_type": "stream",
     "text": [
      "[Validation] Epoch 167: Loss: 0.1957, Mean Dice: 0.7599\n",
      "Early stopping triggered\n"
     ]
    },
    {
     "name": "stderr",
     "output_type": "stream",
     "text": [
      "Training Epoch 168: 100%|██████████| 38/38 [00:07<00:00,  4.81batch/s, loss=0.14] \n"
     ]
    },
    {
     "name": "stdout",
     "output_type": "stream",
     "text": [
      "[Training] Epoch 168: Loss: 0.1557, Mean Dice: 0.9088\n"
     ]
    },
    {
     "name": "stderr",
     "output_type": "stream",
     "text": [
      "Validation Epoch 168: 100%|██████████| 5/5 [00:00<00:00,  6.39batch/s, loss=0.115]\n"
     ]
    },
    {
     "name": "stdout",
     "output_type": "stream",
     "text": [
      "[Validation] Epoch 168: Loss: 0.1863, Mean Dice: 0.6613\n",
      "Early stopping triggered\n"
     ]
    },
    {
     "name": "stderr",
     "output_type": "stream",
     "text": [
      "Training Epoch 169: 100%|██████████| 38/38 [00:07<00:00,  4.97batch/s, loss=0.182]\n"
     ]
    },
    {
     "name": "stdout",
     "output_type": "stream",
     "text": [
      "[Training] Epoch 169: Loss: 0.1568, Mean Dice: 0.8032\n"
     ]
    },
    {
     "name": "stderr",
     "output_type": "stream",
     "text": [
      "Validation Epoch 169: 100%|██████████| 5/5 [00:00<00:00,  6.01batch/s, loss=0.108]\n"
     ]
    },
    {
     "name": "stdout",
     "output_type": "stream",
     "text": [
      "[Validation] Epoch 169: Loss: 0.1862, Mean Dice: 0.7672\n",
      "Early stopping triggered\n"
     ]
    },
    {
     "name": "stderr",
     "output_type": "stream",
     "text": [
      "Training Epoch 170: 100%|██████████| 38/38 [00:07<00:00,  4.95batch/s, loss=0.219]\n"
     ]
    },
    {
     "name": "stdout",
     "output_type": "stream",
     "text": [
      "[Training] Epoch 170: Loss: 0.1548, Mean Dice: 0.8321\n"
     ]
    },
    {
     "name": "stderr",
     "output_type": "stream",
     "text": [
      "Validation Epoch 170: 100%|██████████| 5/5 [00:00<00:00,  6.53batch/s, loss=0.109]\n"
     ]
    },
    {
     "name": "stdout",
     "output_type": "stream",
     "text": [
      "[Validation] Epoch 170: Loss: 0.1915, Mean Dice: 0.7569\n",
      "Early stopping triggered\n"
     ]
    },
    {
     "name": "stderr",
     "output_type": "stream",
     "text": [
      "Training Epoch 171: 100%|██████████| 38/38 [00:07<00:00,  5.03batch/s, loss=0.0884]\n"
     ]
    },
    {
     "name": "stdout",
     "output_type": "stream",
     "text": [
      "[Training] Epoch 171: Loss: 0.1567, Mean Dice: 0.7552\n"
     ]
    },
    {
     "name": "stderr",
     "output_type": "stream",
     "text": [
      "Validation Epoch 171: 100%|██████████| 5/5 [00:00<00:00,  6.61batch/s, loss=0.109]\n"
     ]
    },
    {
     "name": "stdout",
     "output_type": "stream",
     "text": [
      "[Validation] Epoch 171: Loss: 0.1868, Mean Dice: 0.7850\n",
      "Early stopping triggered\n"
     ]
    },
    {
     "name": "stderr",
     "output_type": "stream",
     "text": [
      "Training Epoch 172: 100%|██████████| 38/38 [00:07<00:00,  5.00batch/s, loss=0.209] \n"
     ]
    },
    {
     "name": "stdout",
     "output_type": "stream",
     "text": [
      "[Training] Epoch 172: Loss: 0.1519, Mean Dice: 0.7827\n"
     ]
    },
    {
     "name": "stderr",
     "output_type": "stream",
     "text": [
      "Validation Epoch 172: 100%|██████████| 5/5 [00:00<00:00,  6.47batch/s, loss=0.113]\n"
     ]
    },
    {
     "name": "stdout",
     "output_type": "stream",
     "text": [
      "[Validation] Epoch 172: Loss: 0.1867, Mean Dice: 0.7561\n",
      "Early stopping triggered\n"
     ]
    },
    {
     "name": "stderr",
     "output_type": "stream",
     "text": [
      "Training Epoch 173: 100%|██████████| 38/38 [00:07<00:00,  5.04batch/s, loss=0.105] \n"
     ]
    },
    {
     "name": "stdout",
     "output_type": "stream",
     "text": [
      "[Training] Epoch 173: Loss: 0.1542, Mean Dice: 0.8663\n"
     ]
    },
    {
     "name": "stderr",
     "output_type": "stream",
     "text": [
      "Validation Epoch 173: 100%|██████████| 5/5 [00:00<00:00,  6.78batch/s, loss=0.107]\n"
     ]
    },
    {
     "name": "stdout",
     "output_type": "stream",
     "text": [
      "[Validation] Epoch 173: Loss: 0.1862, Mean Dice: 0.7739\n",
      "Early stopping triggered\n"
     ]
    },
    {
     "name": "stderr",
     "output_type": "stream",
     "text": [
      "Training Epoch 174: 100%|██████████| 38/38 [00:07<00:00,  4.79batch/s, loss=0.0867]\n"
     ]
    },
    {
     "name": "stdout",
     "output_type": "stream",
     "text": [
      "[Training] Epoch 174: Loss: 0.1543, Mean Dice: 0.8373\n"
     ]
    },
    {
     "name": "stderr",
     "output_type": "stream",
     "text": [
      "Validation Epoch 174: 100%|██████████| 5/5 [00:00<00:00,  6.74batch/s, loss=0.108]\n"
     ]
    },
    {
     "name": "stdout",
     "output_type": "stream",
     "text": [
      "[Validation] Epoch 174: Loss: 0.1880, Mean Dice: 0.7688\n",
      "Early stopping triggered\n"
     ]
    },
    {
     "name": "stderr",
     "output_type": "stream",
     "text": [
      "Training Epoch 175: 100%|██████████| 38/38 [00:07<00:00,  4.92batch/s, loss=0.0951]\n"
     ]
    },
    {
     "name": "stdout",
     "output_type": "stream",
     "text": [
      "[Training] Epoch 175: Loss: 0.1586, Mean Dice: 0.8288\n"
     ]
    },
    {
     "name": "stderr",
     "output_type": "stream",
     "text": [
      "Validation Epoch 175: 100%|██████████| 5/5 [00:00<00:00,  6.71batch/s, loss=0.106]\n"
     ]
    },
    {
     "name": "stdout",
     "output_type": "stream",
     "text": [
      "[Validation] Epoch 175: Loss: 0.1857, Mean Dice: 0.7749\n",
      "Early stopping triggered\n"
     ]
    },
    {
     "name": "stderr",
     "output_type": "stream",
     "text": [
      "Training Epoch 176: 100%|██████████| 38/38 [00:07<00:00,  4.99batch/s, loss=0.0891]\n"
     ]
    },
    {
     "name": "stdout",
     "output_type": "stream",
     "text": [
      "[Training] Epoch 176: Loss: 0.1548, Mean Dice: 0.8178\n"
     ]
    },
    {
     "name": "stderr",
     "output_type": "stream",
     "text": [
      "Validation Epoch 176: 100%|██████████| 5/5 [00:00<00:00,  6.06batch/s, loss=0.115]\n"
     ]
    },
    {
     "name": "stdout",
     "output_type": "stream",
     "text": [
      "[Validation] Epoch 176: Loss: 0.1936, Mean Dice: 0.6937\n",
      "Early stopping triggered\n"
     ]
    },
    {
     "name": "stderr",
     "output_type": "stream",
     "text": [
      "Training Epoch 177: 100%|██████████| 38/38 [00:07<00:00,  4.95batch/s, loss=0.204] \n"
     ]
    },
    {
     "name": "stdout",
     "output_type": "stream",
     "text": [
      "[Training] Epoch 177: Loss: 0.1542, Mean Dice: 0.7753\n"
     ]
    },
    {
     "name": "stderr",
     "output_type": "stream",
     "text": [
      "Validation Epoch 177: 100%|██████████| 5/5 [00:00<00:00,  6.48batch/s, loss=0.115]\n"
     ]
    },
    {
     "name": "stdout",
     "output_type": "stream",
     "text": [
      "[Validation] Epoch 177: Loss: 0.1871, Mean Dice: 0.7476\n",
      "Early stopping triggered\n"
     ]
    },
    {
     "name": "stderr",
     "output_type": "stream",
     "text": [
      "Training Epoch 178: 100%|██████████| 38/38 [00:07<00:00,  4.97batch/s, loss=0.247]\n"
     ]
    },
    {
     "name": "stdout",
     "output_type": "stream",
     "text": [
      "[Training] Epoch 178: Loss: 0.1534, Mean Dice: 0.8244\n"
     ]
    },
    {
     "name": "stderr",
     "output_type": "stream",
     "text": [
      "Validation Epoch 178: 100%|██████████| 5/5 [00:00<00:00,  6.58batch/s, loss=0.108]\n"
     ]
    },
    {
     "name": "stdout",
     "output_type": "stream",
     "text": [
      "[Validation] Epoch 178: Loss: 0.1905, Mean Dice: 0.7546\n",
      "Early stopping triggered\n"
     ]
    },
    {
     "name": "stderr",
     "output_type": "stream",
     "text": [
      "Training Epoch 179: 100%|██████████| 38/38 [00:07<00:00,  4.97batch/s, loss=0.244] \n"
     ]
    },
    {
     "name": "stdout",
     "output_type": "stream",
     "text": [
      "[Training] Epoch 179: Loss: 0.1539, Mean Dice: 0.7729\n"
     ]
    },
    {
     "name": "stderr",
     "output_type": "stream",
     "text": [
      "Validation Epoch 179: 100%|██████████| 5/5 [00:00<00:00,  5.87batch/s, loss=0.113]\n"
     ]
    },
    {
     "name": "stdout",
     "output_type": "stream",
     "text": [
      "[Validation] Epoch 179: Loss: 0.1911, Mean Dice: 0.7769\n",
      "Early stopping triggered\n"
     ]
    },
    {
     "name": "stderr",
     "output_type": "stream",
     "text": [
      "Training Epoch 180: 100%|██████████| 38/38 [00:07<00:00,  5.03batch/s, loss=0.106] \n"
     ]
    },
    {
     "name": "stdout",
     "output_type": "stream",
     "text": [
      "[Training] Epoch 180: Loss: 0.1537, Mean Dice: 0.6657\n"
     ]
    },
    {
     "name": "stderr",
     "output_type": "stream",
     "text": [
      "Validation Epoch 180: 100%|██████████| 5/5 [00:01<00:00,  3.86batch/s, loss=0.113]\n"
     ]
    },
    {
     "name": "stdout",
     "output_type": "stream",
     "text": [
      "[Validation] Epoch 180: Loss: 0.1921, Mean Dice: 0.7273\n",
      "Early stopping triggered\n"
     ]
    },
    {
     "name": "stderr",
     "output_type": "stream",
     "text": [
      "Training Epoch 181: 100%|██████████| 38/38 [00:07<00:00,  4.96batch/s, loss=0.208] \n"
     ]
    },
    {
     "name": "stdout",
     "output_type": "stream",
     "text": [
      "[Training] Epoch 181: Loss: 0.1520, Mean Dice: 0.7106\n"
     ]
    },
    {
     "name": "stderr",
     "output_type": "stream",
     "text": [
      "Validation Epoch 181: 100%|██████████| 5/5 [00:00<00:00,  6.63batch/s, loss=0.111]\n"
     ]
    },
    {
     "name": "stdout",
     "output_type": "stream",
     "text": [
      "[Validation] Epoch 181: Loss: 0.1784, Mean Dice: 0.7777\n"
     ]
    },
    {
     "name": "stderr",
     "output_type": "stream",
     "text": [
      "Training Epoch 182: 100%|██████████| 38/38 [00:07<00:00,  5.00batch/s, loss=0.207] \n"
     ]
    },
    {
     "name": "stdout",
     "output_type": "stream",
     "text": [
      "[Training] Epoch 182: Loss: 0.1488, Mean Dice: 0.8423\n"
     ]
    },
    {
     "name": "stderr",
     "output_type": "stream",
     "text": [
      "Validation Epoch 182: 100%|██████████| 5/5 [00:00<00:00,  6.72batch/s, loss=0.108]\n"
     ]
    },
    {
     "name": "stdout",
     "output_type": "stream",
     "text": [
      "[Validation] Epoch 182: Loss: 0.1844, Mean Dice: 0.7654\n"
     ]
    },
    {
     "name": "stderr",
     "output_type": "stream",
     "text": [
      "Training Epoch 183: 100%|██████████| 38/38 [00:07<00:00,  5.00batch/s, loss=0.189]\n"
     ]
    },
    {
     "name": "stdout",
     "output_type": "stream",
     "text": [
      "[Training] Epoch 183: Loss: 0.1486, Mean Dice: 0.7772\n"
     ]
    },
    {
     "name": "stderr",
     "output_type": "stream",
     "text": [
      "Validation Epoch 183: 100%|██████████| 5/5 [00:00<00:00,  6.56batch/s, loss=0.107]\n"
     ]
    },
    {
     "name": "stdout",
     "output_type": "stream",
     "text": [
      "[Validation] Epoch 183: Loss: 0.1918, Mean Dice: 0.7395\n"
     ]
    },
    {
     "name": "stderr",
     "output_type": "stream",
     "text": [
      "Training Epoch 184: 100%|██████████| 38/38 [00:07<00:00,  4.97batch/s, loss=0.269]\n"
     ]
    },
    {
     "name": "stdout",
     "output_type": "stream",
     "text": [
      "[Training] Epoch 184: Loss: 0.1508, Mean Dice: 0.8216\n"
     ]
    },
    {
     "name": "stderr",
     "output_type": "stream",
     "text": [
      "Validation Epoch 184: 100%|██████████| 5/5 [00:00<00:00,  6.73batch/s, loss=0.117]\n"
     ]
    },
    {
     "name": "stdout",
     "output_type": "stream",
     "text": [
      "[Validation] Epoch 184: Loss: 0.1849, Mean Dice: 0.7614\n"
     ]
    },
    {
     "name": "stderr",
     "output_type": "stream",
     "text": [
      "Training Epoch 185: 100%|██████████| 38/38 [00:07<00:00,  4.99batch/s, loss=0.148] \n"
     ]
    },
    {
     "name": "stdout",
     "output_type": "stream",
     "text": [
      "[Training] Epoch 185: Loss: 0.1512, Mean Dice: 0.7757\n"
     ]
    },
    {
     "name": "stderr",
     "output_type": "stream",
     "text": [
      "Validation Epoch 185: 100%|██████████| 5/5 [00:00<00:00,  6.78batch/s, loss=0.112]\n"
     ]
    },
    {
     "name": "stdout",
     "output_type": "stream",
     "text": [
      "[Validation] Epoch 185: Loss: 0.1813, Mean Dice: 0.7440\n"
     ]
    },
    {
     "name": "stderr",
     "output_type": "stream",
     "text": [
      "Training Epoch 186: 100%|██████████| 38/38 [00:07<00:00,  5.05batch/s, loss=0.134]\n"
     ]
    },
    {
     "name": "stdout",
     "output_type": "stream",
     "text": [
      "[Training] Epoch 186: Loss: 0.1554, Mean Dice: 0.8699\n"
     ]
    },
    {
     "name": "stderr",
     "output_type": "stream",
     "text": [
      "Validation Epoch 186: 100%|██████████| 5/5 [00:00<00:00,  6.67batch/s, loss=0.114]\n"
     ]
    },
    {
     "name": "stdout",
     "output_type": "stream",
     "text": [
      "[Validation] Epoch 186: Loss: 0.1968, Mean Dice: 0.7480\n"
     ]
    },
    {
     "name": "stderr",
     "output_type": "stream",
     "text": [
      "Training Epoch 187: 100%|██████████| 38/38 [00:07<00:00,  4.78batch/s, loss=0.0976]\n"
     ]
    },
    {
     "name": "stdout",
     "output_type": "stream",
     "text": [
      "[Training] Epoch 187: Loss: 0.1501, Mean Dice: 0.8099\n"
     ]
    },
    {
     "name": "stderr",
     "output_type": "stream",
     "text": [
      "Validation Epoch 187: 100%|██████████| 5/5 [00:00<00:00,  6.57batch/s, loss=0.11] \n"
     ]
    },
    {
     "name": "stdout",
     "output_type": "stream",
     "text": [
      "[Validation] Epoch 187: Loss: 0.1937, Mean Dice: 0.6698\n"
     ]
    },
    {
     "name": "stderr",
     "output_type": "stream",
     "text": [
      "Training Epoch 188: 100%|██████████| 38/38 [00:07<00:00,  5.00batch/s, loss=0.203] \n"
     ]
    },
    {
     "name": "stdout",
     "output_type": "stream",
     "text": [
      "[Training] Epoch 188: Loss: 0.1488, Mean Dice: 0.7099\n"
     ]
    },
    {
     "name": "stderr",
     "output_type": "stream",
     "text": [
      "Validation Epoch 188: 100%|██████████| 5/5 [00:00<00:00,  6.83batch/s, loss=0.111]\n"
     ]
    },
    {
     "name": "stdout",
     "output_type": "stream",
     "text": [
      "[Validation] Epoch 188: Loss: 0.1830, Mean Dice: 0.7138\n"
     ]
    },
    {
     "name": "stderr",
     "output_type": "stream",
     "text": [
      "Training Epoch 189: 100%|██████████| 38/38 [00:07<00:00,  5.07batch/s, loss=0.0898]\n"
     ]
    },
    {
     "name": "stdout",
     "output_type": "stream",
     "text": [
      "[Training] Epoch 189: Loss: 0.1508, Mean Dice: 0.8350\n"
     ]
    },
    {
     "name": "stderr",
     "output_type": "stream",
     "text": [
      "Validation Epoch 189: 100%|██████████| 5/5 [00:00<00:00,  6.22batch/s, loss=0.117]\n"
     ]
    },
    {
     "name": "stdout",
     "output_type": "stream",
     "text": [
      "[Validation] Epoch 189: Loss: 0.1896, Mean Dice: 0.7367\n"
     ]
    },
    {
     "name": "stderr",
     "output_type": "stream",
     "text": [
      "Training Epoch 190: 100%|██████████| 38/38 [00:07<00:00,  5.00batch/s, loss=0.145] \n"
     ]
    },
    {
     "name": "stdout",
     "output_type": "stream",
     "text": [
      "[Training] Epoch 190: Loss: 0.1498, Mean Dice: 0.6812\n"
     ]
    },
    {
     "name": "stderr",
     "output_type": "stream",
     "text": [
      "Validation Epoch 190: 100%|██████████| 5/5 [00:00<00:00,  6.84batch/s, loss=0.107]\n"
     ]
    },
    {
     "name": "stdout",
     "output_type": "stream",
     "text": [
      "[Validation] Epoch 190: Loss: 0.1832, Mean Dice: 0.6947\n"
     ]
    },
    {
     "name": "stderr",
     "output_type": "stream",
     "text": [
      "Training Epoch 191: 100%|██████████| 38/38 [00:07<00:00,  4.98batch/s, loss=0.09] \n"
     ]
    },
    {
     "name": "stdout",
     "output_type": "stream",
     "text": [
      "[Training] Epoch 191: Loss: 0.1527, Mean Dice: 0.7139\n"
     ]
    },
    {
     "name": "stderr",
     "output_type": "stream",
     "text": [
      "Validation Epoch 191: 100%|██████████| 5/5 [00:00<00:00,  6.73batch/s, loss=0.121]\n"
     ]
    },
    {
     "name": "stdout",
     "output_type": "stream",
     "text": [
      "[Validation] Epoch 191: Loss: 0.2029, Mean Dice: 0.7464\n"
     ]
    },
    {
     "name": "stderr",
     "output_type": "stream",
     "text": [
      "Training Epoch 192: 100%|██████████| 38/38 [00:07<00:00,  5.04batch/s, loss=0.171] \n"
     ]
    },
    {
     "name": "stdout",
     "output_type": "stream",
     "text": [
      "[Training] Epoch 192: Loss: 0.1613, Mean Dice: 0.8139\n"
     ]
    },
    {
     "name": "stderr",
     "output_type": "stream",
     "text": [
      "Validation Epoch 192: 100%|██████████| 5/5 [00:00<00:00,  6.46batch/s, loss=0.113]\n"
     ]
    },
    {
     "name": "stdout",
     "output_type": "stream",
     "text": [
      "[Validation] Epoch 192: Loss: 0.1882, Mean Dice: 0.7550\n"
     ]
    },
    {
     "name": "stderr",
     "output_type": "stream",
     "text": [
      "Training Epoch 193: 100%|██████████| 38/38 [00:07<00:00,  4.98batch/s, loss=0.311]\n"
     ]
    },
    {
     "name": "stdout",
     "output_type": "stream",
     "text": [
      "[Training] Epoch 193: Loss: 0.1547, Mean Dice: 0.7959\n"
     ]
    },
    {
     "name": "stderr",
     "output_type": "stream",
     "text": [
      "Validation Epoch 193: 100%|██████████| 5/5 [00:01<00:00,  3.82batch/s, loss=0.112]\n"
     ]
    },
    {
     "name": "stdout",
     "output_type": "stream",
     "text": [
      "[Validation] Epoch 193: Loss: 0.1926, Mean Dice: 0.7430\n"
     ]
    },
    {
     "name": "stderr",
     "output_type": "stream",
     "text": [
      "Training Epoch 194: 100%|██████████| 38/38 [00:07<00:00,  4.96batch/s, loss=0.254]\n"
     ]
    },
    {
     "name": "stdout",
     "output_type": "stream",
     "text": [
      "[Training] Epoch 194: Loss: 0.1518, Mean Dice: 0.7492\n"
     ]
    },
    {
     "name": "stderr",
     "output_type": "stream",
     "text": [
      "Validation Epoch 194: 100%|██████████| 5/5 [00:00<00:00,  6.42batch/s, loss=0.109]\n"
     ]
    },
    {
     "name": "stdout",
     "output_type": "stream",
     "text": [
      "[Validation] Epoch 194: Loss: 0.1834, Mean Dice: 0.7508\n"
     ]
    },
    {
     "name": "stderr",
     "output_type": "stream",
     "text": [
      "Training Epoch 195: 100%|██████████| 38/38 [00:07<00:00,  5.00batch/s, loss=0.0932]\n"
     ]
    },
    {
     "name": "stdout",
     "output_type": "stream",
     "text": [
      "[Training] Epoch 195: Loss: 0.1481, Mean Dice: 0.8421\n"
     ]
    },
    {
     "name": "stderr",
     "output_type": "stream",
     "text": [
      "Validation Epoch 195: 100%|██████████| 5/5 [00:00<00:00,  6.03batch/s, loss=0.105]\n"
     ]
    },
    {
     "name": "stdout",
     "output_type": "stream",
     "text": [
      "[Validation] Epoch 195: Loss: 0.1834, Mean Dice: 0.7439\n"
     ]
    },
    {
     "name": "stderr",
     "output_type": "stream",
     "text": [
      "Training Epoch 196: 100%|██████████| 38/38 [00:07<00:00,  5.02batch/s, loss=0.0958]\n"
     ]
    },
    {
     "name": "stdout",
     "output_type": "stream",
     "text": [
      "[Training] Epoch 196: Loss: 0.1470, Mean Dice: 0.8647\n"
     ]
    },
    {
     "name": "stderr",
     "output_type": "stream",
     "text": [
      "Validation Epoch 196: 100%|██████████| 5/5 [00:00<00:00,  6.56batch/s, loss=0.11] \n"
     ]
    },
    {
     "name": "stdout",
     "output_type": "stream",
     "text": [
      "[Validation] Epoch 196: Loss: 0.1930, Mean Dice: 0.7609\n",
      "Early stopping triggered\n"
     ]
    },
    {
     "name": "stderr",
     "output_type": "stream",
     "text": [
      "Training Epoch 197: 100%|██████████| 38/38 [00:07<00:00,  4.95batch/s, loss=0.336]\n"
     ]
    },
    {
     "name": "stdout",
     "output_type": "stream",
     "text": [
      "[Training] Epoch 197: Loss: 0.1526, Mean Dice: 0.7129\n"
     ]
    },
    {
     "name": "stderr",
     "output_type": "stream",
     "text": [
      "Validation Epoch 197: 100%|██████████| 5/5 [00:00<00:00,  6.89batch/s, loss=0.112]\n"
     ]
    },
    {
     "name": "stdout",
     "output_type": "stream",
     "text": [
      "[Validation] Epoch 197: Loss: 0.2008, Mean Dice: 0.7271\n",
      "Early stopping triggered\n"
     ]
    },
    {
     "name": "stderr",
     "output_type": "stream",
     "text": [
      "Training Epoch 198: 100%|██████████| 38/38 [00:07<00:00,  5.00batch/s, loss=0.253]\n"
     ]
    },
    {
     "name": "stdout",
     "output_type": "stream",
     "text": [
      "[Training] Epoch 198: Loss: 0.1501, Mean Dice: 0.8442\n"
     ]
    },
    {
     "name": "stderr",
     "output_type": "stream",
     "text": [
      "Validation Epoch 198: 100%|██████████| 5/5 [00:00<00:00,  6.57batch/s, loss=0.113]\n"
     ]
    },
    {
     "name": "stdout",
     "output_type": "stream",
     "text": [
      "[Validation] Epoch 198: Loss: 0.1888, Mean Dice: 0.7636\n",
      "Early stopping triggered\n"
     ]
    },
    {
     "name": "stderr",
     "output_type": "stream",
     "text": [
      "Training Epoch 199: 100%|██████████| 38/38 [00:07<00:00,  5.12batch/s, loss=0.112]\n"
     ]
    },
    {
     "name": "stdout",
     "output_type": "stream",
     "text": [
      "[Training] Epoch 199: Loss: 0.1500, Mean Dice: 0.8303\n"
     ]
    },
    {
     "name": "stderr",
     "output_type": "stream",
     "text": [
      "Validation Epoch 199: 100%|██████████| 5/5 [00:00<00:00,  6.87batch/s, loss=0.11] \n"
     ]
    },
    {
     "name": "stdout",
     "output_type": "stream",
     "text": [
      "[Validation] Epoch 199: Loss: 0.1787, Mean Dice: 0.7799\n",
      "Early stopping triggered\n"
     ]
    },
    {
     "name": "stderr",
     "output_type": "stream",
     "text": [
      "Training Epoch 200: 100%|██████████| 38/38 [00:07<00:00,  4.83batch/s, loss=0.0869]\n"
     ]
    },
    {
     "name": "stdout",
     "output_type": "stream",
     "text": [
      "[Training] Epoch 200: Loss: 0.1504, Mean Dice: 0.8091\n"
     ]
    },
    {
     "name": "stderr",
     "output_type": "stream",
     "text": [
      "Validation Epoch 200: 100%|██████████| 5/5 [00:00<00:00,  6.77batch/s, loss=0.105]\n"
     ]
    },
    {
     "name": "stdout",
     "output_type": "stream",
     "text": [
      "[Validation] Epoch 200: Loss: 0.1856, Mean Dice: 0.7684\n",
      "Early stopping triggered\n"
     ]
    },
    {
     "name": "stderr",
     "output_type": "stream",
     "text": [
      "Training Epoch 201: 100%|██████████| 38/38 [00:07<00:00,  5.04batch/s, loss=0.0948]\n"
     ]
    },
    {
     "name": "stdout",
     "output_type": "stream",
     "text": [
      "[Training] Epoch 201: Loss: 0.1496, Mean Dice: 0.7214\n"
     ]
    },
    {
     "name": "stderr",
     "output_type": "stream",
     "text": [
      "Validation Epoch 201: 100%|██████████| 5/5 [00:00<00:00,  6.66batch/s, loss=0.108]\n"
     ]
    },
    {
     "name": "stdout",
     "output_type": "stream",
     "text": [
      "[Validation] Epoch 201: Loss: 0.1905, Mean Dice: 0.7982\n",
      "Early stopping triggered\n"
     ]
    },
    {
     "name": "stderr",
     "output_type": "stream",
     "text": [
      "Training Epoch 202: 100%|██████████| 38/38 [00:07<00:00,  5.12batch/s, loss=0.155] \n"
     ]
    },
    {
     "name": "stdout",
     "output_type": "stream",
     "text": [
      "[Training] Epoch 202: Loss: 0.1481, Mean Dice: 0.7779\n"
     ]
    },
    {
     "name": "stderr",
     "output_type": "stream",
     "text": [
      "Validation Epoch 202: 100%|██████████| 5/5 [00:00<00:00,  6.85batch/s, loss=0.108]\n"
     ]
    },
    {
     "name": "stdout",
     "output_type": "stream",
     "text": [
      "[Validation] Epoch 202: Loss: 0.1868, Mean Dice: 0.7846\n",
      "Early stopping triggered\n"
     ]
    },
    {
     "name": "stderr",
     "output_type": "stream",
     "text": [
      "Training Epoch 203: 100%|██████████| 38/38 [00:07<00:00,  5.03batch/s, loss=0.179] \n"
     ]
    },
    {
     "name": "stdout",
     "output_type": "stream",
     "text": [
      "[Training] Epoch 203: Loss: 0.1449, Mean Dice: 0.8357\n"
     ]
    },
    {
     "name": "stderr",
     "output_type": "stream",
     "text": [
      "Validation Epoch 203: 100%|██████████| 5/5 [00:00<00:00,  6.71batch/s, loss=0.111]\n"
     ]
    },
    {
     "name": "stdout",
     "output_type": "stream",
     "text": [
      "[Validation] Epoch 203: Loss: 0.1871, Mean Dice: 0.7796\n",
      "Early stopping triggered\n"
     ]
    },
    {
     "name": "stderr",
     "output_type": "stream",
     "text": [
      "Training Epoch 204: 100%|██████████| 38/38 [00:07<00:00,  5.06batch/s, loss=0.141] \n"
     ]
    },
    {
     "name": "stdout",
     "output_type": "stream",
     "text": [
      "[Training] Epoch 204: Loss: 0.1471, Mean Dice: 0.8434\n"
     ]
    },
    {
     "name": "stderr",
     "output_type": "stream",
     "text": [
      "Validation Epoch 204: 100%|██████████| 5/5 [00:00<00:00,  6.45batch/s, loss=0.115]\n"
     ]
    },
    {
     "name": "stdout",
     "output_type": "stream",
     "text": [
      "[Validation] Epoch 204: Loss: 0.1828, Mean Dice: 0.7721\n",
      "Early stopping triggered\n"
     ]
    },
    {
     "name": "stderr",
     "output_type": "stream",
     "text": [
      "Training Epoch 205: 100%|██████████| 38/38 [00:07<00:00,  5.06batch/s, loss=0.154] \n"
     ]
    },
    {
     "name": "stdout",
     "output_type": "stream",
     "text": [
      "[Training] Epoch 205: Loss: 0.1482, Mean Dice: 0.7389\n"
     ]
    },
    {
     "name": "stderr",
     "output_type": "stream",
     "text": [
      "Validation Epoch 205: 100%|██████████| 5/5 [00:00<00:00,  6.76batch/s, loss=0.111]\n"
     ]
    },
    {
     "name": "stdout",
     "output_type": "stream",
     "text": [
      "[Validation] Epoch 205: Loss: 0.1851, Mean Dice: 0.7945\n",
      "Early stopping triggered\n"
     ]
    },
    {
     "name": "stderr",
     "output_type": "stream",
     "text": [
      "Training Epoch 206: 100%|██████████| 38/38 [00:07<00:00,  4.79batch/s, loss=0.0914]\n"
     ]
    },
    {
     "name": "stdout",
     "output_type": "stream",
     "text": [
      "[Training] Epoch 206: Loss: 0.1456, Mean Dice: 0.8132\n"
     ]
    },
    {
     "name": "stderr",
     "output_type": "stream",
     "text": [
      "Validation Epoch 206: 100%|██████████| 5/5 [00:00<00:00,  6.73batch/s, loss=0.103]\n"
     ]
    },
    {
     "name": "stdout",
     "output_type": "stream",
     "text": [
      "[Validation] Epoch 206: Loss: 0.1817, Mean Dice: 0.7871\n",
      "Early stopping triggered\n"
     ]
    },
    {
     "name": "stderr",
     "output_type": "stream",
     "text": [
      "Training Epoch 207: 100%|██████████| 38/38 [00:07<00:00,  4.97batch/s, loss=0.24]  \n"
     ]
    },
    {
     "name": "stdout",
     "output_type": "stream",
     "text": [
      "[Training] Epoch 207: Loss: 0.1462, Mean Dice: 0.8795\n"
     ]
    },
    {
     "name": "stderr",
     "output_type": "stream",
     "text": [
      "Validation Epoch 207: 100%|██████████| 5/5 [00:00<00:00,  6.50batch/s, loss=0.115]\n"
     ]
    },
    {
     "name": "stdout",
     "output_type": "stream",
     "text": [
      "[Validation] Epoch 207: Loss: 0.1878, Mean Dice: 0.6699\n",
      "Early stopping triggered\n"
     ]
    },
    {
     "name": "stderr",
     "output_type": "stream",
     "text": [
      "Training Epoch 208: 100%|██████████| 38/38 [00:07<00:00,  5.01batch/s, loss=0.174]\n"
     ]
    },
    {
     "name": "stdout",
     "output_type": "stream",
     "text": [
      "[Training] Epoch 208: Loss: 0.1465, Mean Dice: 0.7828\n"
     ]
    },
    {
     "name": "stderr",
     "output_type": "stream",
     "text": [
      "Validation Epoch 208: 100%|██████████| 5/5 [00:00<00:00,  6.39batch/s, loss=0.112]\n"
     ]
    },
    {
     "name": "stdout",
     "output_type": "stream",
     "text": [
      "[Validation] Epoch 208: Loss: 0.1945, Mean Dice: 0.6666\n",
      "Early stopping triggered\n"
     ]
    },
    {
     "name": "stderr",
     "output_type": "stream",
     "text": [
      "Training Epoch 209: 100%|██████████| 38/38 [00:07<00:00,  5.02batch/s, loss=0.0875]\n"
     ]
    },
    {
     "name": "stdout",
     "output_type": "stream",
     "text": [
      "[Training] Epoch 209: Loss: 0.1445, Mean Dice: 0.8057\n"
     ]
    },
    {
     "name": "stderr",
     "output_type": "stream",
     "text": [
      "Validation Epoch 209: 100%|██████████| 5/5 [00:00<00:00,  6.58batch/s, loss=0.11] \n"
     ]
    },
    {
     "name": "stdout",
     "output_type": "stream",
     "text": [
      "[Validation] Epoch 209: Loss: 0.1852, Mean Dice: 0.7677\n",
      "Early stopping triggered\n"
     ]
    },
    {
     "name": "stderr",
     "output_type": "stream",
     "text": [
      "Training Epoch 210: 100%|██████████| 38/38 [00:07<00:00,  4.99batch/s, loss=0.0866]\n"
     ]
    },
    {
     "name": "stdout",
     "output_type": "stream",
     "text": [
      "[Training] Epoch 210: Loss: 0.1460, Mean Dice: 0.8155\n"
     ]
    },
    {
     "name": "stderr",
     "output_type": "stream",
     "text": [
      "Validation Epoch 210: 100%|██████████| 5/5 [00:00<00:00,  6.99batch/s, loss=0.109]\n"
     ]
    },
    {
     "name": "stdout",
     "output_type": "stream",
     "text": [
      "[Validation] Epoch 210: Loss: 0.1919, Mean Dice: 0.7577\n",
      "Early stopping triggered\n"
     ]
    },
    {
     "name": "stderr",
     "output_type": "stream",
     "text": [
      "Training Epoch 211: 100%|██████████| 38/38 [00:07<00:00,  5.07batch/s, loss=0.138] \n"
     ]
    },
    {
     "name": "stdout",
     "output_type": "stream",
     "text": [
      "[Training] Epoch 211: Loss: 0.1429, Mean Dice: 0.7902\n"
     ]
    },
    {
     "name": "stderr",
     "output_type": "stream",
     "text": [
      "Validation Epoch 211: 100%|██████████| 5/5 [00:00<00:00,  6.36batch/s, loss=0.111]\n"
     ]
    },
    {
     "name": "stdout",
     "output_type": "stream",
     "text": [
      "[Validation] Epoch 211: Loss: 0.1842, Mean Dice: 0.7759\n",
      "Early stopping triggered\n"
     ]
    },
    {
     "name": "stderr",
     "output_type": "stream",
     "text": [
      "Training Epoch 212: 100%|██████████| 38/38 [00:07<00:00,  4.84batch/s, loss=0.0862]\n"
     ]
    },
    {
     "name": "stdout",
     "output_type": "stream",
     "text": [
      "[Training] Epoch 212: Loss: 0.1465, Mean Dice: 0.8660\n"
     ]
    },
    {
     "name": "stderr",
     "output_type": "stream",
     "text": [
      "Validation Epoch 212: 100%|██████████| 5/5 [00:00<00:00,  6.64batch/s, loss=0.109]\n"
     ]
    },
    {
     "name": "stdout",
     "output_type": "stream",
     "text": [
      "[Validation] Epoch 212: Loss: 0.1829, Mean Dice: 0.7541\n",
      "Early stopping triggered\n"
     ]
    },
    {
     "name": "stderr",
     "output_type": "stream",
     "text": [
      "Training Epoch 213: 100%|██████████| 38/38 [00:07<00:00,  5.03batch/s, loss=0.0967]\n"
     ]
    },
    {
     "name": "stdout",
     "output_type": "stream",
     "text": [
      "[Training] Epoch 213: Loss: 0.1462, Mean Dice: 0.8006\n"
     ]
    },
    {
     "name": "stderr",
     "output_type": "stream",
     "text": [
      "Validation Epoch 213: 100%|██████████| 5/5 [00:00<00:00,  6.44batch/s, loss=0.11] \n"
     ]
    },
    {
     "name": "stdout",
     "output_type": "stream",
     "text": [
      "[Validation] Epoch 213: Loss: 0.1792, Mean Dice: 0.7474\n",
      "Early stopping triggered\n"
     ]
    },
    {
     "name": "stderr",
     "output_type": "stream",
     "text": [
      "Training Epoch 214: 100%|██████████| 38/38 [00:07<00:00,  5.03batch/s, loss=0.131] \n"
     ]
    },
    {
     "name": "stdout",
     "output_type": "stream",
     "text": [
      "[Training] Epoch 214: Loss: 0.1451, Mean Dice: 0.8568\n"
     ]
    },
    {
     "name": "stderr",
     "output_type": "stream",
     "text": [
      "Validation Epoch 214: 100%|██████████| 5/5 [00:00<00:00,  5.93batch/s, loss=0.105]\n"
     ]
    },
    {
     "name": "stdout",
     "output_type": "stream",
     "text": [
      "[Validation] Epoch 214: Loss: 0.1797, Mean Dice: 0.7918\n",
      "Early stopping triggered\n"
     ]
    },
    {
     "name": "stderr",
     "output_type": "stream",
     "text": [
      "Training Epoch 215: 100%|██████████| 38/38 [00:07<00:00,  5.06batch/s, loss=0.122]\n"
     ]
    },
    {
     "name": "stdout",
     "output_type": "stream",
     "text": [
      "[Training] Epoch 215: Loss: 0.1437, Mean Dice: 0.8382\n"
     ]
    },
    {
     "name": "stderr",
     "output_type": "stream",
     "text": [
      "Validation Epoch 215: 100%|██████████| 5/5 [00:00<00:00,  6.54batch/s, loss=0.109]\n"
     ]
    },
    {
     "name": "stdout",
     "output_type": "stream",
     "text": [
      "[Validation] Epoch 215: Loss: 0.1869, Mean Dice: 0.7609\n",
      "Early stopping triggered\n"
     ]
    },
    {
     "name": "stderr",
     "output_type": "stream",
     "text": [
      "Training Epoch 216: 100%|██████████| 38/38 [00:07<00:00,  4.97batch/s, loss=0.245] \n"
     ]
    },
    {
     "name": "stdout",
     "output_type": "stream",
     "text": [
      "[Training] Epoch 216: Loss: 0.1418, Mean Dice: 0.7560\n"
     ]
    },
    {
     "name": "stderr",
     "output_type": "stream",
     "text": [
      "Validation Epoch 216: 100%|██████████| 5/5 [00:00<00:00,  6.63batch/s, loss=0.108]\n"
     ]
    },
    {
     "name": "stdout",
     "output_type": "stream",
     "text": [
      "[Validation] Epoch 216: Loss: 0.1893, Mean Dice: 0.7742\n",
      "Early stopping triggered\n"
     ]
    },
    {
     "name": "stderr",
     "output_type": "stream",
     "text": [
      "Training Epoch 217: 100%|██████████| 38/38 [00:07<00:00,  5.04batch/s, loss=0.2]   \n"
     ]
    },
    {
     "name": "stdout",
     "output_type": "stream",
     "text": [
      "[Training] Epoch 217: Loss: 0.1449, Mean Dice: 0.8331\n"
     ]
    },
    {
     "name": "stderr",
     "output_type": "stream",
     "text": [
      "Validation Epoch 217: 100%|██████████| 5/5 [00:00<00:00,  5.60batch/s, loss=0.107]\n"
     ]
    },
    {
     "name": "stdout",
     "output_type": "stream",
     "text": [
      "[Validation] Epoch 217: Loss: 0.1821, Mean Dice: 0.7805\n",
      "Early stopping triggered\n"
     ]
    },
    {
     "name": "stderr",
     "output_type": "stream",
     "text": [
      "Training Epoch 218: 100%|██████████| 38/38 [00:07<00:00,  4.96batch/s, loss=0.0973]\n"
     ]
    },
    {
     "name": "stdout",
     "output_type": "stream",
     "text": [
      "[Training] Epoch 218: Loss: 0.1409, Mean Dice: 0.8386\n"
     ]
    },
    {
     "name": "stderr",
     "output_type": "stream",
     "text": [
      "Validation Epoch 218: 100%|██████████| 5/5 [00:01<00:00,  3.79batch/s, loss=0.108]\n"
     ]
    },
    {
     "name": "stdout",
     "output_type": "stream",
     "text": [
      "[Validation] Epoch 218: Loss: 0.1853, Mean Dice: 0.7401\n",
      "Early stopping triggered\n"
     ]
    },
    {
     "name": "stderr",
     "output_type": "stream",
     "text": [
      "Training Epoch 219: 100%|██████████| 38/38 [00:07<00:00,  4.98batch/s, loss=0.0887]\n"
     ]
    },
    {
     "name": "stdout",
     "output_type": "stream",
     "text": [
      "[Training] Epoch 219: Loss: 0.1419, Mean Dice: 0.7672\n"
     ]
    },
    {
     "name": "stderr",
     "output_type": "stream",
     "text": [
      "Validation Epoch 219: 100%|██████████| 5/5 [00:00<00:00,  6.69batch/s, loss=0.107]\n"
     ]
    },
    {
     "name": "stdout",
     "output_type": "stream",
     "text": [
      "[Validation] Epoch 219: Loss: 0.1823, Mean Dice: 0.7696\n",
      "Early stopping triggered\n"
     ]
    },
    {
     "name": "stderr",
     "output_type": "stream",
     "text": [
      "Training Epoch 220: 100%|██████████| 38/38 [00:07<00:00,  5.01batch/s, loss=0.306] \n"
     ]
    },
    {
     "name": "stdout",
     "output_type": "stream",
     "text": [
      "[Training] Epoch 220: Loss: 0.1425, Mean Dice: 0.6248\n"
     ]
    },
    {
     "name": "stderr",
     "output_type": "stream",
     "text": [
      "Validation Epoch 220: 100%|██████████| 5/5 [00:00<00:00,  6.51batch/s, loss=0.106]\n"
     ]
    },
    {
     "name": "stdout",
     "output_type": "stream",
     "text": [
      "[Validation] Epoch 220: Loss: 0.1829, Mean Dice: 0.7653\n",
      "Early stopping triggered\n"
     ]
    },
    {
     "name": "stderr",
     "output_type": "stream",
     "text": [
      "Training Epoch 221: 100%|██████████| 38/38 [00:07<00:00,  5.05batch/s, loss=0.156] \n"
     ]
    },
    {
     "name": "stdout",
     "output_type": "stream",
     "text": [
      "[Training] Epoch 221: Loss: 0.1474, Mean Dice: 0.7237\n"
     ]
    },
    {
     "name": "stderr",
     "output_type": "stream",
     "text": [
      "Validation Epoch 221: 100%|██████████| 5/5 [00:00<00:00,  6.48batch/s, loss=0.107]\n"
     ]
    },
    {
     "name": "stdout",
     "output_type": "stream",
     "text": [
      "[Validation] Epoch 221: Loss: 0.1963, Mean Dice: 0.7579\n",
      "Early stopping triggered\n"
     ]
    },
    {
     "name": "stderr",
     "output_type": "stream",
     "text": [
      "Training Epoch 222: 100%|██████████| 38/38 [00:07<00:00,  5.01batch/s, loss=0.0941]\n"
     ]
    },
    {
     "name": "stdout",
     "output_type": "stream",
     "text": [
      "[Training] Epoch 222: Loss: 0.1449, Mean Dice: 0.7935\n"
     ]
    },
    {
     "name": "stderr",
     "output_type": "stream",
     "text": [
      "Validation Epoch 222: 100%|██████████| 5/5 [00:00<00:00,  6.76batch/s, loss=0.11] \n"
     ]
    },
    {
     "name": "stdout",
     "output_type": "stream",
     "text": [
      "[Validation] Epoch 222: Loss: 0.1798, Mean Dice: 0.7831\n",
      "Early stopping triggered\n"
     ]
    },
    {
     "name": "stderr",
     "output_type": "stream",
     "text": [
      "Training Epoch 223: 100%|██████████| 38/38 [00:07<00:00,  4.98batch/s, loss=0.0808]\n"
     ]
    },
    {
     "name": "stdout",
     "output_type": "stream",
     "text": [
      "[Training] Epoch 223: Loss: 0.1436, Mean Dice: 0.8535\n"
     ]
    },
    {
     "name": "stderr",
     "output_type": "stream",
     "text": [
      "Validation Epoch 223: 100%|██████████| 5/5 [00:00<00:00,  6.33batch/s, loss=0.107]\n"
     ]
    },
    {
     "name": "stdout",
     "output_type": "stream",
     "text": [
      "[Validation] Epoch 223: Loss: 0.1883, Mean Dice: 0.7517\n",
      "Early stopping triggered\n"
     ]
    },
    {
     "name": "stderr",
     "output_type": "stream",
     "text": [
      "Training Epoch 224: 100%|██████████| 38/38 [00:07<00:00,  4.99batch/s, loss=0.0822]\n"
     ]
    },
    {
     "name": "stdout",
     "output_type": "stream",
     "text": [
      "[Training] Epoch 224: Loss: 0.1411, Mean Dice: 0.7160\n"
     ]
    },
    {
     "name": "stderr",
     "output_type": "stream",
     "text": [
      "Validation Epoch 224: 100%|██████████| 5/5 [00:00<00:00,  6.30batch/s, loss=0.107]\n"
     ]
    },
    {
     "name": "stdout",
     "output_type": "stream",
     "text": [
      "[Validation] Epoch 224: Loss: 0.1851, Mean Dice: 0.7470\n",
      "Early stopping triggered\n"
     ]
    },
    {
     "name": "stderr",
     "output_type": "stream",
     "text": [
      "Training Epoch 225: 100%|██████████| 38/38 [00:07<00:00,  4.78batch/s, loss=0.376] \n"
     ]
    },
    {
     "name": "stdout",
     "output_type": "stream",
     "text": [
      "[Training] Epoch 225: Loss: 0.1396, Mean Dice: 0.7505\n"
     ]
    },
    {
     "name": "stderr",
     "output_type": "stream",
     "text": [
      "Validation Epoch 225: 100%|██████████| 5/5 [00:00<00:00,  6.72batch/s, loss=0.107]\n"
     ]
    },
    {
     "name": "stdout",
     "output_type": "stream",
     "text": [
      "[Validation] Epoch 225: Loss: 0.1955, Mean Dice: 0.7568\n",
      "Early stopping triggered\n"
     ]
    },
    {
     "name": "stderr",
     "output_type": "stream",
     "text": [
      "Training Epoch 226: 100%|██████████| 38/38 [00:07<00:00,  4.98batch/s, loss=0.201] \n"
     ]
    },
    {
     "name": "stdout",
     "output_type": "stream",
     "text": [
      "[Training] Epoch 226: Loss: 0.1424, Mean Dice: 0.7227\n"
     ]
    },
    {
     "name": "stderr",
     "output_type": "stream",
     "text": [
      "Validation Epoch 226: 100%|██████████| 5/5 [00:00<00:00,  6.64batch/s, loss=0.107]\n"
     ]
    },
    {
     "name": "stdout",
     "output_type": "stream",
     "text": [
      "[Validation] Epoch 226: Loss: 0.1839, Mean Dice: 0.7496\n",
      "Early stopping triggered\n"
     ]
    },
    {
     "name": "stderr",
     "output_type": "stream",
     "text": [
      "Training Epoch 227: 100%|██████████| 38/38 [00:07<00:00,  4.99batch/s, loss=0.239]\n"
     ]
    },
    {
     "name": "stdout",
     "output_type": "stream",
     "text": [
      "[Training] Epoch 227: Loss: 0.1447, Mean Dice: 0.8305\n"
     ]
    },
    {
     "name": "stderr",
     "output_type": "stream",
     "text": [
      "Validation Epoch 227: 100%|██████████| 5/5 [00:00<00:00,  6.14batch/s, loss=0.116]\n"
     ]
    },
    {
     "name": "stdout",
     "output_type": "stream",
     "text": [
      "[Validation] Epoch 227: Loss: 0.1884, Mean Dice: 0.7480\n",
      "Early stopping triggered\n"
     ]
    },
    {
     "name": "stderr",
     "output_type": "stream",
     "text": [
      "Training Epoch 228: 100%|██████████| 38/38 [00:07<00:00,  4.95batch/s, loss=0.111] \n"
     ]
    },
    {
     "name": "stdout",
     "output_type": "stream",
     "text": [
      "[Training] Epoch 228: Loss: 0.1406, Mean Dice: 0.8317\n"
     ]
    },
    {
     "name": "stderr",
     "output_type": "stream",
     "text": [
      "Validation Epoch 228: 100%|██████████| 5/5 [00:00<00:00,  6.69batch/s, loss=0.112]\n"
     ]
    },
    {
     "name": "stdout",
     "output_type": "stream",
     "text": [
      "[Validation] Epoch 228: Loss: 0.1993, Mean Dice: 0.7688\n",
      "Early stopping triggered\n"
     ]
    },
    {
     "name": "stderr",
     "output_type": "stream",
     "text": [
      "Training Epoch 229: 100%|██████████| 38/38 [00:07<00:00,  5.00batch/s, loss=0.179]\n"
     ]
    },
    {
     "name": "stdout",
     "output_type": "stream",
     "text": [
      "[Training] Epoch 229: Loss: 0.1408, Mean Dice: 0.9005\n"
     ]
    },
    {
     "name": "stderr",
     "output_type": "stream",
     "text": [
      "Validation Epoch 229: 100%|██████████| 5/5 [00:00<00:00,  6.74batch/s, loss=0.109]\n"
     ]
    },
    {
     "name": "stdout",
     "output_type": "stream",
     "text": [
      "[Validation] Epoch 229: Loss: 0.1816, Mean Dice: 0.7544\n",
      "Early stopping triggered\n"
     ]
    },
    {
     "name": "stderr",
     "output_type": "stream",
     "text": [
      "Training Epoch 230: 100%|██████████| 38/38 [00:07<00:00,  5.01batch/s, loss=0.111]\n"
     ]
    },
    {
     "name": "stdout",
     "output_type": "stream",
     "text": [
      "[Training] Epoch 230: Loss: 0.1416, Mean Dice: 0.8334\n"
     ]
    },
    {
     "name": "stderr",
     "output_type": "stream",
     "text": [
      "Validation Epoch 230: 100%|██████████| 5/5 [00:00<00:00,  5.71batch/s, loss=0.111]\n"
     ]
    },
    {
     "name": "stdout",
     "output_type": "stream",
     "text": [
      "[Validation] Epoch 230: Loss: 0.1862, Mean Dice: 0.7474\n",
      "Early stopping triggered\n"
     ]
    },
    {
     "name": "stderr",
     "output_type": "stream",
     "text": [
      "Training Epoch 231: 100%|██████████| 38/38 [00:07<00:00,  4.86batch/s, loss=0.152] \n"
     ]
    },
    {
     "name": "stdout",
     "output_type": "stream",
     "text": [
      "[Training] Epoch 231: Loss: 0.1413, Mean Dice: 0.7207\n"
     ]
    },
    {
     "name": "stderr",
     "output_type": "stream",
     "text": [
      "Validation Epoch 231: 100%|██████████| 5/5 [00:00<00:00,  6.49batch/s, loss=0.114]\n"
     ]
    },
    {
     "name": "stdout",
     "output_type": "stream",
     "text": [
      "[Validation] Epoch 231: Loss: 0.1887, Mean Dice: 0.7503\n",
      "Early stopping triggered\n"
     ]
    },
    {
     "name": "stderr",
     "output_type": "stream",
     "text": [
      "Training Epoch 232: 100%|██████████| 38/38 [00:07<00:00,  4.99batch/s, loss=0.0958]\n"
     ]
    },
    {
     "name": "stdout",
     "output_type": "stream",
     "text": [
      "[Training] Epoch 232: Loss: 0.1418, Mean Dice: 0.8615\n"
     ]
    },
    {
     "name": "stderr",
     "output_type": "stream",
     "text": [
      "Validation Epoch 232: 100%|██████████| 5/5 [00:00<00:00,  6.67batch/s, loss=0.106]\n"
     ]
    },
    {
     "name": "stdout",
     "output_type": "stream",
     "text": [
      "[Validation] Epoch 232: Loss: 0.1827, Mean Dice: 0.6788\n",
      "Early stopping triggered\n"
     ]
    },
    {
     "name": "stderr",
     "output_type": "stream",
     "text": [
      "Training Epoch 233: 100%|██████████| 38/38 [00:07<00:00,  4.96batch/s, loss=0.0824]\n"
     ]
    },
    {
     "name": "stdout",
     "output_type": "stream",
     "text": [
      "[Training] Epoch 233: Loss: 0.1438, Mean Dice: 0.7733\n"
     ]
    },
    {
     "name": "stderr",
     "output_type": "stream",
     "text": [
      "Validation Epoch 233: 100%|██████████| 5/5 [00:00<00:00,  6.35batch/s, loss=0.107]\n"
     ]
    },
    {
     "name": "stdout",
     "output_type": "stream",
     "text": [
      "[Validation] Epoch 233: Loss: 0.1906, Mean Dice: 0.7445\n",
      "Early stopping triggered\n"
     ]
    },
    {
     "name": "stderr",
     "output_type": "stream",
     "text": [
      "Training Epoch 234: 100%|██████████| 38/38 [00:07<00:00,  5.05batch/s, loss=0.209] \n"
     ]
    },
    {
     "name": "stdout",
     "output_type": "stream",
     "text": [
      "[Training] Epoch 234: Loss: 0.1383, Mean Dice: 0.8717\n"
     ]
    },
    {
     "name": "stderr",
     "output_type": "stream",
     "text": [
      "Validation Epoch 234: 100%|██████████| 5/5 [00:00<00:00,  6.27batch/s, loss=0.108]\n"
     ]
    },
    {
     "name": "stdout",
     "output_type": "stream",
     "text": [
      "[Validation] Epoch 234: Loss: 0.1830, Mean Dice: 0.7581\n",
      "Early stopping triggered\n"
     ]
    },
    {
     "name": "stderr",
     "output_type": "stream",
     "text": [
      "Training Epoch 235: 100%|██████████| 38/38 [00:07<00:00,  4.96batch/s, loss=0.0859]\n"
     ]
    },
    {
     "name": "stdout",
     "output_type": "stream",
     "text": [
      "[Training] Epoch 235: Loss: 0.1441, Mean Dice: 0.7384\n"
     ]
    },
    {
     "name": "stderr",
     "output_type": "stream",
     "text": [
      "Validation Epoch 235: 100%|██████████| 5/5 [00:00<00:00,  6.21batch/s, loss=0.116]\n"
     ]
    },
    {
     "name": "stdout",
     "output_type": "stream",
     "text": [
      "[Validation] Epoch 235: Loss: 0.1940, Mean Dice: 0.7366\n",
      "Early stopping triggered\n"
     ]
    },
    {
     "name": "stderr",
     "output_type": "stream",
     "text": [
      "Training Epoch 236: 100%|██████████| 38/38 [00:07<00:00,  4.98batch/s, loss=0.26]  \n"
     ]
    },
    {
     "name": "stdout",
     "output_type": "stream",
     "text": [
      "[Training] Epoch 236: Loss: 0.1418, Mean Dice: 0.8620\n"
     ]
    },
    {
     "name": "stderr",
     "output_type": "stream",
     "text": [
      "Validation Epoch 236: 100%|██████████| 5/5 [00:00<00:00,  6.61batch/s, loss=0.106]\n"
     ]
    },
    {
     "name": "stdout",
     "output_type": "stream",
     "text": [
      "[Validation] Epoch 236: Loss: 0.1959, Mean Dice: 0.7507\n",
      "Early stopping triggered\n"
     ]
    },
    {
     "name": "stderr",
     "output_type": "stream",
     "text": [
      "Training Epoch 237: 100%|██████████| 38/38 [00:07<00:00,  5.04batch/s, loss=0.0946]\n"
     ]
    },
    {
     "name": "stdout",
     "output_type": "stream",
     "text": [
      "[Training] Epoch 237: Loss: 0.1406, Mean Dice: 0.6974\n"
     ]
    },
    {
     "name": "stderr",
     "output_type": "stream",
     "text": [
      "Validation Epoch 237: 100%|██████████| 5/5 [00:00<00:00,  6.05batch/s, loss=0.108]\n"
     ]
    },
    {
     "name": "stdout",
     "output_type": "stream",
     "text": [
      "[Validation] Epoch 237: Loss: 0.1839, Mean Dice: 0.7876\n",
      "Early stopping triggered\n"
     ]
    },
    {
     "name": "stderr",
     "output_type": "stream",
     "text": [
      "Training Epoch 238: 100%|██████████| 38/38 [00:07<00:00,  4.81batch/s, loss=0.0993]\n"
     ]
    },
    {
     "name": "stdout",
     "output_type": "stream",
     "text": [
      "[Training] Epoch 238: Loss: 0.1383, Mean Dice: 0.8720\n"
     ]
    },
    {
     "name": "stderr",
     "output_type": "stream",
     "text": [
      "Validation Epoch 238: 100%|██████████| 5/5 [00:00<00:00,  6.79batch/s, loss=0.104]\n"
     ]
    },
    {
     "name": "stdout",
     "output_type": "stream",
     "text": [
      "[Validation] Epoch 238: Loss: 0.1790, Mean Dice: 0.7739\n",
      "Early stopping triggered\n"
     ]
    },
    {
     "name": "stderr",
     "output_type": "stream",
     "text": [
      "Training Epoch 239: 100%|██████████| 38/38 [00:07<00:00,  5.03batch/s, loss=0.0862]\n"
     ]
    },
    {
     "name": "stdout",
     "output_type": "stream",
     "text": [
      "[Training] Epoch 239: Loss: 0.1392, Mean Dice: 0.7076\n"
     ]
    },
    {
     "name": "stderr",
     "output_type": "stream",
     "text": [
      "Validation Epoch 239: 100%|██████████| 5/5 [00:00<00:00,  6.58batch/s, loss=0.109]\n"
     ]
    },
    {
     "name": "stdout",
     "output_type": "stream",
     "text": [
      "[Validation] Epoch 239: Loss: 0.1845, Mean Dice: 0.7586\n",
      "Early stopping triggered\n"
     ]
    },
    {
     "name": "stderr",
     "output_type": "stream",
     "text": [
      "Training Epoch 240: 100%|██████████| 38/38 [00:07<00:00,  4.92batch/s, loss=0.0876]\n"
     ]
    },
    {
     "name": "stdout",
     "output_type": "stream",
     "text": [
      "[Training] Epoch 240: Loss: 0.1363, Mean Dice: 0.8684\n"
     ]
    },
    {
     "name": "stderr",
     "output_type": "stream",
     "text": [
      "Validation Epoch 240: 100%|██████████| 5/5 [00:00<00:00,  5.74batch/s, loss=0.108]\n"
     ]
    },
    {
     "name": "stdout",
     "output_type": "stream",
     "text": [
      "[Validation] Epoch 240: Loss: 0.1902, Mean Dice: 0.7710\n",
      "Early stopping triggered\n"
     ]
    },
    {
     "name": "stderr",
     "output_type": "stream",
     "text": [
      "Training Epoch 241: 100%|██████████| 38/38 [00:07<00:00,  4.95batch/s, loss=0.136] \n"
     ]
    },
    {
     "name": "stdout",
     "output_type": "stream",
     "text": [
      "[Training] Epoch 241: Loss: 0.1420, Mean Dice: 0.8490\n"
     ]
    },
    {
     "name": "stderr",
     "output_type": "stream",
     "text": [
      "Validation Epoch 241: 100%|██████████| 5/5 [00:00<00:00,  6.53batch/s, loss=0.107]\n"
     ]
    },
    {
     "name": "stdout",
     "output_type": "stream",
     "text": [
      "[Validation] Epoch 241: Loss: 0.1885, Mean Dice: 0.7208\n",
      "Early stopping triggered\n"
     ]
    },
    {
     "name": "stderr",
     "output_type": "stream",
     "text": [
      "Training Epoch 242: 100%|██████████| 38/38 [00:07<00:00,  5.00batch/s, loss=0.15]  \n"
     ]
    },
    {
     "name": "stdout",
     "output_type": "stream",
     "text": [
      "[Training] Epoch 242: Loss: 0.1399, Mean Dice: 0.7911\n"
     ]
    },
    {
     "name": "stderr",
     "output_type": "stream",
     "text": [
      "Validation Epoch 242: 100%|██████████| 5/5 [00:00<00:00,  6.61batch/s, loss=0.121]\n"
     ]
    },
    {
     "name": "stdout",
     "output_type": "stream",
     "text": [
      "[Validation] Epoch 242: Loss: 0.1986, Mean Dice: 0.8032\n",
      "Early stopping triggered\n"
     ]
    },
    {
     "name": "stderr",
     "output_type": "stream",
     "text": [
      "Training Epoch 243: 100%|██████████| 38/38 [00:07<00:00,  5.02batch/s, loss=0.0859]\n"
     ]
    },
    {
     "name": "stdout",
     "output_type": "stream",
     "text": [
      "[Training] Epoch 243: Loss: 0.1394, Mean Dice: 0.7610\n"
     ]
    },
    {
     "name": "stderr",
     "output_type": "stream",
     "text": [
      "Validation Epoch 243: 100%|██████████| 5/5 [00:00<00:00,  5.95batch/s, loss=0.107]\n"
     ]
    },
    {
     "name": "stdout",
     "output_type": "stream",
     "text": [
      "[Validation] Epoch 243: Loss: 0.1875, Mean Dice: 0.7603\n",
      "Early stopping triggered\n"
     ]
    },
    {
     "name": "stderr",
     "output_type": "stream",
     "text": [
      "Training Epoch 244: 100%|██████████| 38/38 [00:07<00:00,  4.82batch/s, loss=0.2]   \n"
     ]
    },
    {
     "name": "stdout",
     "output_type": "stream",
     "text": [
      "[Training] Epoch 244: Loss: 0.1396, Mean Dice: 0.8010\n"
     ]
    },
    {
     "name": "stderr",
     "output_type": "stream",
     "text": [
      "Validation Epoch 244: 100%|██████████| 5/5 [00:00<00:00,  6.67batch/s, loss=0.11] \n"
     ]
    },
    {
     "name": "stdout",
     "output_type": "stream",
     "text": [
      "[Validation] Epoch 244: Loss: 0.1888, Mean Dice: 0.7477\n",
      "Early stopping triggered\n"
     ]
    },
    {
     "name": "stderr",
     "output_type": "stream",
     "text": [
      "Training Epoch 245: 100%|██████████| 38/38 [00:07<00:00,  4.96batch/s, loss=0.0989]\n"
     ]
    },
    {
     "name": "stdout",
     "output_type": "stream",
     "text": [
      "[Training] Epoch 245: Loss: 0.1381, Mean Dice: 0.7866\n"
     ]
    },
    {
     "name": "stderr",
     "output_type": "stream",
     "text": [
      "Validation Epoch 245: 100%|██████████| 5/5 [00:00<00:00,  6.49batch/s, loss=0.104]\n"
     ]
    },
    {
     "name": "stdout",
     "output_type": "stream",
     "text": [
      "[Validation] Epoch 245: Loss: 0.1812, Mean Dice: 0.7458\n",
      "Early stopping triggered\n"
     ]
    },
    {
     "name": "stderr",
     "output_type": "stream",
     "text": [
      "Training Epoch 246: 100%|██████████| 38/38 [00:07<00:00,  5.00batch/s, loss=0.144]\n"
     ]
    },
    {
     "name": "stdout",
     "output_type": "stream",
     "text": [
      "[Training] Epoch 246: Loss: 0.1382, Mean Dice: 0.7337\n"
     ]
    },
    {
     "name": "stderr",
     "output_type": "stream",
     "text": [
      "Validation Epoch 246: 100%|██████████| 5/5 [00:00<00:00,  6.53batch/s, loss=0.107]\n"
     ]
    },
    {
     "name": "stdout",
     "output_type": "stream",
     "text": [
      "[Validation] Epoch 246: Loss: 0.1865, Mean Dice: 0.7969\n",
      "Early stopping triggered\n"
     ]
    },
    {
     "name": "stderr",
     "output_type": "stream",
     "text": [
      "Training Epoch 247: 100%|██████████| 38/38 [00:07<00:00,  5.05batch/s, loss=0.203] \n"
     ]
    },
    {
     "name": "stdout",
     "output_type": "stream",
     "text": [
      "[Training] Epoch 247: Loss: 0.1442, Mean Dice: 0.8086\n"
     ]
    },
    {
     "name": "stderr",
     "output_type": "stream",
     "text": [
      "Validation Epoch 247: 100%|██████████| 5/5 [00:00<00:00,  6.75batch/s, loss=0.113]\n"
     ]
    },
    {
     "name": "stdout",
     "output_type": "stream",
     "text": [
      "[Validation] Epoch 247: Loss: 0.2013, Mean Dice: 0.7257\n",
      "Early stopping triggered\n"
     ]
    },
    {
     "name": "stderr",
     "output_type": "stream",
     "text": [
      "Training Epoch 248: 100%|██████████| 38/38 [00:07<00:00,  4.96batch/s, loss=0.157] \n"
     ]
    },
    {
     "name": "stdout",
     "output_type": "stream",
     "text": [
      "[Training] Epoch 248: Loss: 0.1418, Mean Dice: 0.8165\n"
     ]
    },
    {
     "name": "stderr",
     "output_type": "stream",
     "text": [
      "Validation Epoch 248: 100%|██████████| 5/5 [00:00<00:00,  6.62batch/s, loss=0.11] \n"
     ]
    },
    {
     "name": "stdout",
     "output_type": "stream",
     "text": [
      "[Validation] Epoch 248: Loss: 0.1907, Mean Dice: 0.7438\n",
      "Early stopping triggered\n"
     ]
    },
    {
     "name": "stderr",
     "output_type": "stream",
     "text": [
      "Training Epoch 249: 100%|██████████| 38/38 [00:07<00:00,  4.95batch/s, loss=0.176] \n"
     ]
    },
    {
     "name": "stdout",
     "output_type": "stream",
     "text": [
      "[Training] Epoch 249: Loss: 0.1357, Mean Dice: 0.8704\n"
     ]
    },
    {
     "name": "stderr",
     "output_type": "stream",
     "text": [
      "Validation Epoch 249: 100%|██████████| 5/5 [00:00<00:00,  6.80batch/s, loss=0.107]\n"
     ]
    },
    {
     "name": "stdout",
     "output_type": "stream",
     "text": [
      "[Validation] Epoch 249: Loss: 0.1843, Mean Dice: 0.7036\n",
      "Early stopping triggered\n"
     ]
    },
    {
     "name": "stderr",
     "output_type": "stream",
     "text": [
      "Training Epoch 250: 100%|██████████| 38/38 [00:07<00:00,  4.85batch/s, loss=0.225]\n"
     ]
    },
    {
     "name": "stdout",
     "output_type": "stream",
     "text": [
      "[Training] Epoch 250: Loss: 0.1383, Mean Dice: 0.7199\n"
     ]
    },
    {
     "name": "stderr",
     "output_type": "stream",
     "text": [
      "Validation Epoch 250: 100%|██████████| 5/5 [00:00<00:00,  6.04batch/s, loss=0.107]\n"
     ]
    },
    {
     "name": "stdout",
     "output_type": "stream",
     "text": [
      "[Validation] Epoch 250: Loss: 0.1978, Mean Dice: 0.7745\n",
      "Early stopping triggered\n"
     ]
    },
    {
     "data": {
      "text/html": [
       "\n",
       "    <style>\n",
       "        .wandb-row {\n",
       "            display: flex;\n",
       "            flex-direction: row;\n",
       "            flex-wrap: wrap;\n",
       "            justify-content: flex-start;\n",
       "            width: 100%;\n",
       "        }\n",
       "        .wandb-col {\n",
       "            display: flex;\n",
       "            flex-direction: column;\n",
       "            flex-basis: 100%;\n",
       "            flex: 1;\n",
       "            padding: 10px;\n",
       "        }\n",
       "    </style>\n",
       "<div class=\"wandb-row\"><div class=\"wandb-col\"><h3>Run history:</h3><br/><table class=\"wandb\"><tr><td>epoch</td><td>▁▁▁▁▁▂▂▂▂▃▃▃▄▄▄▄▄▄▄▄▅▅▅▅▅▅▅▆▆▆▆▆▇▇▇▇▇▇▇█</td></tr><tr><td>train_dice</td><td>▁▆▅▆▅▆▅▆▆▆▅▆▇▆▇▇▆▇▇▇▇▇▇█▆█▇▇▇▆█▆█▇▇▆▇█▇▆</td></tr><tr><td>train_dice_class_0</td><td>▁▃▄▆▅▆▇▇▇▇▇▇▇▇▇▇▇▇▇██▇██▇████▇███████▇██</td></tr><tr><td>train_dice_class_1</td><td>▁▂▂▂▃▄▄▃▄▄▃▄▄▄▅▄▆▅▆▆▆▆▇▆▇▃█▇▇▆▇▆▇▇▃▇▇▆▆▅</td></tr><tr><td>train_dice_class_2</td><td>▃▃▃▄▅▅▅▆▆▆▆▇▇▇▇▇▇▇▇██▁▇▇▇███████████████</td></tr><tr><td>train_dice_class_3</td><td>▁▄▄▅▅▆▆▆▆▆▆▆▆▇▇▆▇▇▇▇▇▇▇▇▇▇███▇▇▇▇▇██▇███</td></tr><tr><td>train_dice_class_4</td><td>▂▂▁▄▅▅▅▅▆▆▆▆▆▆▇▆▅▅▆▇▇█▆▅▆▆▇▇▆▆▇▇▇▇▇▆▇▇▆▇</td></tr><tr><td>train_dice_class_5</td><td>▁▁▁▂▄▆▅▅▅▇▆▇▆▁▆▅▇▇▅▅▇▇█▆▅▆▇▄▆█▁▇▄▄██▇█▁▂</td></tr><tr><td>train_dice_class_6</td><td>▂▂▃▅▆▆▆▆▆█▇▇▇▆▂▃▇▇▃▁▇▁▂▇▇▇█▇█▇▇▇████▂█▅▂</td></tr><tr><td>train_dice_class_7</td><td>▁▂▃▄▁▆▆▆▆▆▆▇▇▇▆▅▇▇█▇▇▇▇▃▅▆▆█▃▆▆▆▅▇▇▇▇▇█▇</td></tr><tr><td>train_loss</td><td>█▅▄▄▃▃▃▃▃▃▂▂▂▂▂▂▂▂▂▂▁▁▁▁▁▁▁▁▁▁▁▁▁▁▁▁▁▁▁▁</td></tr><tr><td>val_dice_class_0</td><td>▁▅▆▇▇▇▆▇▇▇▇█▇▇▇▇▇▇▇██▇██▇▇▇▇███▇▇██████▇</td></tr><tr><td>val_dice_class_1</td><td>▁▃▄▆▆▆▆▆▇▇▇▇█▇▇▇█▇████▇█▇█▇▇▇▇▇▇▇██▇▇▇▇█</td></tr><tr><td>val_dice_class_2</td><td>▁▃▆▆▆▆▇▇▇▇▇███▇▇█████▇████████▇█████████</td></tr><tr><td>val_dice_class_3</td><td>▁▁▂▄▄▅▆▆▇▅▆▆▇▆▇▇▇▆▆▅▆▇▆▇▇▇▆▆▆▆▆█▇▇▇▆▇▇▆▇</td></tr><tr><td>val_dice_class_4</td><td>▁▃▆▅▇▇▇▆▇▆█▇▇█▇▇▇▆▇███▇██▇█▇▇▇██▇▇██▇▇▇▇</td></tr><tr><td>val_dice_class_5</td><td>▇▄▅▁▆▆▅▇▆▆▆▇▇▆▇▅▇▆▅▇▇▇█▇▇▆▇▂▇▂▇▁▅█▇▇▇▆▆▆</td></tr><tr><td>val_dice_class_6</td><td>▃▄▄▅▅▅▇▇▆▅▇▆▆▆█▇▆▇▆▆▆▆▇▄▁▆▆▆▆▆▆▆▆▆▅▆▆▆▆▆</td></tr><tr><td>val_dice_class_7</td><td>▁▁▅▆▃▇▇██▇▇▇▇▆▇▇▆█▇▇▆▆▆▆▆▇▆▇▇▆▇▆▇▇▇▇▆▇▆▆</td></tr><tr><td>validation_dice</td><td>▁▂▂▃▇▇▇█▇▇▇▇█▇█████▇███▇██▇▇▇████████▇▇█</td></tr><tr><td>validation_loss</td><td>█▅▃▃▂▂▁▂▁▁▁▁▁▁▁▁▁▁▁▁▁▁▁▁▁▁▁▁▁▁▁▁▁▁▁▁▁▁▁▁</td></tr></table><br/></div><div class=\"wandb-col\"><h3>Run summary:</h3><br/><table class=\"wandb\"><tr><td>epoch</td><td>250</td></tr><tr><td>train_dice</td><td>0.71988</td></tr><tr><td>train_dice_class_0</td><td>0.97721</td></tr><tr><td>train_dice_class_1</td><td>0.68593</td></tr><tr><td>train_dice_class_2</td><td>0.71965</td></tr><tr><td>train_dice_class_3</td><td>0.8816</td></tr><tr><td>train_dice_class_4</td><td>0.91291</td></tr><tr><td>train_dice_class_5</td><td>0.74278</td></tr><tr><td>train_dice_class_6</td><td>0.15769</td></tr><tr><td>train_dice_class_7</td><td>0.68124</td></tr><tr><td>train_loss</td><td>0.1383</td></tr><tr><td>val_dice_class_0</td><td>0.95007</td></tr><tr><td>val_dice_class_1</td><td>0.68349</td></tr><tr><td>val_dice_class_2</td><td>0.65025</td></tr><tr><td>val_dice_class_3</td><td>0.85522</td></tr><tr><td>val_dice_class_4</td><td>0.79487</td></tr><tr><td>val_dice_class_5</td><td>0.91453</td></tr><tr><td>val_dice_class_6</td><td>0.6984</td></tr><tr><td>val_dice_class_7</td><td>0.64918</td></tr><tr><td>validation_dice</td><td>0.7745</td></tr><tr><td>validation_loss</td><td>0.1978</td></tr></table><br/></div></div>"
      ],
      "text/plain": [
       "<IPython.core.display.HTML object>"
      ]
     },
     "metadata": {},
     "output_type": "display_data"
    },
    {
     "data": {
      "text/html": [
       " View run <strong style=\"color:#cdcd00\">olive-snow-64</strong> at: <a href='https://wandb.ai/anikethvij-personal/FETA-model-training/runs/ji7ndcno' target=\"_blank\">https://wandb.ai/anikethvij-personal/FETA-model-training/runs/ji7ndcno</a><br/> View project at: <a href='https://wandb.ai/anikethvij-personal/FETA-model-training' target=\"_blank\">https://wandb.ai/anikethvij-personal/FETA-model-training</a><br/>Synced 5 W&B file(s), 0 media file(s), 0 artifact file(s) and 0 other file(s)"
      ],
      "text/plain": [
       "<IPython.core.display.HTML object>"
      ]
     },
     "metadata": {},
     "output_type": "display_data"
    },
    {
     "data": {
      "text/html": [
       "Find logs at: <code>./wandb/run-20241211_163552-ji7ndcno/logs</code>"
      ],
      "text/plain": [
       "<IPython.core.display.HTML object>"
      ]
     },
     "metadata": {},
     "output_type": "display_data"
    }
   ],
   "source": [
    "max_epochs = 250\n",
    "early_stopping = EarlyStopping(patience=15, min_delta=0.0001)\n",
    "global_step = 0\n",
    "dice_val_best = 0.0\n",
    "global_step_best = 0\n",
    "# Training Loop\n",
    "for epoch in range(max_epochs):\n",
    "    global_step, dice_val_best, global_step_best, stop_training = train(\n",
    "        model, \n",
    "        global_step, \n",
    "        train_loader, \n",
    "        val_loader, \n",
    "        loss_function, \n",
    "        optimizer, \n",
    "        device,\n",
    "        dice_val_best, \n",
    "        global_step_best, \n",
    "        epoch, \n",
    "        early_stopping\n",
    "    )\n",
    "    \n",
    "    if stop_training:\n",
    "        break\n",
    "# Finish Wandb logging\n",
    "wandb.finish()"
   ]
  },
  {
   "cell_type": "code",
   "execution_count": null,
   "id": "5021eb98",
   "metadata": {},
   "outputs": [],
   "source": []
  }
 ],
 "metadata": {
  "kernelspec": {
   "display_name": "Python [conda env:monai]",
   "language": "python",
   "name": "conda-env-monai-py"
  },
  "language_info": {
   "codemirror_mode": {
    "name": "ipython",
    "version": 3
   },
   "file_extension": ".py",
   "mimetype": "text/x-python",
   "name": "python",
   "nbconvert_exporter": "python",
   "pygments_lexer": "ipython3",
   "version": "3.8.5"
  }
 },
 "nbformat": 4,
 "nbformat_minor": 5
}
